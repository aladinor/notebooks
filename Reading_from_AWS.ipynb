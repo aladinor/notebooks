{
 "cells": [
  {
   "cell_type": "code",
   "execution_count": 33,
   "id": "2174ede4",
   "metadata": {},
   "outputs": [],
   "source": [
    "import pyart \n",
    "import xarray as xr\n",
    "import fsspec"
   ]
  },
  {
   "cell_type": "code",
   "execution_count": 36,
   "id": "37b38b59",
   "metadata": {},
   "outputs": [],
   "source": [
    "bucket = 's3://s3-radaresideam/'\n",
    "filename = f\"{bucket}l2_data/2022/10/06/Guaviare/GUA221006000012.RAWHDKV\""
   ]
  },
  {
   "cell_type": "code",
   "execution_count": 37,
   "id": "263d95a3",
   "metadata": {},
   "outputs": [],
   "source": [
    "mapper = fsspec.get_mapper(bucket)\n",
    "of = pyart.io.prepare_for_read(filename, storage_options={'anon': True})\n"
   ]
  },
  {
   "cell_type": "code",
   "execution_count": 29,
   "id": "6731503b",
   "metadata": {},
   "outputs": [
    {
     "name": "stderr",
     "output_type": "stream",
     "text": [
      "/home/alfonso/anaconda3/envs/radar/lib/python3.9/site-packages/pyart/io/sigmet.py:131: RuntimeWarning: invalid value encountered in sqrt\n",
      "  sigmet_data, sigmet_metadata = sigmetfile.read_data(full_xhdr=full_xhdr)\n"
     ]
    }
   ],
   "source": [
    "with of as f:\n",
    "    radar = pyart.io.read(f)"
   ]
  },
  {
   "cell_type": "code",
   "execution_count": 31,
   "id": "96ab828b",
   "metadata": {},
   "outputs": [
    {
     "data": {
      "text/plain": [
       "<pyart.core.radar.Radar at 0x7f9756ce5be0>"
      ]
     },
     "execution_count": 31,
     "metadata": {},
     "output_type": "execute_result"
    }
   ],
   "source": [
    "radar"
   ]
  },
  {
   "cell_type": "code",
   "execution_count": null,
   "id": "c0d8e86a",
   "metadata": {},
   "outputs": [],
   "source": []
  }
 ],
 "metadata": {
  "kernelspec": {
   "display_name": "Python 3 (ipykernel)",
   "language": "python",
   "name": "python3"
  },
  "language_info": {
   "codemirror_mode": {
    "name": "ipython",
    "version": 3
   },
   "file_extension": ".py",
   "mimetype": "text/x-python",
   "name": "python",
   "nbconvert_exporter": "python",
   "pygments_lexer": "ipython3",
   "version": "3.9.13"
  }
 },
 "nbformat": 4,
 "nbformat_minor": 5
}
