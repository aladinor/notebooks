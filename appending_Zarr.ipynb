{
 "cells": [
  {
   "cell_type": "markdown",
   "id": "7441316d-dbd9-44c3-ab73-fdbe7a13820b",
   "metadata": {},
   "source": [
    "# Imports"
   ]
  },
  {
   "cell_type": "code",
   "execution_count": 1,
   "id": "acc8e794-ffd5-4fc6-b6bb-a0bd4d6b974e",
   "metadata": {
    "tags": []
   },
   "outputs": [],
   "source": [
    "import xarray as xr\n",
    "import datatree\n",
    "import matplotlib.pyplot as plt\n",
    "from dask.distributed import Client, LocalCluster"
   ]
  },
  {
   "cell_type": "code",
   "execution_count": 2,
   "id": "54b0f5a2-1ac2-42a6-8288-2638346cf68a",
   "metadata": {},
   "outputs": [],
   "source": [
    "# cluster = LocalCluster()  \n",
    "# client = Client(cluster)\n",
    "# cluster"
   ]
  },
  {
   "cell_type": "markdown",
   "id": "1d3c5ebd-2bec-42f7-9543-322b418a417a",
   "metadata": {},
   "source": [
    "# 1. Radar data\n",
    "Radar data is stored in `xarray datatree` structure using ARCO format. We can access all `sweeps` and all `variables` (dual polarization) by using `datatree.open_datatree` method. We converted three days of continuous radar data from Barrancabermeja radar (04-06-2023 to 04-08-2023)"
   ]
  },
  {
   "cell_type": "code",
   "execution_count": 3,
   "id": "7778a715-b62b-4b85-a90d-fd4a62c410cc",
   "metadata": {
    "tags": []
   },
   "outputs": [],
   "source": [
    "path = '/data/keeling/a/alfonso8/gpm/zarr/BAR.zarr'"
   ]
  },
  {
   "cell_type": "code",
   "execution_count": 4,
   "id": "e9fae323-f6b7-43e8-819d-8c04715b3931",
   "metadata": {},
   "outputs": [
    {
     "name": "stdout",
     "output_type": "stream",
     "text": [
      "sweep_0  sweep_2  sweep_4  sweep_6  sweep_8\n",
      "sweep_1  sweep_3  sweep_5  sweep_7  sweep_9\n"
     ]
    }
   ],
   "source": [
    "!ls '/data/keeling/a/alfonso8/gpm/zarr/BAR.zarr/'"
   ]
  },
  {
   "cell_type": "code",
   "execution_count": 5,
   "id": "29ea73b5-d419-4b97-be4d-a7701fce89d1",
   "metadata": {
    "tags": []
   },
   "outputs": [
    {
     "name": "stderr",
     "output_type": "stream",
     "text": [
      "/data/keeling/a/alfonso8/miniconda3/envs/xradar/lib/python3.10/site-packages/tqdm/auto.py:21: TqdmWarning: IProgress not found. Please update jupyter and ipywidgets. See https://ipywidgets.readthedocs.io/en/stable/user_install.html\n",
      "  from .autonotebook import tqdm as notebook_tqdm\n"
     ]
    },
    {
     "name": "stdout",
     "output_type": "stream",
     "text": [
      "CPU times: user 1.88 s, sys: 1.28 s, total: 3.16 s\n",
      "Wall time: 8.81 s\n"
     ]
    }
   ],
   "source": [
    "%%time\n",
    "dt = datatree.open_datatree(path, engine='zarr', consolidated=True)"
   ]
  },
  {
   "cell_type": "code",
   "execution_count": null,
   "id": "a9b1ed22-ce14-47da-a797-b3dbd355cecc",
   "metadata": {},
   "outputs": [],
   "source": [
    "dt"
   ]
  },
  {
   "cell_type": "code",
   "execution_count": 6,
   "id": "cd103c4f-19c4-4a19-ba87-69b17a748fe2",
   "metadata": {},
   "outputs": [
    {
     "data": {
      "text/plain": [
       "numpy.datetime64('2023-04-06T00:00:22.709000000')"
      ]
     },
     "execution_count": 6,
     "metadata": {},
     "output_type": "execute_result"
    }
   ],
   "source": [
    "dt['sweep_0'].ds.times.min().values"
   ]
  },
  {
   "cell_type": "code",
   "execution_count": 7,
   "id": "7b7c430c-abca-4523-ba73-6cbce89d734c",
   "metadata": {},
   "outputs": [
    {
     "data": {
      "text/plain": [
       "numpy.datetime64('2023-04-08T23:50:17.590000000')"
      ]
     },
     "execution_count": 7,
     "metadata": {},
     "output_type": "execute_result"
    }
   ],
   "source": [
    "dt['sweep_0'].ds.times.max().values"
   ]
  },
  {
   "cell_type": "code",
   "execution_count": null,
   "id": "7fd82db6-ffe4-465b-8851-17b608c015ef",
   "metadata": {},
   "outputs": [],
   "source": [
    "print(f'size: {dt.nbytes / (1024 ** 3)} GB')"
   ]
  },
  {
   "cell_type": "code",
   "execution_count": null,
   "id": "273cd9b6-61d1-4e1a-92a7-51d56ee31936",
   "metadata": {},
   "outputs": [],
   "source": [
    "list(dt.children)"
   ]
  },
  {
   "cell_type": "code",
   "execution_count": null,
   "id": "b3a3755b-7aae-435b-bea8-26d4f0727ecb",
   "metadata": {},
   "outputs": [],
   "source": [
    "dt['sweep_0'].ds.DBZH.chunk()"
   ]
  },
  {
   "cell_type": "markdown",
   "id": "927c23ba-fb70-4cff-89d6-fff16e660f66",
   "metadata": {},
   "source": [
    "This is quite a large dataset. We can \"load\" it in memory using lazy evaluation provided by `zarr`, `Xarray`, and `datatree`."
   ]
  },
  {
   "cell_type": "code",
   "execution_count": null,
   "id": "aa375f94-3c8a-4974-a21a-aa5b3f0ace39",
   "metadata": {},
   "outputs": [],
   "source": [
    "print(f\"Dataset starts at: {dt['sweep_0'].times.min().values} and finishes at {dt['sweep_0'].times.max().values}\")"
   ]
  },
  {
   "cell_type": "markdown",
   "id": "88f1f9db-c77c-473e-90be-e76cf1ee1ec5",
   "metadata": {},
   "source": [
    "## 1.1 Ploting radar reflectivity on 2023-04-07 at 4:25 UTC\n",
    "We can use `xarray.plot` functionality to create a reflectivity plot"
   ]
  },
  {
   "cell_type": "code",
   "execution_count": null,
   "id": "35654dee-b5de-4849-bc5a-31fa85d4a46a",
   "metadata": {},
   "outputs": [],
   "source": [
    "dt['sweep_0'].sel(times='2023-04-07 4:25', method='nearest').DBZH.plot(x='x', y='y', \n",
    "                                                                       vmin=-10, \n",
    "                                                                       vmax=60, \n",
    "                                                                       cmap='pyart_ChaseSpectral')"
   ]
  },
  {
   "cell_type": "markdown",
   "id": "85e52cd0-f002-4ad2-9ea9-89211cdcf309",
   "metadata": {},
   "source": [
    "## 1.2 QPE using Marshall and Parmer (1948) relationship. "
   ]
  },
  {
   "cell_type": "code",
   "execution_count": null,
   "id": "fd78ea9d-5051-480c-932f-e616c658c04b",
   "metadata": {},
   "outputs": [],
   "source": [
    "%%time\n",
    "r_total = (0.0376 * dt['sweep_0'].DBZH ** 0.6112 * 5 / 12).sum('times')"
   ]
  },
  {
   "cell_type": "markdown",
   "id": "f2681f14-741c-4a84-9627-f368a2dc3804",
   "metadata": {},
   "source": [
    "We can now visualize the total amount of rainfall rate during the 72 hours\n"
   ]
  },
  {
   "cell_type": "code",
   "execution_count": null,
   "id": "28197d27-28ab-4676-a13d-b5e6eba20e88",
   "metadata": {},
   "outputs": [],
   "source": [
    "fig, ax = plt.subplots(figsize=(6,5))\n",
    "p = ax.pcolormesh(dt['sweep_0'].x.values, dt['sweep_0'].y.values, r_total)\n",
    "fig.colorbar(p, ax=ax, label='Accumulated RR [mm]')\n",
    "ax.set_title(\"accumulated rain in 72 hours\")"
   ]
  },
  {
   "cell_type": "markdown",
   "id": "c3c25b7c-0c21-4194-a20c-1c2fcaccbad9",
   "metadata": {},
   "source": [
    "# 2. Accesing Radar data by sweeps\n",
    "\n",
    "Loading and requesting all radar data might take a while to read from the source (see section 1). However, sometimes we only look for a specific sweep instead of \"loading\" all radar data into memory. `xarray datatree` scheme allows us to load by sweeps by specifying the path to the desired sweep e.g., `radar.zarr/sweep_0`. This will now substantially reduce the \"loading\" time and the size of the dataset.\n"
   ]
  },
  {
   "cell_type": "code",
   "execution_count": null,
   "id": "8a473bc8-2167-4bcd-97c7-f04a550322ac",
   "metadata": {
    "tags": []
   },
   "outputs": [],
   "source": [
    "%%time\n",
    "ds = xr.open_zarr(f\"{path}/sweep_1\")"
   ]
  },
  {
   "cell_type": "code",
   "execution_count": null,
   "id": "e69fc3fc-23f2-4336-ae1d-f1ee91993a63",
   "metadata": {},
   "outputs": [],
   "source": [
    "ds"
   ]
  },
  {
   "cell_type": "code",
   "execution_count": null,
   "id": "f593c058-2148-42b2-8946-11ce21ada343",
   "metadata": {},
   "outputs": [],
   "source": [
    "print(f'size: {ds.nbytes / (1024 ** 3)} GB')"
   ]
  },
  {
   "cell_type": "markdown",
   "id": "825e6652-0378-4065-8c38-e4473a3d89d4",
   "metadata": {},
   "source": [
    "## 2.1 Ploting radar reflectivity\n",
    "\n",
    "Similarly to section 1.1, we can plot the radar reflectivity. "
   ]
  },
  {
   "cell_type": "code",
   "execution_count": null,
   "id": "dfe08111-909d-4365-b05e-da1ade60dffd",
   "metadata": {
    "tags": []
   },
   "outputs": [],
   "source": [
    "ds.sel(times='2023-04-07 4:25', method='nearest').DBZH.plot(x='x', y='y', \n",
    "                                                             vmin=-10, \n",
    "                                                             vmax=60, \n",
    "                                                             cmap='pyart_ChaseSpectral')"
   ]
  },
  {
   "cell_type": "markdown",
   "id": "d2a00ad4-1b10-4cc3-80cb-4136a0fde684",
   "metadata": {},
   "source": [
    "## 2.2 QPE \n",
    "\n",
    "We can perform exactly the same rainfall accumulation calculation and this will will be way much faster than using the whole dataset."
   ]
  },
  {
   "cell_type": "code",
   "execution_count": null,
   "id": "aa8492a7-44eb-4d5a-9600-9f2d4e79fadf",
   "metadata": {
    "tags": []
   },
   "outputs": [],
   "source": [
    "%%time\n",
    "r_total_sweep = (0.0376 * ds.DBZH ** 0.6112 * 5).sum('times')"
   ]
  },
  {
   "cell_type": "code",
   "execution_count": null,
   "id": "002385b6-5242-4c84-8ef0-0f71c8dc8680",
   "metadata": {},
   "outputs": [],
   "source": [
    "fig, ax = plt.subplots(figsize=(6,5))\n",
    "p = ax.pcolormesh(ds.x.values, ds.y.values, r_total_sweep)\n",
    "fig.colorbar(p, ax=ax, label='Accumulated RR [mm]')\n",
    "ax.set_title(\"accumulated rain in 72 hours\")"
   ]
  },
  {
   "cell_type": "code",
   "execution_count": null,
   "id": "cc878f5e-4ce5-48b4-b6f5-4ef3372d2545",
   "metadata": {},
   "outputs": [],
   "source": []
  },
  {
   "cell_type": "code",
   "execution_count": null,
   "id": "0a082e10-65fd-4d21-bb35-7f830473ebe1",
   "metadata": {},
   "outputs": [],
   "source": []
  }
 ],
 "metadata": {
  "kernelspec": {
   "display_name": "Python 3 (ipykernel)",
   "language": "python",
   "name": "python3"
  },
  "language_info": {
   "codemirror_mode": {
    "name": "ipython",
    "version": 3
   },
   "file_extension": ".py",
   "mimetype": "text/x-python",
   "name": "python",
   "nbconvert_exporter": "python",
   "pygments_lexer": "ipython3",
   "version": "3.10.12"
  }
 },
 "nbformat": 4,
 "nbformat_minor": 5
}
