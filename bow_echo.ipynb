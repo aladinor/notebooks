{
 "cells": [
  {
   "cell_type": "code",
   "execution_count": 21,
   "id": "e47b5b86",
   "metadata": {
    "scrolled": true
   },
   "outputs": [],
   "source": [
    "# Conexión con el bucket\n",
    "import boto3\n",
    "import botocore\n",
    "from botocore.client import Config\n",
    "\n",
    "# Manejo de datos de radar\n",
    "import pyart\n",
    "\n",
    "# Otras libreriras  \n",
    "import os\n",
    "import glob\n",
    "import matplotlib.pyplot as plt\n",
    "from datetime import datetime\n"
   ]
  },
  {
   "cell_type": "code",
   "execution_count": 22,
   "id": "64eec890",
   "metadata": {},
   "outputs": [],
   "source": [
    "def is_close(a, b, rel_tol=1e-03, abs_tol=0.0):\n",
    "    return abs(a-b) <= max(rel_tol * max(abs(a), abs(b)), abs_tol)\n",
    "\n",
    "def make_dir(path):\n",
    "    \"\"\"\n",
    "    Makes directory based on path.\n",
    "    :param path:\n",
    "    :return:\n",
    "    \"\"\"\n",
    "    try:\n",
    "        os.makedirs(path)\n",
    "    except FileExistsError:\n",
    "        pass\n",
    "\n",
    "\n",
    "def valid_elev(radar_file):\n",
    "    radar = radar_file\n",
    "    try:\n",
    "        a = radar.metadata['instrument_name'].decode('utf-8')\n",
    "    except AttributeError:\n",
    "        a = radar.metadata['instrument_name']\n",
    "\n",
    "    radar_range = round(radar.range['data'][-1] / 1000, 0)\n",
    "    rr = 299.0\n",
    "    cond = (radar_range == rr)\n",
    "\n",
    "    elevations = [round(i, 1) for i in radar.fixed_angle['data']]\n",
    "    angle = round(0.5, 1)\n",
    "    result = any(is_close(i, angle) for i in elevations)\n",
    "\n",
    "    if result and cond:\n",
    "        del radar\n",
    "        return True\n",
    "    else:\n",
    "        del radar\n",
    "        return False"
   ]
  },
  {
   "cell_type": "code",
   "execution_count": 23,
   "id": "b74d5d99",
   "metadata": {},
   "outputs": [
    {
     "data": {
      "text/plain": [
       "s3.Bucket(name='s3-radaresideam')"
      ]
     },
     "execution_count": 23,
     "metadata": {},
     "output_type": "execute_result"
    }
   ],
   "source": [
    "s3 = boto3.resource('s3', config=Config(signature_version=botocore.UNSIGNED, \\\n",
    "                                    user_agent_extra='Resource'))\n",
    "bucket = s3.Bucket('s3-radaresideam')\n",
    "bucket"
   ]
  },
  {
   "cell_type": "code",
   "execution_count": 27,
   "id": "344854ed",
   "metadata": {},
   "outputs": [],
   "source": [
    "# objeto de fecha\n",
    "d = datetime(2021, 9, 10)\n",
    "radar_station = 'Guaviare'"
   ]
  },
  {
   "cell_type": "code",
   "execution_count": 28,
   "id": "fe025071",
   "metadata": {},
   "outputs": [
    {
     "data": {
      "text/plain": [
       "'l2_data/2021/09/10/Guaviare/GUA210910'"
      ]
     },
     "execution_count": 28,
     "metadata": {},
     "output_type": "execute_result"
    }
   ],
   "source": [
    "# Creando una consulta tipo\n",
    "prefix = f'l2_data/{d:%Y}/{d:%m}/{d:%d}/{radar_station}/{radar_station[:3].upper()}{d:%y%m%d}'\n",
    "prefix"
   ]
  },
  {
   "cell_type": "code",
   "execution_count": 30,
   "id": "f21e4423",
   "metadata": {
    "scrolled": true
   },
   "outputs": [
    {
     "name": "stdout",
     "output_type": "stream",
     "text": [
      "l2_data/2021/09/10/Guaviare/GUA210910000004.RAWS2CP\n",
      "299.0 [0.49987793]\n",
      "l2_data/2021/09/10/Guaviare/GUA210910000124.RAWS2CT\n"
     ]
    },
    {
     "name": "stderr",
     "output_type": "stream",
     "text": [
      "/data/keeling/a/alfonso8/miniconda3/envs/rise/lib/python3.9/site-packages/pyart/io/sigmet.py:131: RuntimeWarning: invalid value encountered in sqrt\n",
      "  sigmet_data, sigmet_metadata = sigmetfile.read_data(full_xhdr=full_xhdr)\n"
     ]
    },
    {
     "name": "stdout",
     "output_type": "stream",
     "text": [
      "Este No l2_data/2021/09/10/Guaviare/GUA210910000124.RAWS2CT\n",
      "l2_data/2021/09/10/Guaviare/GUA210910000316.RAWS2CU\n",
      "Este No l2_data/2021/09/10/Guaviare/GUA210910000316.RAWS2CU\n",
      "l2_data/2021/09/10/Guaviare/GUA210910000504.RAWS2CX\n",
      "299.0 [0.49987793]\n",
      "l2_data/2021/09/10/Guaviare/GUA210910000624.RAWS2CZ\n"
     ]
    },
    {
     "name": "stderr",
     "output_type": "stream",
     "text": [
      "/data/keeling/a/alfonso8/miniconda3/envs/rise/lib/python3.9/site-packages/pyart/io/sigmet.py:131: RuntimeWarning: invalid value encountered in sqrt\n",
      "  sigmet_data, sigmet_metadata = sigmetfile.read_data(full_xhdr=full_xhdr)\n"
     ]
    },
    {
     "name": "stdout",
     "output_type": "stream",
     "text": [
      "Este No l2_data/2021/09/10/Guaviare/GUA210910000624.RAWS2CZ\n",
      "l2_data/2021/09/10/Guaviare/GUA210910000816.RAWS2D1\n",
      "Este No l2_data/2021/09/10/Guaviare/GUA210910000816.RAWS2D1\n",
      "l2_data/2021/09/10/Guaviare/GUA210910001004.RAWS2D4\n",
      "299.0 [0.49987793]\n",
      "l2_data/2021/09/10/Guaviare/GUA210910001123.RAWS2D6\n"
     ]
    },
    {
     "name": "stderr",
     "output_type": "stream",
     "text": [
      "/data/keeling/a/alfonso8/miniconda3/envs/rise/lib/python3.9/site-packages/pyart/io/sigmet.py:131: RuntimeWarning: invalid value encountered in sqrt\n",
      "  sigmet_data, sigmet_metadata = sigmetfile.read_data(full_xhdr=full_xhdr)\n"
     ]
    },
    {
     "name": "stdout",
     "output_type": "stream",
     "text": [
      "Este No l2_data/2021/09/10/Guaviare/GUA210910001123.RAWS2D6\n",
      "l2_data/2021/09/10/Guaviare/GUA210910001316.RAWS2D8\n",
      "Este No l2_data/2021/09/10/Guaviare/GUA210910001316.RAWS2D8\n",
      "l2_data/2021/09/10/Guaviare/GUA210910001504.RAWS2DB\n",
      "299.0 [0.49987793]\n",
      "l2_data/2021/09/10/Guaviare/GUA210910001624.RAWS2DD\n"
     ]
    },
    {
     "name": "stderr",
     "output_type": "stream",
     "text": [
      "/data/keeling/a/alfonso8/miniconda3/envs/rise/lib/python3.9/site-packages/pyart/io/sigmet.py:131: RuntimeWarning: invalid value encountered in sqrt\n",
      "  sigmet_data, sigmet_metadata = sigmetfile.read_data(full_xhdr=full_xhdr)\n"
     ]
    },
    {
     "name": "stdout",
     "output_type": "stream",
     "text": [
      "Este No l2_data/2021/09/10/Guaviare/GUA210910001624.RAWS2DD\n",
      "l2_data/2021/09/10/Guaviare/GUA210910001816.RAWS2DF\n",
      "Este No l2_data/2021/09/10/Guaviare/GUA210910001816.RAWS2DF\n",
      "l2_data/2021/09/10/Guaviare/GUA210910002004.RAWS2DJ\n",
      "299.0 [0.49987793]\n",
      "l2_data/2021/09/10/Guaviare/GUA210910002124.RAWS2DL\n"
     ]
    },
    {
     "name": "stderr",
     "output_type": "stream",
     "text": [
      "/data/keeling/a/alfonso8/miniconda3/envs/rise/lib/python3.9/site-packages/pyart/io/sigmet.py:131: RuntimeWarning: invalid value encountered in sqrt\n",
      "  sigmet_data, sigmet_metadata = sigmetfile.read_data(full_xhdr=full_xhdr)\n"
     ]
    },
    {
     "name": "stdout",
     "output_type": "stream",
     "text": [
      "Este No l2_data/2021/09/10/Guaviare/GUA210910002124.RAWS2DL\n",
      "l2_data/2021/09/10/Guaviare/GUA210910002316.RAWS2DN\n",
      "Este No l2_data/2021/09/10/Guaviare/GUA210910002316.RAWS2DN\n",
      "l2_data/2021/09/10/Guaviare/GUA210910002504.RAWS2DS\n",
      "299.0 [0.49987793]\n",
      "l2_data/2021/09/10/Guaviare/GUA210910002624.RAWS2DU\n"
     ]
    },
    {
     "name": "stderr",
     "output_type": "stream",
     "text": [
      "/data/keeling/a/alfonso8/miniconda3/envs/rise/lib/python3.9/site-packages/pyart/io/sigmet.py:131: RuntimeWarning: invalid value encountered in sqrt\n",
      "  sigmet_data, sigmet_metadata = sigmetfile.read_data(full_xhdr=full_xhdr)\n"
     ]
    },
    {
     "name": "stdout",
     "output_type": "stream",
     "text": [
      "Este No l2_data/2021/09/10/Guaviare/GUA210910002624.RAWS2DU\n",
      "l2_data/2021/09/10/Guaviare/GUA210910002816.RAWS2DW\n",
      "Este No l2_data/2021/09/10/Guaviare/GUA210910002816.RAWS2DW\n",
      "l2_data/2021/09/10/Guaviare/GUA210910003004.RAWS2E0\n",
      "299.0 [0.49987793]\n",
      "l2_data/2021/09/10/Guaviare/GUA210910003123.RAWS2E1\n"
     ]
    },
    {
     "name": "stderr",
     "output_type": "stream",
     "text": [
      "/data/keeling/a/alfonso8/miniconda3/envs/rise/lib/python3.9/site-packages/pyart/io/sigmet.py:131: RuntimeWarning: invalid value encountered in sqrt\n",
      "  sigmet_data, sigmet_metadata = sigmetfile.read_data(full_xhdr=full_xhdr)\n"
     ]
    },
    {
     "name": "stdout",
     "output_type": "stream",
     "text": [
      "Este No l2_data/2021/09/10/Guaviare/GUA210910003123.RAWS2E1\n",
      "l2_data/2021/09/10/Guaviare/GUA210910003315.RAWS2E3\n",
      "Este No l2_data/2021/09/10/Guaviare/GUA210910003315.RAWS2E3\n",
      "l2_data/2021/09/10/Guaviare/GUA210910003504.RAWS2E6\n",
      "299.0 [0.49987793]\n",
      "l2_data/2021/09/10/Guaviare/GUA210910003624.RAWS2E8\n"
     ]
    },
    {
     "name": "stderr",
     "output_type": "stream",
     "text": [
      "/data/keeling/a/alfonso8/miniconda3/envs/rise/lib/python3.9/site-packages/pyart/io/sigmet.py:131: RuntimeWarning: invalid value encountered in sqrt\n",
      "  sigmet_data, sigmet_metadata = sigmetfile.read_data(full_xhdr=full_xhdr)\n"
     ]
    },
    {
     "name": "stdout",
     "output_type": "stream",
     "text": [
      "Este No l2_data/2021/09/10/Guaviare/GUA210910003624.RAWS2E8\n",
      "l2_data/2021/09/10/Guaviare/GUA210910003816.RAWS2EA\n",
      "Este No l2_data/2021/09/10/Guaviare/GUA210910003816.RAWS2EA\n",
      "l2_data/2021/09/10/Guaviare/GUA210910004004.RAWS2ED\n",
      "299.0 [0.49987793]\n",
      "l2_data/2021/09/10/Guaviare/GUA210910004124.RAWS2EG\n"
     ]
    },
    {
     "name": "stderr",
     "output_type": "stream",
     "text": [
      "/data/keeling/a/alfonso8/miniconda3/envs/rise/lib/python3.9/site-packages/pyart/io/sigmet.py:131: RuntimeWarning: invalid value encountered in sqrt\n",
      "  sigmet_data, sigmet_metadata = sigmetfile.read_data(full_xhdr=full_xhdr)\n"
     ]
    },
    {
     "name": "stdout",
     "output_type": "stream",
     "text": [
      "Este No l2_data/2021/09/10/Guaviare/GUA210910004124.RAWS2EG\n",
      "l2_data/2021/09/10/Guaviare/GUA210910004316.RAWS2EH\n",
      "Este No l2_data/2021/09/10/Guaviare/GUA210910004316.RAWS2EH\n",
      "l2_data/2021/09/10/Guaviare/GUA210910004504.RAWS2EL\n",
      "299.0 [0.49987793]\n",
      "l2_data/2021/09/10/Guaviare/GUA210910004623.RAWS2EN\n"
     ]
    },
    {
     "name": "stderr",
     "output_type": "stream",
     "text": [
      "/data/keeling/a/alfonso8/miniconda3/envs/rise/lib/python3.9/site-packages/pyart/io/sigmet.py:131: RuntimeWarning: invalid value encountered in sqrt\n",
      "  sigmet_data, sigmet_metadata = sigmetfile.read_data(full_xhdr=full_xhdr)\n"
     ]
    },
    {
     "name": "stdout",
     "output_type": "stream",
     "text": [
      "Este No l2_data/2021/09/10/Guaviare/GUA210910004623.RAWS2EN\n",
      "l2_data/2021/09/10/Guaviare/GUA210910004816.RAWS2ER\n",
      "Este No l2_data/2021/09/10/Guaviare/GUA210910004816.RAWS2ER\n",
      "l2_data/2021/09/10/Guaviare/GUA210910005004.RAWS2EU\n",
      "299.0 [0.49987793]\n",
      "l2_data/2021/09/10/Guaviare/GUA210910005124.RAWS2EW\n"
     ]
    },
    {
     "name": "stderr",
     "output_type": "stream",
     "text": [
      "/data/keeling/a/alfonso8/miniconda3/envs/rise/lib/python3.9/site-packages/pyart/io/sigmet.py:131: RuntimeWarning: invalid value encountered in sqrt\n",
      "  sigmet_data, sigmet_metadata = sigmetfile.read_data(full_xhdr=full_xhdr)\n"
     ]
    },
    {
     "name": "stdout",
     "output_type": "stream",
     "text": [
      "Este No l2_data/2021/09/10/Guaviare/GUA210910005124.RAWS2EW\n",
      "l2_data/2021/09/10/Guaviare/GUA210910005316.RAWS2EY\n",
      "Este No l2_data/2021/09/10/Guaviare/GUA210910005316.RAWS2EY\n",
      "l2_data/2021/09/10/Guaviare/GUA210910005504.RAWS2F1\n",
      "299.0 [0.49987793]\n",
      "l2_data/2021/09/10/Guaviare/GUA210910005624.RAWS2F3\n"
     ]
    },
    {
     "name": "stderr",
     "output_type": "stream",
     "text": [
      "/data/keeling/a/alfonso8/miniconda3/envs/rise/lib/python3.9/site-packages/pyart/io/sigmet.py:131: RuntimeWarning: invalid value encountered in sqrt\n",
      "  sigmet_data, sigmet_metadata = sigmetfile.read_data(full_xhdr=full_xhdr)\n"
     ]
    },
    {
     "name": "stdout",
     "output_type": "stream",
     "text": [
      "Este No l2_data/2021/09/10/Guaviare/GUA210910005624.RAWS2F3\n",
      "l2_data/2021/09/10/Guaviare/GUA210910005816.RAWS2F5\n",
      "Este No l2_data/2021/09/10/Guaviare/GUA210910005816.RAWS2F5\n",
      "l2_data/2021/09/10/Guaviare/GUA210910010003.RAWS2F8\n",
      "299.0 [0.49987793]\n",
      "l2_data/2021/09/10/Guaviare/GUA210910010122.RAWS2FA\n"
     ]
    },
    {
     "name": "stderr",
     "output_type": "stream",
     "text": [
      "/data/keeling/a/alfonso8/miniconda3/envs/rise/lib/python3.9/site-packages/pyart/io/sigmet.py:131: RuntimeWarning: invalid value encountered in sqrt\n",
      "  sigmet_data, sigmet_metadata = sigmetfile.read_data(full_xhdr=full_xhdr)\n"
     ]
    },
    {
     "name": "stdout",
     "output_type": "stream",
     "text": [
      "Este No l2_data/2021/09/10/Guaviare/GUA210910010122.RAWS2FA\n",
      "l2_data/2021/09/10/Guaviare/GUA210910010315.RAWS2FC\n",
      "Este No l2_data/2021/09/10/Guaviare/GUA210910010315.RAWS2FC\n",
      "l2_data/2021/09/10/Guaviare/GUA210910010503.RAWS2FF\n",
      "299.0 [0.49987793]\n",
      "l2_data/2021/09/10/Guaviare/GUA210910010623.RAWS2FH\n"
     ]
    },
    {
     "name": "stderr",
     "output_type": "stream",
     "text": [
      "/data/keeling/a/alfonso8/miniconda3/envs/rise/lib/python3.9/site-packages/pyart/io/sigmet.py:131: RuntimeWarning: invalid value encountered in sqrt\n",
      "  sigmet_data, sigmet_metadata = sigmetfile.read_data(full_xhdr=full_xhdr)\n"
     ]
    },
    {
     "name": "stdout",
     "output_type": "stream",
     "text": [
      "Este No l2_data/2021/09/10/Guaviare/GUA210910010623.RAWS2FH\n",
      "l2_data/2021/09/10/Guaviare/GUA210910010815.RAWS2FK\n",
      "Este No l2_data/2021/09/10/Guaviare/GUA210910010815.RAWS2FK\n",
      "l2_data/2021/09/10/Guaviare/GUA210910011004.RAWS2FN\n",
      "299.0 [0.49987793]\n",
      "l2_data/2021/09/10/Guaviare/GUA210910011124.RAWS2FS\n"
     ]
    },
    {
     "name": "stderr",
     "output_type": "stream",
     "text": [
      "/data/keeling/a/alfonso8/miniconda3/envs/rise/lib/python3.9/site-packages/pyart/io/sigmet.py:131: RuntimeWarning: invalid value encountered in sqrt\n",
      "  sigmet_data, sigmet_metadata = sigmetfile.read_data(full_xhdr=full_xhdr)\n"
     ]
    },
    {
     "name": "stdout",
     "output_type": "stream",
     "text": [
      "Este No l2_data/2021/09/10/Guaviare/GUA210910011124.RAWS2FS\n",
      "l2_data/2021/09/10/Guaviare/GUA210910011316.RAWS2FT\n",
      "Este No l2_data/2021/09/10/Guaviare/GUA210910011316.RAWS2FT\n",
      "l2_data/2021/09/10/Guaviare/GUA210910011504.RAWS2FW\n",
      "299.0 [0.49987793]\n",
      "l2_data/2021/09/10/Guaviare/GUA210910011624.RAWS2FZ\n"
     ]
    },
    {
     "name": "stderr",
     "output_type": "stream",
     "text": [
      "/data/keeling/a/alfonso8/miniconda3/envs/rise/lib/python3.9/site-packages/pyart/io/sigmet.py:131: RuntimeWarning: invalid value encountered in sqrt\n",
      "  sigmet_data, sigmet_metadata = sigmetfile.read_data(full_xhdr=full_xhdr)\n"
     ]
    },
    {
     "name": "stdout",
     "output_type": "stream",
     "text": [
      "Este No l2_data/2021/09/10/Guaviare/GUA210910011624.RAWS2FZ\n",
      "l2_data/2021/09/10/Guaviare/GUA210910011816.RAWS2G0\n",
      "Este No l2_data/2021/09/10/Guaviare/GUA210910011816.RAWS2G0\n",
      "l2_data/2021/09/10/Guaviare/GUA210910012004.RAWS2G3\n",
      "299.0 [0.49987793]\n",
      "l2_data/2021/09/10/Guaviare/GUA210910012123.RAWS2G5\n"
     ]
    },
    {
     "name": "stderr",
     "output_type": "stream",
     "text": [
      "/data/keeling/a/alfonso8/miniconda3/envs/rise/lib/python3.9/site-packages/pyart/io/sigmet.py:131: RuntimeWarning: invalid value encountered in sqrt\n",
      "  sigmet_data, sigmet_metadata = sigmetfile.read_data(full_xhdr=full_xhdr)\n"
     ]
    },
    {
     "name": "stdout",
     "output_type": "stream",
     "text": [
      "Este No l2_data/2021/09/10/Guaviare/GUA210910012123.RAWS2G5\n",
      "l2_data/2021/09/10/Guaviare/GUA210910012314.RAWS2G7\n",
      "Este No l2_data/2021/09/10/Guaviare/GUA210910012314.RAWS2G7\n",
      "l2_data/2021/09/10/Guaviare/GUA210910012504.RAWS2GA\n",
      "299.0 [0.49987793]\n",
      "l2_data/2021/09/10/Guaviare/GUA210910012624.RAWS2GC\n"
     ]
    },
    {
     "name": "stderr",
     "output_type": "stream",
     "text": [
      "/data/keeling/a/alfonso8/miniconda3/envs/rise/lib/python3.9/site-packages/pyart/io/sigmet.py:131: RuntimeWarning: invalid value encountered in sqrt\n",
      "  sigmet_data, sigmet_metadata = sigmetfile.read_data(full_xhdr=full_xhdr)\n"
     ]
    },
    {
     "name": "stdout",
     "output_type": "stream",
     "text": [
      "Este No l2_data/2021/09/10/Guaviare/GUA210910012624.RAWS2GC\n",
      "l2_data/2021/09/10/Guaviare/GUA210910012816.RAWS2GE\n",
      "Este No l2_data/2021/09/10/Guaviare/GUA210910012816.RAWS2GE\n",
      "l2_data/2021/09/10/Guaviare/GUA210910013004.RAWS2GH\n",
      "299.0 [0.49987793]\n",
      "l2_data/2021/09/10/Guaviare/GUA210910013123.RAWS2GK\n"
     ]
    },
    {
     "name": "stderr",
     "output_type": "stream",
     "text": [
      "/data/keeling/a/alfonso8/miniconda3/envs/rise/lib/python3.9/site-packages/pyart/io/sigmet.py:131: RuntimeWarning: invalid value encountered in sqrt\n",
      "  sigmet_data, sigmet_metadata = sigmetfile.read_data(full_xhdr=full_xhdr)\n"
     ]
    },
    {
     "name": "stdout",
     "output_type": "stream",
     "text": [
      "Este No l2_data/2021/09/10/Guaviare/GUA210910013123.RAWS2GK\n",
      "l2_data/2021/09/10/Guaviare/GUA210910013315.RAWS2GM\n",
      "Este No l2_data/2021/09/10/Guaviare/GUA210910013315.RAWS2GM\n",
      "l2_data/2021/09/10/Guaviare/GUA210910013504.RAWS2GR\n",
      "299.0 [0.49987793]\n",
      "l2_data/2021/09/10/Guaviare/GUA210910013624.RAWS2GU\n"
     ]
    },
    {
     "name": "stderr",
     "output_type": "stream",
     "text": [
      "/data/keeling/a/alfonso8/miniconda3/envs/rise/lib/python3.9/site-packages/pyart/io/sigmet.py:131: RuntimeWarning: invalid value encountered in sqrt\n",
      "  sigmet_data, sigmet_metadata = sigmetfile.read_data(full_xhdr=full_xhdr)\n"
     ]
    },
    {
     "name": "stdout",
     "output_type": "stream",
     "text": [
      "Este No l2_data/2021/09/10/Guaviare/GUA210910013624.RAWS2GU\n",
      "l2_data/2021/09/10/Guaviare/GUA210910013816.RAWS2GV\n",
      "Este No l2_data/2021/09/10/Guaviare/GUA210910013816.RAWS2GV\n",
      "l2_data/2021/09/10/Guaviare/GUA210910014004.RAWS2GY\n",
      "299.0 [0.49987793]\n",
      "l2_data/2021/09/10/Guaviare/GUA210910014124.RAWS2H0\n"
     ]
    },
    {
     "name": "stderr",
     "output_type": "stream",
     "text": [
      "/data/keeling/a/alfonso8/miniconda3/envs/rise/lib/python3.9/site-packages/pyart/io/sigmet.py:131: RuntimeWarning: invalid value encountered in sqrt\n",
      "  sigmet_data, sigmet_metadata = sigmetfile.read_data(full_xhdr=full_xhdr)\n"
     ]
    },
    {
     "name": "stdout",
     "output_type": "stream",
     "text": [
      "Este No l2_data/2021/09/10/Guaviare/GUA210910014124.RAWS2H0\n",
      "l2_data/2021/09/10/Guaviare/GUA210910014316.RAWS2H2\n",
      "Este No l2_data/2021/09/10/Guaviare/GUA210910014316.RAWS2H2\n",
      "l2_data/2021/09/10/Guaviare/GUA210910014504.RAWS2H5\n",
      "299.0 [0.49987793]\n",
      "l2_data/2021/09/10/Guaviare/GUA210910014623.RAWS2H7\n"
     ]
    },
    {
     "name": "stderr",
     "output_type": "stream",
     "text": [
      "/data/keeling/a/alfonso8/miniconda3/envs/rise/lib/python3.9/site-packages/pyart/io/sigmet.py:131: RuntimeWarning: invalid value encountered in sqrt\n",
      "  sigmet_data, sigmet_metadata = sigmetfile.read_data(full_xhdr=full_xhdr)\n"
     ]
    },
    {
     "name": "stdout",
     "output_type": "stream",
     "text": [
      "Este No l2_data/2021/09/10/Guaviare/GUA210910014623.RAWS2H7\n",
      "l2_data/2021/09/10/Guaviare/GUA210910014814.RAWS2H9\n",
      "Este No l2_data/2021/09/10/Guaviare/GUA210910014814.RAWS2H9\n",
      "l2_data/2021/09/10/Guaviare/GUA210910015004.RAWS2HC\n",
      "299.0 [0.49987793]\n",
      "l2_data/2021/09/10/Guaviare/GUA210910015123.RAWS2HE\n"
     ]
    },
    {
     "name": "stderr",
     "output_type": "stream",
     "text": [
      "/data/keeling/a/alfonso8/miniconda3/envs/rise/lib/python3.9/site-packages/pyart/io/sigmet.py:131: RuntimeWarning: invalid value encountered in sqrt\n",
      "  sigmet_data, sigmet_metadata = sigmetfile.read_data(full_xhdr=full_xhdr)\n"
     ]
    },
    {
     "name": "stdout",
     "output_type": "stream",
     "text": [
      "Este No l2_data/2021/09/10/Guaviare/GUA210910015123.RAWS2HE\n",
      "l2_data/2021/09/10/Guaviare/GUA210910015315.RAWS2HG\n",
      "Este No l2_data/2021/09/10/Guaviare/GUA210910015315.RAWS2HG\n",
      "l2_data/2021/09/10/Guaviare/GUA210910015504.RAWS2HK\n",
      "299.0 [0.49987793]\n",
      "l2_data/2021/09/10/Guaviare/GUA210910015624.RAWS2HN\n"
     ]
    },
    {
     "name": "stderr",
     "output_type": "stream",
     "text": [
      "/data/keeling/a/alfonso8/miniconda3/envs/rise/lib/python3.9/site-packages/pyart/io/sigmet.py:131: RuntimeWarning: invalid value encountered in sqrt\n",
      "  sigmet_data, sigmet_metadata = sigmetfile.read_data(full_xhdr=full_xhdr)\n"
     ]
    },
    {
     "name": "stdout",
     "output_type": "stream",
     "text": [
      "Este No l2_data/2021/09/10/Guaviare/GUA210910015624.RAWS2HN\n",
      "l2_data/2021/09/10/Guaviare/GUA210910015816.RAWS2HP\n",
      "Este No l2_data/2021/09/10/Guaviare/GUA210910015816.RAWS2HP\n",
      "l2_data/2021/09/10/Guaviare/GUA210910020003.RAWS2HT\n",
      "299.0 [0.49987793]\n",
      "l2_data/2021/09/10/Guaviare/GUA210910020123.RAWS2HV\n"
     ]
    },
    {
     "name": "stderr",
     "output_type": "stream",
     "text": [
      "/data/keeling/a/alfonso8/miniconda3/envs/rise/lib/python3.9/site-packages/pyart/io/sigmet.py:131: RuntimeWarning: invalid value encountered in sqrt\n",
      "  sigmet_data, sigmet_metadata = sigmetfile.read_data(full_xhdr=full_xhdr)\n"
     ]
    },
    {
     "name": "stdout",
     "output_type": "stream",
     "text": [
      "Este No l2_data/2021/09/10/Guaviare/GUA210910020123.RAWS2HV\n",
      "l2_data/2021/09/10/Guaviare/GUA210910020315.RAWS2HX\n",
      "Este No l2_data/2021/09/10/Guaviare/GUA210910020315.RAWS2HX\n",
      "l2_data/2021/09/10/Guaviare/GUA210910020504.RAWS2J0\n",
      "299.0 [0.49987793]\n",
      "l2_data/2021/09/10/Guaviare/GUA210910020623.RAWS2J3\n"
     ]
    },
    {
     "name": "stderr",
     "output_type": "stream",
     "text": [
      "/data/keeling/a/alfonso8/miniconda3/envs/rise/lib/python3.9/site-packages/pyart/io/sigmet.py:131: RuntimeWarning: invalid value encountered in sqrt\n",
      "  sigmet_data, sigmet_metadata = sigmetfile.read_data(full_xhdr=full_xhdr)\n"
     ]
    },
    {
     "name": "stdout",
     "output_type": "stream",
     "text": [
      "Este No l2_data/2021/09/10/Guaviare/GUA210910020623.RAWS2J3\n",
      "l2_data/2021/09/10/Guaviare/GUA210910020816.RAWS2J4\n",
      "Este No l2_data/2021/09/10/Guaviare/GUA210910020816.RAWS2J4\n",
      "l2_data/2021/09/10/Guaviare/GUA210910021004.RAWS2J7\n",
      "299.0 [0.49987793]\n",
      "l2_data/2021/09/10/Guaviare/GUA210910021123.RAWS2JA\n"
     ]
    },
    {
     "name": "stderr",
     "output_type": "stream",
     "text": [
      "/data/keeling/a/alfonso8/miniconda3/envs/rise/lib/python3.9/site-packages/pyart/io/sigmet.py:131: RuntimeWarning: invalid value encountered in sqrt\n",
      "  sigmet_data, sigmet_metadata = sigmetfile.read_data(full_xhdr=full_xhdr)\n"
     ]
    },
    {
     "name": "stdout",
     "output_type": "stream",
     "text": [
      "Este No l2_data/2021/09/10/Guaviare/GUA210910021123.RAWS2JA\n",
      "l2_data/2021/09/10/Guaviare/GUA210910021316.RAWS2JB\n",
      "Este No l2_data/2021/09/10/Guaviare/GUA210910021316.RAWS2JB\n",
      "l2_data/2021/09/10/Guaviare/GUA210910021503.RAWS2JE\n",
      "299.0 [0.49987793]\n",
      "l2_data/2021/09/10/Guaviare/GUA210910021622.RAWS2JG\n"
     ]
    },
    {
     "name": "stderr",
     "output_type": "stream",
     "text": [
      "/data/keeling/a/alfonso8/miniconda3/envs/rise/lib/python3.9/site-packages/pyart/io/sigmet.py:131: RuntimeWarning: invalid value encountered in sqrt\n",
      "  sigmet_data, sigmet_metadata = sigmetfile.read_data(full_xhdr=full_xhdr)\n"
     ]
    },
    {
     "name": "stdout",
     "output_type": "stream",
     "text": [
      "Este No l2_data/2021/09/10/Guaviare/GUA210910021622.RAWS2JG\n",
      "l2_data/2021/09/10/Guaviare/GUA210910021815.RAWS2JJ\n",
      "Este No l2_data/2021/09/10/Guaviare/GUA210910021815.RAWS2JJ\n",
      "l2_data/2021/09/10/Guaviare/GUA210910022004.RAWS2JM\n",
      "299.0 [0.49987793]\n",
      "l2_data/2021/09/10/Guaviare/GUA210910022123.RAWS2JR\n"
     ]
    },
    {
     "name": "stderr",
     "output_type": "stream",
     "text": [
      "/data/keeling/a/alfonso8/miniconda3/envs/rise/lib/python3.9/site-packages/pyart/io/sigmet.py:131: RuntimeWarning: invalid value encountered in sqrt\n",
      "  sigmet_data, sigmet_metadata = sigmetfile.read_data(full_xhdr=full_xhdr)\n"
     ]
    },
    {
     "name": "stdout",
     "output_type": "stream",
     "text": [
      "Este No l2_data/2021/09/10/Guaviare/GUA210910022123.RAWS2JR\n",
      "l2_data/2021/09/10/Guaviare/GUA210910022315.RAWS2JS\n",
      "Este No l2_data/2021/09/10/Guaviare/GUA210910022315.RAWS2JS\n",
      "l2_data/2021/09/10/Guaviare/GUA210910022504.RAWS2JV\n",
      "299.0 [0.49987793]\n",
      "l2_data/2021/09/10/Guaviare/GUA210910022624.RAWS2JX\n"
     ]
    },
    {
     "name": "stderr",
     "output_type": "stream",
     "text": [
      "/data/keeling/a/alfonso8/miniconda3/envs/rise/lib/python3.9/site-packages/pyart/io/sigmet.py:131: RuntimeWarning: invalid value encountered in sqrt\n",
      "  sigmet_data, sigmet_metadata = sigmetfile.read_data(full_xhdr=full_xhdr)\n"
     ]
    },
    {
     "name": "stdout",
     "output_type": "stream",
     "text": [
      "Este No l2_data/2021/09/10/Guaviare/GUA210910022624.RAWS2JX\n",
      "l2_data/2021/09/10/Guaviare/GUA210910022816.RAWS2JZ\n",
      "Este No l2_data/2021/09/10/Guaviare/GUA210910022816.RAWS2JZ\n",
      "l2_data/2021/09/10/Guaviare/GUA210910023004.RAWS2K2\n",
      "299.0 [0.49987793]\n",
      "l2_data/2021/09/10/Guaviare/GUA210910023123.RAWS2K4\n"
     ]
    },
    {
     "name": "stderr",
     "output_type": "stream",
     "text": [
      "/data/keeling/a/alfonso8/miniconda3/envs/rise/lib/python3.9/site-packages/pyart/io/sigmet.py:131: RuntimeWarning: invalid value encountered in sqrt\n",
      "  sigmet_data, sigmet_metadata = sigmetfile.read_data(full_xhdr=full_xhdr)\n"
     ]
    },
    {
     "name": "stdout",
     "output_type": "stream",
     "text": [
      "Este No l2_data/2021/09/10/Guaviare/GUA210910023123.RAWS2K4\n",
      "l2_data/2021/09/10/Guaviare/GUA210910023315.RAWS2K6\n",
      "Este No l2_data/2021/09/10/Guaviare/GUA210910023315.RAWS2K6\n",
      "l2_data/2021/09/10/Guaviare/GUA210910023504.RAWS2K9\n",
      "299.0 [0.49987793]\n",
      "l2_data/2021/09/10/Guaviare/GUA210910023622.RAWS2KC\n"
     ]
    },
    {
     "name": "stderr",
     "output_type": "stream",
     "text": [
      "/data/keeling/a/alfonso8/miniconda3/envs/rise/lib/python3.9/site-packages/pyart/io/sigmet.py:131: RuntimeWarning: invalid value encountered in sqrt\n",
      "  sigmet_data, sigmet_metadata = sigmetfile.read_data(full_xhdr=full_xhdr)\n"
     ]
    },
    {
     "name": "stdout",
     "output_type": "stream",
     "text": [
      "Este No l2_data/2021/09/10/Guaviare/GUA210910023622.RAWS2KC\n",
      "l2_data/2021/09/10/Guaviare/GUA210910023815.RAWS2KD\n",
      "Este No l2_data/2021/09/10/Guaviare/GUA210910023815.RAWS2KD\n",
      "l2_data/2021/09/10/Guaviare/GUA210910024004.RAWS2KG\n",
      "299.0 [0.49987793]\n",
      "l2_data/2021/09/10/Guaviare/GUA210910024124.RAWS2KJ\n"
     ]
    },
    {
     "name": "stderr",
     "output_type": "stream",
     "text": [
      "/data/keeling/a/alfonso8/miniconda3/envs/rise/lib/python3.9/site-packages/pyart/io/sigmet.py:131: RuntimeWarning: invalid value encountered in sqrt\n",
      "  sigmet_data, sigmet_metadata = sigmetfile.read_data(full_xhdr=full_xhdr)\n"
     ]
    },
    {
     "name": "stdout",
     "output_type": "stream",
     "text": [
      "Este No l2_data/2021/09/10/Guaviare/GUA210910024124.RAWS2KJ\n",
      "l2_data/2021/09/10/Guaviare/GUA210910024315.RAWS2KL\n",
      "Este No l2_data/2021/09/10/Guaviare/GUA210910024315.RAWS2KL\n",
      "l2_data/2021/09/10/Guaviare/GUA210910024504.RAWS2KP\n",
      "299.0 [0.49987793]\n",
      "l2_data/2021/09/10/Guaviare/GUA210910024623.RAWS2KT\n"
     ]
    },
    {
     "name": "stderr",
     "output_type": "stream",
     "text": [
      "/data/keeling/a/alfonso8/miniconda3/envs/rise/lib/python3.9/site-packages/pyart/io/sigmet.py:131: RuntimeWarning: invalid value encountered in sqrt\n",
      "  sigmet_data, sigmet_metadata = sigmetfile.read_data(full_xhdr=full_xhdr)\n"
     ]
    },
    {
     "name": "stdout",
     "output_type": "stream",
     "text": [
      "Este No l2_data/2021/09/10/Guaviare/GUA210910024623.RAWS2KT\n",
      "l2_data/2021/09/10/Guaviare/GUA210910024816.RAWS2KU\n",
      "Este No l2_data/2021/09/10/Guaviare/GUA210910024816.RAWS2KU\n",
      "l2_data/2021/09/10/Guaviare/GUA210910025004.RAWS2KX\n",
      "299.0 [0.49987793]\n",
      "l2_data/2021/09/10/Guaviare/GUA210910025124.RAWS2L0\n"
     ]
    },
    {
     "name": "stderr",
     "output_type": "stream",
     "text": [
      "/data/keeling/a/alfonso8/miniconda3/envs/rise/lib/python3.9/site-packages/pyart/io/sigmet.py:131: RuntimeWarning: invalid value encountered in sqrt\n",
      "  sigmet_data, sigmet_metadata = sigmetfile.read_data(full_xhdr=full_xhdr)\n"
     ]
    },
    {
     "name": "stdout",
     "output_type": "stream",
     "text": [
      "Este No l2_data/2021/09/10/Guaviare/GUA210910025124.RAWS2L0\n",
      "l2_data/2021/09/10/Guaviare/GUA210910025316.RAWS2L1\n",
      "Este No l2_data/2021/09/10/Guaviare/GUA210910025316.RAWS2L1\n",
      "l2_data/2021/09/10/Guaviare/GUA210910025504.RAWS2L4\n",
      "299.0 [0.49987793]\n",
      "l2_data/2021/09/10/Guaviare/GUA210910025624.RAWS2L7\n"
     ]
    },
    {
     "name": "stderr",
     "output_type": "stream",
     "text": [
      "/data/keeling/a/alfonso8/miniconda3/envs/rise/lib/python3.9/site-packages/pyart/io/sigmet.py:131: RuntimeWarning: invalid value encountered in sqrt\n",
      "  sigmet_data, sigmet_metadata = sigmetfile.read_data(full_xhdr=full_xhdr)\n"
     ]
    },
    {
     "name": "stdout",
     "output_type": "stream",
     "text": [
      "Este No l2_data/2021/09/10/Guaviare/GUA210910025624.RAWS2L7\n",
      "l2_data/2021/09/10/Guaviare/GUA210910025816.RAWS2L8\n",
      "Este No l2_data/2021/09/10/Guaviare/GUA210910025816.RAWS2L8\n",
      "l2_data/2021/09/10/Guaviare/GUA210910030004.RAWS2LB\n",
      "299.0 [0.49987793]\n",
      "l2_data/2021/09/10/Guaviare/GUA210910030123.RAWS2LD\n"
     ]
    },
    {
     "name": "stderr",
     "output_type": "stream",
     "text": [
      "/data/keeling/a/alfonso8/miniconda3/envs/rise/lib/python3.9/site-packages/pyart/io/sigmet.py:131: RuntimeWarning: invalid value encountered in sqrt\n",
      "  sigmet_data, sigmet_metadata = sigmetfile.read_data(full_xhdr=full_xhdr)\n"
     ]
    },
    {
     "name": "stdout",
     "output_type": "stream",
     "text": [
      "Este No l2_data/2021/09/10/Guaviare/GUA210910030123.RAWS2LD\n",
      "l2_data/2021/09/10/Guaviare/GUA210910030315.RAWS2LF\n",
      "Este No l2_data/2021/09/10/Guaviare/GUA210910030315.RAWS2LF\n",
      "l2_data/2021/09/10/Guaviare/GUA210910030504.RAWS2LK\n",
      "299.0 [0.49987793]\n",
      "l2_data/2021/09/10/Guaviare/GUA210910030624.RAWS2LL\n"
     ]
    },
    {
     "name": "stderr",
     "output_type": "stream",
     "text": [
      "/data/keeling/a/alfonso8/miniconda3/envs/rise/lib/python3.9/site-packages/pyart/io/sigmet.py:131: RuntimeWarning: invalid value encountered in sqrt\n",
      "  sigmet_data, sigmet_metadata = sigmetfile.read_data(full_xhdr=full_xhdr)\n"
     ]
    },
    {
     "name": "stdout",
     "output_type": "stream",
     "text": [
      "Este No l2_data/2021/09/10/Guaviare/GUA210910030624.RAWS2LL\n",
      "l2_data/2021/09/10/Guaviare/GUA210910030816.RAWS2LN\n",
      "Este No l2_data/2021/09/10/Guaviare/GUA210910030816.RAWS2LN\n",
      "l2_data/2021/09/10/Guaviare/GUA210910031004.RAWS2LS\n",
      "299.0 [0.49987793]\n",
      "l2_data/2021/09/10/Guaviare/GUA210910031124.RAWS2LV\n"
     ]
    },
    {
     "name": "stderr",
     "output_type": "stream",
     "text": [
      "/data/keeling/a/alfonso8/miniconda3/envs/rise/lib/python3.9/site-packages/pyart/io/sigmet.py:131: RuntimeWarning: invalid value encountered in sqrt\n",
      "  sigmet_data, sigmet_metadata = sigmetfile.read_data(full_xhdr=full_xhdr)\n"
     ]
    },
    {
     "name": "stdout",
     "output_type": "stream",
     "text": [
      "Este No l2_data/2021/09/10/Guaviare/GUA210910031124.RAWS2LV\n",
      "l2_data/2021/09/10/Guaviare/GUA210910031316.RAWS2LW\n",
      "Este No l2_data/2021/09/10/Guaviare/GUA210910031316.RAWS2LW\n",
      "l2_data/2021/09/10/Guaviare/GUA210910031504.RAWS2LZ\n",
      "299.0 [0.49987793]\n",
      "l2_data/2021/09/10/Guaviare/GUA210910031624.RAWS2M1\n"
     ]
    },
    {
     "name": "stderr",
     "output_type": "stream",
     "text": [
      "/data/keeling/a/alfonso8/miniconda3/envs/rise/lib/python3.9/site-packages/pyart/io/sigmet.py:131: RuntimeWarning: invalid value encountered in sqrt\n",
      "  sigmet_data, sigmet_metadata = sigmetfile.read_data(full_xhdr=full_xhdr)\n"
     ]
    },
    {
     "name": "stdout",
     "output_type": "stream",
     "text": [
      "Este No l2_data/2021/09/10/Guaviare/GUA210910031624.RAWS2M1\n",
      "l2_data/2021/09/10/Guaviare/GUA210910031816.RAWS2M3\n",
      "Este No l2_data/2021/09/10/Guaviare/GUA210910031816.RAWS2M3\n",
      "l2_data/2021/09/10/Guaviare/GUA210910032004.RAWS2M6\n",
      "299.0 [0.49987793]\n",
      "l2_data/2021/09/10/Guaviare/GUA210910032124.RAWS2M9\n"
     ]
    },
    {
     "name": "stderr",
     "output_type": "stream",
     "text": [
      "/data/keeling/a/alfonso8/miniconda3/envs/rise/lib/python3.9/site-packages/pyart/io/sigmet.py:131: RuntimeWarning: invalid value encountered in sqrt\n",
      "  sigmet_data, sigmet_metadata = sigmetfile.read_data(full_xhdr=full_xhdr)\n"
     ]
    },
    {
     "name": "stdout",
     "output_type": "stream",
     "text": [
      "Este No l2_data/2021/09/10/Guaviare/GUA210910032124.RAWS2M9\n",
      "l2_data/2021/09/10/Guaviare/GUA210910032316.RAWS2MA\n",
      "Este No l2_data/2021/09/10/Guaviare/GUA210910032316.RAWS2MA\n",
      "l2_data/2021/09/10/Guaviare/GUA210910032505.RAWS2MD\n",
      "299.0 [0.49987793]\n",
      "l2_data/2021/09/10/Guaviare/GUA210910032624.RAWS2MG\n"
     ]
    },
    {
     "name": "stderr",
     "output_type": "stream",
     "text": [
      "/data/keeling/a/alfonso8/miniconda3/envs/rise/lib/python3.9/site-packages/pyart/io/sigmet.py:131: RuntimeWarning: invalid value encountered in sqrt\n",
      "  sigmet_data, sigmet_metadata = sigmetfile.read_data(full_xhdr=full_xhdr)\n"
     ]
    },
    {
     "name": "stdout",
     "output_type": "stream",
     "text": [
      "Este No l2_data/2021/09/10/Guaviare/GUA210910032624.RAWS2MG\n",
      "l2_data/2021/09/10/Guaviare/GUA210910032817.RAWS2MH\n",
      "Este No l2_data/2021/09/10/Guaviare/GUA210910032817.RAWS2MH\n",
      "l2_data/2021/09/10/Guaviare/GUA210910033004.RAWS2ML\n",
      "299.0 [0.49987793]\n",
      "l2_data/2021/09/10/Guaviare/GUA210910033124.RAWS2MN\n"
     ]
    },
    {
     "name": "stderr",
     "output_type": "stream",
     "text": [
      "/data/keeling/a/alfonso8/miniconda3/envs/rise/lib/python3.9/site-packages/pyart/io/sigmet.py:131: RuntimeWarning: invalid value encountered in sqrt\n",
      "  sigmet_data, sigmet_metadata = sigmetfile.read_data(full_xhdr=full_xhdr)\n"
     ]
    },
    {
     "name": "stdout",
     "output_type": "stream",
     "text": [
      "Este No l2_data/2021/09/10/Guaviare/GUA210910033124.RAWS2MN\n",
      "l2_data/2021/09/10/Guaviare/GUA210910033316.RAWS2MT\n",
      "Este No l2_data/2021/09/10/Guaviare/GUA210910033316.RAWS2MT\n",
      "l2_data/2021/09/10/Guaviare/GUA210910033504.RAWS2MU\n",
      "299.0 [0.49987793]\n",
      "l2_data/2021/09/10/Guaviare/GUA210910033624.RAWS2MX\n"
     ]
    },
    {
     "name": "stderr",
     "output_type": "stream",
     "text": [
      "/data/keeling/a/alfonso8/miniconda3/envs/rise/lib/python3.9/site-packages/pyart/io/sigmet.py:131: RuntimeWarning: invalid value encountered in sqrt\n",
      "  sigmet_data, sigmet_metadata = sigmetfile.read_data(full_xhdr=full_xhdr)\n"
     ]
    },
    {
     "name": "stdout",
     "output_type": "stream",
     "text": [
      "Este No l2_data/2021/09/10/Guaviare/GUA210910033624.RAWS2MX\n",
      "l2_data/2021/09/10/Guaviare/GUA210910033816.RAWS2MY\n",
      "Este No l2_data/2021/09/10/Guaviare/GUA210910033816.RAWS2MY\n",
      "l2_data/2021/09/10/Guaviare/GUA210910034004.RAWS2N1\n",
      "299.0 [0.49987793]\n",
      "l2_data/2021/09/10/Guaviare/GUA210910034124.RAWS2N3\n"
     ]
    },
    {
     "name": "stderr",
     "output_type": "stream",
     "text": [
      "/data/keeling/a/alfonso8/miniconda3/envs/rise/lib/python3.9/site-packages/pyart/io/sigmet.py:131: RuntimeWarning: invalid value encountered in sqrt\n",
      "  sigmet_data, sigmet_metadata = sigmetfile.read_data(full_xhdr=full_xhdr)\n"
     ]
    },
    {
     "name": "stdout",
     "output_type": "stream",
     "text": [
      "Este No l2_data/2021/09/10/Guaviare/GUA210910034124.RAWS2N3\n",
      "l2_data/2021/09/10/Guaviare/GUA210910034316.RAWS2N5\n",
      "Este No l2_data/2021/09/10/Guaviare/GUA210910034316.RAWS2N5\n",
      "l2_data/2021/09/10/Guaviare/GUA210910034504.RAWS2N8\n",
      "299.0 [0.49987793]\n",
      "l2_data/2021/09/10/Guaviare/GUA210910034623.RAWS2NA\n"
     ]
    },
    {
     "name": "stderr",
     "output_type": "stream",
     "text": [
      "/data/keeling/a/alfonso8/miniconda3/envs/rise/lib/python3.9/site-packages/pyart/io/sigmet.py:131: RuntimeWarning: invalid value encountered in sqrt\n",
      "  sigmet_data, sigmet_metadata = sigmetfile.read_data(full_xhdr=full_xhdr)\n"
     ]
    },
    {
     "name": "stdout",
     "output_type": "stream",
     "text": [
      "Este No l2_data/2021/09/10/Guaviare/GUA210910034623.RAWS2NA\n",
      "l2_data/2021/09/10/Guaviare/GUA210910034816.RAWS2NC\n",
      "Este No l2_data/2021/09/10/Guaviare/GUA210910034816.RAWS2NC\n",
      "l2_data/2021/09/10/Guaviare/GUA210910035004.RAWS2NF\n",
      "299.0 [0.49987793]\n",
      "l2_data/2021/09/10/Guaviare/GUA210910035124.RAWS2NH\n"
     ]
    },
    {
     "name": "stderr",
     "output_type": "stream",
     "text": [
      "/data/keeling/a/alfonso8/miniconda3/envs/rise/lib/python3.9/site-packages/pyart/io/sigmet.py:131: RuntimeWarning: invalid value encountered in sqrt\n",
      "  sigmet_data, sigmet_metadata = sigmetfile.read_data(full_xhdr=full_xhdr)\n"
     ]
    },
    {
     "name": "stdout",
     "output_type": "stream",
     "text": [
      "Este No l2_data/2021/09/10/Guaviare/GUA210910035124.RAWS2NH\n",
      "l2_data/2021/09/10/Guaviare/GUA210910035316.RAWS2NK\n",
      "Este No l2_data/2021/09/10/Guaviare/GUA210910035316.RAWS2NK\n",
      "l2_data/2021/09/10/Guaviare/GUA210910035504.RAWS2NN\n",
      "299.0 [0.49987793]\n",
      "l2_data/2021/09/10/Guaviare/GUA210910035623.RAWS2NR\n"
     ]
    },
    {
     "name": "stderr",
     "output_type": "stream",
     "text": [
      "/data/keeling/a/alfonso8/miniconda3/envs/rise/lib/python3.9/site-packages/pyart/io/sigmet.py:131: RuntimeWarning: invalid value encountered in sqrt\n",
      "  sigmet_data, sigmet_metadata = sigmetfile.read_data(full_xhdr=full_xhdr)\n"
     ]
    },
    {
     "name": "stdout",
     "output_type": "stream",
     "text": [
      "Este No l2_data/2021/09/10/Guaviare/GUA210910035623.RAWS2NR\n",
      "l2_data/2021/09/10/Guaviare/GUA210910035816.RAWS2NT\n",
      "Este No l2_data/2021/09/10/Guaviare/GUA210910035816.RAWS2NT\n",
      "l2_data/2021/09/10/Guaviare/GUA210910040004.RAWS2NW\n",
      "299.0 [0.49987793]\n",
      "l2_data/2021/09/10/Guaviare/GUA210910040123.RAWS2NZ\n"
     ]
    },
    {
     "name": "stderr",
     "output_type": "stream",
     "text": [
      "/data/keeling/a/alfonso8/miniconda3/envs/rise/lib/python3.9/site-packages/pyart/io/sigmet.py:131: RuntimeWarning: invalid value encountered in sqrt\n",
      "  sigmet_data, sigmet_metadata = sigmetfile.read_data(full_xhdr=full_xhdr)\n"
     ]
    },
    {
     "name": "stdout",
     "output_type": "stream",
     "text": [
      "Este No l2_data/2021/09/10/Guaviare/GUA210910040123.RAWS2NZ\n",
      "l2_data/2021/09/10/Guaviare/GUA210910040315.RAWS2P0\n",
      "Este No l2_data/2021/09/10/Guaviare/GUA210910040315.RAWS2P0\n",
      "l2_data/2021/09/10/Guaviare/GUA210910040504.RAWS2P3\n",
      "299.0 [0.49987793]\n",
      "l2_data/2021/09/10/Guaviare/GUA210910040623.RAWS2P5\n"
     ]
    },
    {
     "name": "stderr",
     "output_type": "stream",
     "text": [
      "/data/keeling/a/alfonso8/miniconda3/envs/rise/lib/python3.9/site-packages/pyart/io/sigmet.py:131: RuntimeWarning: invalid value encountered in sqrt\n",
      "  sigmet_data, sigmet_metadata = sigmetfile.read_data(full_xhdr=full_xhdr)\n"
     ]
    },
    {
     "name": "stdout",
     "output_type": "stream",
     "text": [
      "Este No l2_data/2021/09/10/Guaviare/GUA210910040623.RAWS2P5\n",
      "l2_data/2021/09/10/Guaviare/GUA210910040815.RAWS2P7\n",
      "Este No l2_data/2021/09/10/Guaviare/GUA210910040815.RAWS2P7\n",
      "l2_data/2021/09/10/Guaviare/GUA210910041004.RAWS2PA\n",
      "299.0 [0.49987793]\n",
      "l2_data/2021/09/10/Guaviare/GUA210910041124.RAWS2PC\n"
     ]
    },
    {
     "name": "stderr",
     "output_type": "stream",
     "text": [
      "/data/keeling/a/alfonso8/miniconda3/envs/rise/lib/python3.9/site-packages/pyart/io/sigmet.py:131: RuntimeWarning: invalid value encountered in sqrt\n",
      "  sigmet_data, sigmet_metadata = sigmetfile.read_data(full_xhdr=full_xhdr)\n"
     ]
    },
    {
     "name": "stdout",
     "output_type": "stream",
     "text": [
      "Este No l2_data/2021/09/10/Guaviare/GUA210910041124.RAWS2PC\n",
      "l2_data/2021/09/10/Guaviare/GUA210910041316.RAWS2PE\n",
      "Este No l2_data/2021/09/10/Guaviare/GUA210910041316.RAWS2PE\n",
      "l2_data/2021/09/10/Guaviare/GUA210910041504.RAWS2PH\n",
      "299.0 [0.49987793]\n",
      "l2_data/2021/09/10/Guaviare/GUA210910041623.RAWS2PL\n"
     ]
    },
    {
     "name": "stderr",
     "output_type": "stream",
     "text": [
      "/data/keeling/a/alfonso8/miniconda3/envs/rise/lib/python3.9/site-packages/pyart/io/sigmet.py:131: RuntimeWarning: invalid value encountered in sqrt\n",
      "  sigmet_data, sigmet_metadata = sigmetfile.read_data(full_xhdr=full_xhdr)\n"
     ]
    },
    {
     "name": "stdout",
     "output_type": "stream",
     "text": [
      "Este No l2_data/2021/09/10/Guaviare/GUA210910041623.RAWS2PL\n",
      "l2_data/2021/09/10/Guaviare/GUA210910041815.RAWS2PM\n",
      "Este No l2_data/2021/09/10/Guaviare/GUA210910041815.RAWS2PM\n",
      "l2_data/2021/09/10/Guaviare/GUA210910042502.RAWS2PV\n",
      "299.0 [0.49987793]\n",
      "l2_data/2021/09/10/Guaviare/GUA210910042622.RAWS2PX\n"
     ]
    },
    {
     "name": "stderr",
     "output_type": "stream",
     "text": [
      "/data/keeling/a/alfonso8/miniconda3/envs/rise/lib/python3.9/site-packages/pyart/io/sigmet.py:131: RuntimeWarning: invalid value encountered in sqrt\n",
      "  sigmet_data, sigmet_metadata = sigmetfile.read_data(full_xhdr=full_xhdr)\n"
     ]
    },
    {
     "name": "stdout",
     "output_type": "stream",
     "text": [
      "Este No l2_data/2021/09/10/Guaviare/GUA210910042622.RAWS2PX\n",
      "l2_data/2021/09/10/Guaviare/GUA210910042814.RAWS2PZ\n",
      "Este No l2_data/2021/09/10/Guaviare/GUA210910042814.RAWS2PZ\n",
      "l2_data/2021/09/10/Guaviare/GUA210910043003.RAWS2R3\n",
      "299.0 [0.49987793]\n",
      "l2_data/2021/09/10/Guaviare/GUA210910043123.RAWS2R5\n"
     ]
    },
    {
     "name": "stderr",
     "output_type": "stream",
     "text": [
      "/data/keeling/a/alfonso8/miniconda3/envs/rise/lib/python3.9/site-packages/pyart/io/sigmet.py:131: RuntimeWarning: invalid value encountered in sqrt\n",
      "  sigmet_data, sigmet_metadata = sigmetfile.read_data(full_xhdr=full_xhdr)\n"
     ]
    },
    {
     "name": "stdout",
     "output_type": "stream",
     "text": [
      "Este No l2_data/2021/09/10/Guaviare/GUA210910043123.RAWS2R5\n",
      "l2_data/2021/09/10/Guaviare/GUA210910043315.RAWS2R6\n",
      "Este No l2_data/2021/09/10/Guaviare/GUA210910043315.RAWS2R6\n",
      "l2_data/2021/09/10/Guaviare/GUA210910043503.RAWS2R9\n",
      "299.0 [0.49987793]\n",
      "l2_data/2021/09/10/Guaviare/GUA210910043623.RAWS2RC\n"
     ]
    },
    {
     "name": "stderr",
     "output_type": "stream",
     "text": [
      "/data/keeling/a/alfonso8/miniconda3/envs/rise/lib/python3.9/site-packages/pyart/io/sigmet.py:131: RuntimeWarning: invalid value encountered in sqrt\n",
      "  sigmet_data, sigmet_metadata = sigmetfile.read_data(full_xhdr=full_xhdr)\n"
     ]
    },
    {
     "name": "stdout",
     "output_type": "stream",
     "text": [
      "Este No l2_data/2021/09/10/Guaviare/GUA210910043623.RAWS2RC\n",
      "l2_data/2021/09/10/Guaviare/GUA210910043815.RAWS2RD\n",
      "Este No l2_data/2021/09/10/Guaviare/GUA210910043815.RAWS2RD\n",
      "l2_data/2021/09/10/Guaviare/GUA210910044004.RAWS2RG\n",
      "299.0 [0.49987793]\n",
      "l2_data/2021/09/10/Guaviare/GUA210910044123.RAWS2RK\n"
     ]
    },
    {
     "name": "stderr",
     "output_type": "stream",
     "text": [
      "/data/keeling/a/alfonso8/miniconda3/envs/rise/lib/python3.9/site-packages/pyart/io/sigmet.py:131: RuntimeWarning: invalid value encountered in sqrt\n",
      "  sigmet_data, sigmet_metadata = sigmetfile.read_data(full_xhdr=full_xhdr)\n"
     ]
    },
    {
     "name": "stdout",
     "output_type": "stream",
     "text": [
      "Este No l2_data/2021/09/10/Guaviare/GUA210910044123.RAWS2RK\n",
      "l2_data/2021/09/10/Guaviare/GUA210910044315.RAWS2RL\n",
      "Este No l2_data/2021/09/10/Guaviare/GUA210910044315.RAWS2RL\n",
      "l2_data/2021/09/10/Guaviare/GUA210910044504.RAWS2RP\n",
      "299.0 [0.49987793]\n",
      "l2_data/2021/09/10/Guaviare/GUA210910044623.RAWS2RS\n"
     ]
    },
    {
     "name": "stderr",
     "output_type": "stream",
     "text": [
      "/data/keeling/a/alfonso8/miniconda3/envs/rise/lib/python3.9/site-packages/pyart/io/sigmet.py:131: RuntimeWarning: invalid value encountered in sqrt\n",
      "  sigmet_data, sigmet_metadata = sigmetfile.read_data(full_xhdr=full_xhdr)\n"
     ]
    },
    {
     "name": "stdout",
     "output_type": "stream",
     "text": [
      "Este No l2_data/2021/09/10/Guaviare/GUA210910044623.RAWS2RS\n",
      "l2_data/2021/09/10/Guaviare/GUA210910044815.RAWS2RU\n",
      "Este No l2_data/2021/09/10/Guaviare/GUA210910044815.RAWS2RU\n",
      "l2_data/2021/09/10/Guaviare/GUA210910045004.RAWS2RX\n",
      "299.0 [0.49987793]\n",
      "l2_data/2021/09/10/Guaviare/GUA210910045124.RAWS2S0\n"
     ]
    },
    {
     "name": "stderr",
     "output_type": "stream",
     "text": [
      "/data/keeling/a/alfonso8/miniconda3/envs/rise/lib/python3.9/site-packages/pyart/io/sigmet.py:131: RuntimeWarning: invalid value encountered in sqrt\n",
      "  sigmet_data, sigmet_metadata = sigmetfile.read_data(full_xhdr=full_xhdr)\n"
     ]
    },
    {
     "name": "stdout",
     "output_type": "stream",
     "text": [
      "Este No l2_data/2021/09/10/Guaviare/GUA210910045124.RAWS2S0\n",
      "l2_data/2021/09/10/Guaviare/GUA210910045316.RAWS2S1\n",
      "Este No l2_data/2021/09/10/Guaviare/GUA210910045316.RAWS2S1\n",
      "l2_data/2021/09/10/Guaviare/GUA210910045504.RAWS2S4\n",
      "299.0 [0.49987793]\n",
      "l2_data/2021/09/10/Guaviare/GUA210910045624.RAWS2S6\n"
     ]
    },
    {
     "name": "stderr",
     "output_type": "stream",
     "text": [
      "/data/keeling/a/alfonso8/miniconda3/envs/rise/lib/python3.9/site-packages/pyart/io/sigmet.py:131: RuntimeWarning: invalid value encountered in sqrt\n",
      "  sigmet_data, sigmet_metadata = sigmetfile.read_data(full_xhdr=full_xhdr)\n"
     ]
    },
    {
     "name": "stdout",
     "output_type": "stream",
     "text": [
      "Este No l2_data/2021/09/10/Guaviare/GUA210910045624.RAWS2S6\n",
      "l2_data/2021/09/10/Guaviare/GUA210910045816.RAWS2S8\n",
      "Este No l2_data/2021/09/10/Guaviare/GUA210910045816.RAWS2S8\n",
      "l2_data/2021/09/10/Guaviare/GUA210910050315.RAWS2SD\n",
      "Este No l2_data/2021/09/10/Guaviare/GUA210910050315.RAWS2SD\n",
      "l2_data/2021/09/10/Guaviare/GUA210910050504.RAWS2SE\n",
      "299.0 [0.49987793]\n",
      "l2_data/2021/09/10/Guaviare/GUA210910050624.RAWS2SH\n"
     ]
    },
    {
     "name": "stderr",
     "output_type": "stream",
     "text": [
      "/data/keeling/a/alfonso8/miniconda3/envs/rise/lib/python3.9/site-packages/pyart/io/sigmet.py:131: RuntimeWarning: invalid value encountered in sqrt\n",
      "  sigmet_data, sigmet_metadata = sigmetfile.read_data(full_xhdr=full_xhdr)\n"
     ]
    },
    {
     "name": "stdout",
     "output_type": "stream",
     "text": [
      "Este No l2_data/2021/09/10/Guaviare/GUA210910050624.RAWS2SH\n",
      "l2_data/2021/09/10/Guaviare/GUA210910050816.RAWS2SJ\n",
      "Este No l2_data/2021/09/10/Guaviare/GUA210910050816.RAWS2SJ\n",
      "l2_data/2021/09/10/Guaviare/GUA210910051004.RAWS2SM\n",
      "299.0 [0.49987793]\n",
      "l2_data/2021/09/10/Guaviare/GUA210910051123.RAWS2SP\n"
     ]
    },
    {
     "name": "stderr",
     "output_type": "stream",
     "text": [
      "/data/keeling/a/alfonso8/miniconda3/envs/rise/lib/python3.9/site-packages/pyart/io/sigmet.py:131: RuntimeWarning: invalid value encountered in sqrt\n",
      "  sigmet_data, sigmet_metadata = sigmetfile.read_data(full_xhdr=full_xhdr)\n"
     ]
    },
    {
     "name": "stdout",
     "output_type": "stream",
     "text": [
      "Este No l2_data/2021/09/10/Guaviare/GUA210910051123.RAWS2SP\n",
      "l2_data/2021/09/10/Guaviare/GUA210910051315.RAWS2SS\n",
      "Este No l2_data/2021/09/10/Guaviare/GUA210910051315.RAWS2SS\n",
      "l2_data/2021/09/10/Guaviare/GUA210910051504.RAWS2SV\n",
      "299.0 [0.49987793]\n",
      "l2_data/2021/09/10/Guaviare/GUA210910051623.RAWS2SY\n"
     ]
    },
    {
     "name": "stderr",
     "output_type": "stream",
     "text": [
      "/data/keeling/a/alfonso8/miniconda3/envs/rise/lib/python3.9/site-packages/pyart/io/sigmet.py:131: RuntimeWarning: invalid value encountered in sqrt\n",
      "  sigmet_data, sigmet_metadata = sigmetfile.read_data(full_xhdr=full_xhdr)\n"
     ]
    },
    {
     "name": "stdout",
     "output_type": "stream",
     "text": [
      "Este No l2_data/2021/09/10/Guaviare/GUA210910051623.RAWS2SY\n",
      "l2_data/2021/09/10/Guaviare/GUA210910051816.RAWS2SZ\n",
      "Este No l2_data/2021/09/10/Guaviare/GUA210910051816.RAWS2SZ\n",
      "l2_data/2021/09/10/Guaviare/GUA210910052004.RAWS2T2\n",
      "299.0 [0.49987793]\n",
      "l2_data/2021/09/10/Guaviare/GUA210910052124.RAWS2T4\n"
     ]
    },
    {
     "name": "stderr",
     "output_type": "stream",
     "text": [
      "/data/keeling/a/alfonso8/miniconda3/envs/rise/lib/python3.9/site-packages/pyart/io/sigmet.py:131: RuntimeWarning: invalid value encountered in sqrt\n",
      "  sigmet_data, sigmet_metadata = sigmetfile.read_data(full_xhdr=full_xhdr)\n"
     ]
    },
    {
     "name": "stdout",
     "output_type": "stream",
     "text": [
      "Este No l2_data/2021/09/10/Guaviare/GUA210910052124.RAWS2T4\n",
      "l2_data/2021/09/10/Guaviare/GUA210910052316.RAWS2T6\n",
      "Este No l2_data/2021/09/10/Guaviare/GUA210910052316.RAWS2T6\n",
      "l2_data/2021/09/10/Guaviare/GUA210910052504.RAWS2T9\n",
      "299.0 [0.49987793]\n",
      "l2_data/2021/09/10/Guaviare/GUA210910052623.RAWS2TB\n"
     ]
    },
    {
     "name": "stderr",
     "output_type": "stream",
     "text": [
      "/data/keeling/a/alfonso8/miniconda3/envs/rise/lib/python3.9/site-packages/pyart/io/sigmet.py:131: RuntimeWarning: invalid value encountered in sqrt\n",
      "  sigmet_data, sigmet_metadata = sigmetfile.read_data(full_xhdr=full_xhdr)\n"
     ]
    },
    {
     "name": "stdout",
     "output_type": "stream",
     "text": [
      "Este No l2_data/2021/09/10/Guaviare/GUA210910052623.RAWS2TB\n",
      "l2_data/2021/09/10/Guaviare/GUA210910052815.RAWS2TD\n",
      "Este No l2_data/2021/09/10/Guaviare/GUA210910052815.RAWS2TD\n",
      "l2_data/2021/09/10/Guaviare/GUA210910053004.RAWS2TG\n",
      "299.0 [0.49987793]\n",
      "l2_data/2021/09/10/Guaviare/GUA210910053123.RAWS2TJ\n"
     ]
    },
    {
     "name": "stderr",
     "output_type": "stream",
     "text": [
      "/data/keeling/a/alfonso8/miniconda3/envs/rise/lib/python3.9/site-packages/pyart/io/sigmet.py:131: RuntimeWarning: invalid value encountered in sqrt\n",
      "  sigmet_data, sigmet_metadata = sigmetfile.read_data(full_xhdr=full_xhdr)\n"
     ]
    },
    {
     "name": "stdout",
     "output_type": "stream",
     "text": [
      "Este No l2_data/2021/09/10/Guaviare/GUA210910053123.RAWS2TJ\n",
      "l2_data/2021/09/10/Guaviare/GUA210910053315.RAWS2TL\n",
      "Este No l2_data/2021/09/10/Guaviare/GUA210910053315.RAWS2TL\n",
      "l2_data/2021/09/10/Guaviare/GUA210910053504.RAWS2TP\n",
      "299.0 [0.49987793]\n",
      "l2_data/2021/09/10/Guaviare/GUA210910053623.RAWS2TT\n"
     ]
    },
    {
     "name": "stderr",
     "output_type": "stream",
     "text": [
      "/data/keeling/a/alfonso8/miniconda3/envs/rise/lib/python3.9/site-packages/pyart/io/sigmet.py:131: RuntimeWarning: invalid value encountered in sqrt\n",
      "  sigmet_data, sigmet_metadata = sigmetfile.read_data(full_xhdr=full_xhdr)\n"
     ]
    },
    {
     "name": "stdout",
     "output_type": "stream",
     "text": [
      "Este No l2_data/2021/09/10/Guaviare/GUA210910053623.RAWS2TT\n",
      "l2_data/2021/09/10/Guaviare/GUA210910053815.RAWS2TU\n",
      "Este No l2_data/2021/09/10/Guaviare/GUA210910053815.RAWS2TU\n",
      "l2_data/2021/09/10/Guaviare/GUA210910054004.RAWS2TX\n",
      "299.0 [0.49987793]\n",
      "l2_data/2021/09/10/Guaviare/GUA210910054123.RAWS2TZ\n"
     ]
    },
    {
     "name": "stderr",
     "output_type": "stream",
     "text": [
      "/data/keeling/a/alfonso8/miniconda3/envs/rise/lib/python3.9/site-packages/pyart/io/sigmet.py:131: RuntimeWarning: invalid value encountered in sqrt\n",
      "  sigmet_data, sigmet_metadata = sigmetfile.read_data(full_xhdr=full_xhdr)\n"
     ]
    },
    {
     "name": "stdout",
     "output_type": "stream",
     "text": [
      "Este No l2_data/2021/09/10/Guaviare/GUA210910054123.RAWS2TZ\n",
      "l2_data/2021/09/10/Guaviare/GUA210910054316.RAWS2U1\n",
      "Este No l2_data/2021/09/10/Guaviare/GUA210910054316.RAWS2U1\n",
      "l2_data/2021/09/10/Guaviare/GUA210910054504.RAWS2U5\n",
      "299.0 [0.49987793]\n",
      "l2_data/2021/09/10/Guaviare/GUA210910054623.RAWS2U7\n"
     ]
    },
    {
     "name": "stderr",
     "output_type": "stream",
     "text": [
      "/data/keeling/a/alfonso8/miniconda3/envs/rise/lib/python3.9/site-packages/pyart/io/sigmet.py:131: RuntimeWarning: invalid value encountered in sqrt\n",
      "  sigmet_data, sigmet_metadata = sigmetfile.read_data(full_xhdr=full_xhdr)\n"
     ]
    },
    {
     "name": "stdout",
     "output_type": "stream",
     "text": [
      "Este No l2_data/2021/09/10/Guaviare/GUA210910054623.RAWS2U7\n",
      "l2_data/2021/09/10/Guaviare/GUA210910054815.RAWS2U8\n",
      "Este No l2_data/2021/09/10/Guaviare/GUA210910054815.RAWS2U8\n",
      "l2_data/2021/09/10/Guaviare/GUA210910055004.RAWS2UB\n",
      "299.0 [0.49987793]\n",
      "l2_data/2021/09/10/Guaviare/GUA210910055123.RAWS2UD\n"
     ]
    },
    {
     "name": "stderr",
     "output_type": "stream",
     "text": [
      "/data/keeling/a/alfonso8/miniconda3/envs/rise/lib/python3.9/site-packages/pyart/io/sigmet.py:131: RuntimeWarning: invalid value encountered in sqrt\n",
      "  sigmet_data, sigmet_metadata = sigmetfile.read_data(full_xhdr=full_xhdr)\n"
     ]
    },
    {
     "name": "stdout",
     "output_type": "stream",
     "text": [
      "Este No l2_data/2021/09/10/Guaviare/GUA210910055123.RAWS2UD\n",
      "l2_data/2021/09/10/Guaviare/GUA210910055314.RAWS2UF\n",
      "Este No l2_data/2021/09/10/Guaviare/GUA210910055314.RAWS2UF\n",
      "l2_data/2021/09/10/Guaviare/GUA210910055504.RAWS2UJ\n",
      "299.0 [0.49987793]\n",
      "l2_data/2021/09/10/Guaviare/GUA210910055624.RAWS2UL\n"
     ]
    },
    {
     "name": "stderr",
     "output_type": "stream",
     "text": [
      "/data/keeling/a/alfonso8/miniconda3/envs/rise/lib/python3.9/site-packages/pyart/io/sigmet.py:131: RuntimeWarning: invalid value encountered in sqrt\n",
      "  sigmet_data, sigmet_metadata = sigmetfile.read_data(full_xhdr=full_xhdr)\n"
     ]
    },
    {
     "name": "stdout",
     "output_type": "stream",
     "text": [
      "Este No l2_data/2021/09/10/Guaviare/GUA210910055624.RAWS2UL\n",
      "l2_data/2021/09/10/Guaviare/GUA210910055815.RAWS2UN\n",
      "Este No l2_data/2021/09/10/Guaviare/GUA210910055815.RAWS2UN\n",
      "l2_data/2021/09/10/Guaviare/GUA210910060004.RAWS2US\n",
      "299.0 [0.49987793]\n",
      "l2_data/2021/09/10/Guaviare/GUA210910060123.RAWS2UV\n"
     ]
    },
    {
     "name": "stderr",
     "output_type": "stream",
     "text": [
      "/data/keeling/a/alfonso8/miniconda3/envs/rise/lib/python3.9/site-packages/pyart/io/sigmet.py:131: RuntimeWarning: invalid value encountered in sqrt\n",
      "  sigmet_data, sigmet_metadata = sigmetfile.read_data(full_xhdr=full_xhdr)\n"
     ]
    },
    {
     "name": "stdout",
     "output_type": "stream",
     "text": [
      "Este No l2_data/2021/09/10/Guaviare/GUA210910060123.RAWS2UV\n",
      "l2_data/2021/09/10/Guaviare/GUA210910060315.RAWS2UW\n",
      "Este No l2_data/2021/09/10/Guaviare/GUA210910060315.RAWS2UW\n",
      "l2_data/2021/09/10/Guaviare/GUA210910060504.RAWS2UZ\n",
      "299.0 [0.49987793]\n",
      "l2_data/2021/09/10/Guaviare/GUA210910060624.RAWS2V2\n"
     ]
    },
    {
     "name": "stderr",
     "output_type": "stream",
     "text": [
      "/data/keeling/a/alfonso8/miniconda3/envs/rise/lib/python3.9/site-packages/pyart/io/sigmet.py:131: RuntimeWarning: invalid value encountered in sqrt\n",
      "  sigmet_data, sigmet_metadata = sigmetfile.read_data(full_xhdr=full_xhdr)\n"
     ]
    },
    {
     "name": "stdout",
     "output_type": "stream",
     "text": [
      "Este No l2_data/2021/09/10/Guaviare/GUA210910060624.RAWS2V2\n",
      "l2_data/2021/09/10/Guaviare/GUA210910060816.RAWS2V3\n",
      "Este No l2_data/2021/09/10/Guaviare/GUA210910060816.RAWS2V3\n",
      "l2_data/2021/09/10/Guaviare/GUA210910061004.RAWS2V6\n",
      "299.0 [0.49987793]\n",
      "l2_data/2021/09/10/Guaviare/GUA210910061124.RAWS2V8\n"
     ]
    },
    {
     "name": "stderr",
     "output_type": "stream",
     "text": [
      "/data/keeling/a/alfonso8/miniconda3/envs/rise/lib/python3.9/site-packages/pyart/io/sigmet.py:131: RuntimeWarning: invalid value encountered in sqrt\n",
      "  sigmet_data, sigmet_metadata = sigmetfile.read_data(full_xhdr=full_xhdr)\n"
     ]
    },
    {
     "name": "stdout",
     "output_type": "stream",
     "text": [
      "Este No l2_data/2021/09/10/Guaviare/GUA210910061124.RAWS2V8\n",
      "l2_data/2021/09/10/Guaviare/GUA210910061316.RAWS2VA\n",
      "Este No l2_data/2021/09/10/Guaviare/GUA210910061316.RAWS2VA\n",
      "l2_data/2021/09/10/Guaviare/GUA210910061504.RAWS2VD\n",
      "299.0 [0.49987793]\n",
      "l2_data/2021/09/10/Guaviare/GUA210910061624.RAWS2VG\n"
     ]
    },
    {
     "name": "stderr",
     "output_type": "stream",
     "text": [
      "/data/keeling/a/alfonso8/miniconda3/envs/rise/lib/python3.9/site-packages/pyart/io/sigmet.py:131: RuntimeWarning: invalid value encountered in sqrt\n",
      "  sigmet_data, sigmet_metadata = sigmetfile.read_data(full_xhdr=full_xhdr)\n"
     ]
    },
    {
     "name": "stdout",
     "output_type": "stream",
     "text": [
      "Este No l2_data/2021/09/10/Guaviare/GUA210910061624.RAWS2VG\n",
      "l2_data/2021/09/10/Guaviare/GUA210910061816.RAWS2VH\n",
      "Este No l2_data/2021/09/10/Guaviare/GUA210910061816.RAWS2VH\n",
      "l2_data/2021/09/10/Guaviare/GUA210910062004.RAWS2VL\n",
      "299.0 [0.49987793]\n",
      "l2_data/2021/09/10/Guaviare/GUA210910062124.RAWS2VN\n"
     ]
    },
    {
     "name": "stderr",
     "output_type": "stream",
     "text": [
      "/data/keeling/a/alfonso8/miniconda3/envs/rise/lib/python3.9/site-packages/pyart/io/sigmet.py:131: RuntimeWarning: invalid value encountered in sqrt\n",
      "  sigmet_data, sigmet_metadata = sigmetfile.read_data(full_xhdr=full_xhdr)\n"
     ]
    },
    {
     "name": "stdout",
     "output_type": "stream",
     "text": [
      "Este No l2_data/2021/09/10/Guaviare/GUA210910062124.RAWS2VN\n",
      "l2_data/2021/09/10/Guaviare/GUA210910062316.RAWS2VR\n",
      "Este No l2_data/2021/09/10/Guaviare/GUA210910062316.RAWS2VR\n",
      "l2_data/2021/09/10/Guaviare/GUA210910062504.RAWS2VU\n",
      "299.0 [0.49987793]\n",
      "l2_data/2021/09/10/Guaviare/GUA210910062624.RAWS2VX\n"
     ]
    },
    {
     "name": "stderr",
     "output_type": "stream",
     "text": [
      "/data/keeling/a/alfonso8/miniconda3/envs/rise/lib/python3.9/site-packages/pyart/io/sigmet.py:131: RuntimeWarning: invalid value encountered in sqrt\n",
      "  sigmet_data, sigmet_metadata = sigmetfile.read_data(full_xhdr=full_xhdr)\n"
     ]
    },
    {
     "name": "stdout",
     "output_type": "stream",
     "text": [
      "Este No l2_data/2021/09/10/Guaviare/GUA210910062624.RAWS2VX\n",
      "l2_data/2021/09/10/Guaviare/GUA210910062816.RAWS2VY\n",
      "Este No l2_data/2021/09/10/Guaviare/GUA210910062816.RAWS2VY\n",
      "l2_data/2021/09/10/Guaviare/GUA210910063004.RAWS2W1\n",
      "299.0 [0.49987793]\n",
      "l2_data/2021/09/10/Guaviare/GUA210910063124.RAWS2W3\n"
     ]
    },
    {
     "name": "stderr",
     "output_type": "stream",
     "text": [
      "/data/keeling/a/alfonso8/miniconda3/envs/rise/lib/python3.9/site-packages/pyart/io/sigmet.py:131: RuntimeWarning: invalid value encountered in sqrt\n",
      "  sigmet_data, sigmet_metadata = sigmetfile.read_data(full_xhdr=full_xhdr)\n"
     ]
    },
    {
     "name": "stdout",
     "output_type": "stream",
     "text": [
      "Este No l2_data/2021/09/10/Guaviare/GUA210910063124.RAWS2W3\n",
      "l2_data/2021/09/10/Guaviare/GUA210910063316.RAWS2W5\n",
      "Este No l2_data/2021/09/10/Guaviare/GUA210910063316.RAWS2W5\n",
      "l2_data/2021/09/10/Guaviare/GUA210910063504.RAWS2W8\n",
      "299.0 [0.49987793]\n",
      "l2_data/2021/09/10/Guaviare/GUA210910063623.RAWS2WA\n"
     ]
    },
    {
     "name": "stderr",
     "output_type": "stream",
     "text": [
      "/data/keeling/a/alfonso8/miniconda3/envs/rise/lib/python3.9/site-packages/pyart/io/sigmet.py:131: RuntimeWarning: invalid value encountered in sqrt\n",
      "  sigmet_data, sigmet_metadata = sigmetfile.read_data(full_xhdr=full_xhdr)\n"
     ]
    },
    {
     "name": "stdout",
     "output_type": "stream",
     "text": [
      "Este No l2_data/2021/09/10/Guaviare/GUA210910063623.RAWS2WA\n",
      "l2_data/2021/09/10/Guaviare/GUA210910063815.RAWS2WC\n",
      "Este No l2_data/2021/09/10/Guaviare/GUA210910063815.RAWS2WC\n",
      "l2_data/2021/09/10/Guaviare/GUA210910064004.RAWS2WF\n",
      "299.0 [0.49987793]\n",
      "l2_data/2021/09/10/Guaviare/GUA210910064123.RAWS2WH\n"
     ]
    },
    {
     "name": "stderr",
     "output_type": "stream",
     "text": [
      "/data/keeling/a/alfonso8/miniconda3/envs/rise/lib/python3.9/site-packages/pyart/io/sigmet.py:131: RuntimeWarning: invalid value encountered in sqrt\n",
      "  sigmet_data, sigmet_metadata = sigmetfile.read_data(full_xhdr=full_xhdr)\n"
     ]
    },
    {
     "name": "stdout",
     "output_type": "stream",
     "text": [
      "Este No l2_data/2021/09/10/Guaviare/GUA210910064123.RAWS2WH\n",
      "l2_data/2021/09/10/Guaviare/GUA210910064316.RAWS2WK\n",
      "Este No l2_data/2021/09/10/Guaviare/GUA210910064316.RAWS2WK\n",
      "l2_data/2021/09/10/Guaviare/GUA210910064504.RAWS2WN\n",
      "299.0 [0.49987793]\n",
      "l2_data/2021/09/10/Guaviare/GUA210910064623.RAWS2WS\n"
     ]
    },
    {
     "name": "stderr",
     "output_type": "stream",
     "text": [
      "/data/keeling/a/alfonso8/miniconda3/envs/rise/lib/python3.9/site-packages/pyart/io/sigmet.py:131: RuntimeWarning: invalid value encountered in sqrt\n",
      "  sigmet_data, sigmet_metadata = sigmetfile.read_data(full_xhdr=full_xhdr)\n"
     ]
    },
    {
     "name": "stdout",
     "output_type": "stream",
     "text": [
      "Este No l2_data/2021/09/10/Guaviare/GUA210910064623.RAWS2WS\n",
      "l2_data/2021/09/10/Guaviare/GUA210910064816.RAWS2WT\n",
      "Este No l2_data/2021/09/10/Guaviare/GUA210910064816.RAWS2WT\n",
      "l2_data/2021/09/10/Guaviare/GUA210910065004.RAWS2WW\n",
      "299.0 [0.49987793]\n",
      "l2_data/2021/09/10/Guaviare/GUA210910065123.RAWS2WZ\n"
     ]
    },
    {
     "name": "stderr",
     "output_type": "stream",
     "text": [
      "/data/keeling/a/alfonso8/miniconda3/envs/rise/lib/python3.9/site-packages/pyart/io/sigmet.py:131: RuntimeWarning: invalid value encountered in sqrt\n",
      "  sigmet_data, sigmet_metadata = sigmetfile.read_data(full_xhdr=full_xhdr)\n"
     ]
    },
    {
     "name": "stdout",
     "output_type": "stream",
     "text": [
      "Este No l2_data/2021/09/10/Guaviare/GUA210910065123.RAWS2WZ\n",
      "l2_data/2021/09/10/Guaviare/GUA210910065315.RAWS2X0\n",
      "Este No l2_data/2021/09/10/Guaviare/GUA210910065315.RAWS2X0\n",
      "l2_data/2021/09/10/Guaviare/GUA210910065504.RAWS2X3\n",
      "299.0 [0.49987793]\n",
      "l2_data/2021/09/10/Guaviare/GUA210910065623.RAWS2X5\n"
     ]
    },
    {
     "name": "stderr",
     "output_type": "stream",
     "text": [
      "/data/keeling/a/alfonso8/miniconda3/envs/rise/lib/python3.9/site-packages/pyart/io/sigmet.py:131: RuntimeWarning: invalid value encountered in sqrt\n",
      "  sigmet_data, sigmet_metadata = sigmetfile.read_data(full_xhdr=full_xhdr)\n"
     ]
    },
    {
     "name": "stdout",
     "output_type": "stream",
     "text": [
      "Este No l2_data/2021/09/10/Guaviare/GUA210910065623.RAWS2X5\n",
      "l2_data/2021/09/10/Guaviare/GUA210910065814.RAWS2X7\n",
      "Este No l2_data/2021/09/10/Guaviare/GUA210910065814.RAWS2X7\n",
      "l2_data/2021/09/10/Guaviare/GUA210910070004.RAWS2XA\n",
      "299.0 [0.49987793]\n",
      "l2_data/2021/09/10/Guaviare/GUA210910070123.RAWS2XC\n"
     ]
    },
    {
     "name": "stderr",
     "output_type": "stream",
     "text": [
      "/data/keeling/a/alfonso8/miniconda3/envs/rise/lib/python3.9/site-packages/pyart/io/sigmet.py:131: RuntimeWarning: invalid value encountered in sqrt\n",
      "  sigmet_data, sigmet_metadata = sigmetfile.read_data(full_xhdr=full_xhdr)\n"
     ]
    },
    {
     "name": "stdout",
     "output_type": "stream",
     "text": [
      "Este No l2_data/2021/09/10/Guaviare/GUA210910070123.RAWS2XC\n",
      "l2_data/2021/09/10/Guaviare/GUA210910070314.RAWS2XE\n",
      "Este No l2_data/2021/09/10/Guaviare/GUA210910070314.RAWS2XE\n",
      "l2_data/2021/09/10/Guaviare/GUA210910070504.RAWS2XH\n",
      "299.0 [0.49987793]\n",
      "l2_data/2021/09/10/Guaviare/GUA210910070624.RAWS2XK\n"
     ]
    },
    {
     "name": "stderr",
     "output_type": "stream",
     "text": [
      "/data/keeling/a/alfonso8/miniconda3/envs/rise/lib/python3.9/site-packages/pyart/io/sigmet.py:131: RuntimeWarning: invalid value encountered in sqrt\n",
      "  sigmet_data, sigmet_metadata = sigmetfile.read_data(full_xhdr=full_xhdr)\n"
     ]
    },
    {
     "name": "stdout",
     "output_type": "stream",
     "text": [
      "Este No l2_data/2021/09/10/Guaviare/GUA210910070624.RAWS2XK\n",
      "l2_data/2021/09/10/Guaviare/GUA210910070816.RAWS2XM\n",
      "Este No l2_data/2021/09/10/Guaviare/GUA210910070816.RAWS2XM\n",
      "l2_data/2021/09/10/Guaviare/GUA210910071004.RAWS2XR\n",
      "299.0 [0.49987793]\n",
      "l2_data/2021/09/10/Guaviare/GUA210910071124.RAWS2XT\n"
     ]
    },
    {
     "name": "stderr",
     "output_type": "stream",
     "text": [
      "/data/keeling/a/alfonso8/miniconda3/envs/rise/lib/python3.9/site-packages/pyart/io/sigmet.py:131: RuntimeWarning: invalid value encountered in sqrt\n",
      "  sigmet_data, sigmet_metadata = sigmetfile.read_data(full_xhdr=full_xhdr)\n"
     ]
    },
    {
     "name": "stdout",
     "output_type": "stream",
     "text": [
      "Este No l2_data/2021/09/10/Guaviare/GUA210910071124.RAWS2XT\n",
      "l2_data/2021/09/10/Guaviare/GUA210910071316.RAWS2XV\n",
      "Este No l2_data/2021/09/10/Guaviare/GUA210910071316.RAWS2XV\n",
      "l2_data/2021/09/10/Guaviare/GUA210910071504.RAWS2XY\n",
      "299.0 [0.49987793]\n",
      "l2_data/2021/09/10/Guaviare/GUA210910071623.RAWS2Y1\n"
     ]
    },
    {
     "name": "stderr",
     "output_type": "stream",
     "text": [
      "/data/keeling/a/alfonso8/miniconda3/envs/rise/lib/python3.9/site-packages/pyart/io/sigmet.py:131: RuntimeWarning: invalid value encountered in sqrt\n",
      "  sigmet_data, sigmet_metadata = sigmetfile.read_data(full_xhdr=full_xhdr)\n"
     ]
    },
    {
     "name": "stdout",
     "output_type": "stream",
     "text": [
      "Este No l2_data/2021/09/10/Guaviare/GUA210910071623.RAWS2Y1\n",
      "l2_data/2021/09/10/Guaviare/GUA210910071815.RAWS2Y2\n",
      "Este No l2_data/2021/09/10/Guaviare/GUA210910071815.RAWS2Y2\n",
      "l2_data/2021/09/10/Guaviare/GUA210910072004.RAWS2Y5\n",
      "299.0 [0.49987793]\n",
      "l2_data/2021/09/10/Guaviare/GUA210910072123.RAWS2Y8\n"
     ]
    },
    {
     "name": "stderr",
     "output_type": "stream",
     "text": [
      "/data/keeling/a/alfonso8/miniconda3/envs/rise/lib/python3.9/site-packages/pyart/io/sigmet.py:131: RuntimeWarning: invalid value encountered in sqrt\n",
      "  sigmet_data, sigmet_metadata = sigmetfile.read_data(full_xhdr=full_xhdr)\n"
     ]
    },
    {
     "name": "stdout",
     "output_type": "stream",
     "text": [
      "Este No l2_data/2021/09/10/Guaviare/GUA210910072123.RAWS2Y8\n",
      "l2_data/2021/09/10/Guaviare/GUA210910072316.RAWS2Y9\n",
      "Este No l2_data/2021/09/10/Guaviare/GUA210910072316.RAWS2Y9\n",
      "l2_data/2021/09/10/Guaviare/GUA210910072504.RAWS2YC\n",
      "299.0 [0.49987793]\n",
      "l2_data/2021/09/10/Guaviare/GUA210910072624.RAWS2YE\n"
     ]
    },
    {
     "name": "stderr",
     "output_type": "stream",
     "text": [
      "/data/keeling/a/alfonso8/miniconda3/envs/rise/lib/python3.9/site-packages/pyart/io/sigmet.py:131: RuntimeWarning: invalid value encountered in sqrt\n",
      "  sigmet_data, sigmet_metadata = sigmetfile.read_data(full_xhdr=full_xhdr)\n"
     ]
    },
    {
     "name": "stdout",
     "output_type": "stream",
     "text": [
      "Este No l2_data/2021/09/10/Guaviare/GUA210910072624.RAWS2YE\n",
      "l2_data/2021/09/10/Guaviare/GUA210910072816.RAWS2YG\n",
      "Este No l2_data/2021/09/10/Guaviare/GUA210910072816.RAWS2YG\n",
      "l2_data/2021/09/10/Guaviare/GUA210910073004.RAWS2YK\n",
      "299.0 [0.49987793]\n",
      "l2_data/2021/09/10/Guaviare/GUA210910073124.RAWS2YM\n"
     ]
    },
    {
     "name": "stderr",
     "output_type": "stream",
     "text": [
      "/data/keeling/a/alfonso8/miniconda3/envs/rise/lib/python3.9/site-packages/pyart/io/sigmet.py:131: RuntimeWarning: invalid value encountered in sqrt\n",
      "  sigmet_data, sigmet_metadata = sigmetfile.read_data(full_xhdr=full_xhdr)\n"
     ]
    },
    {
     "name": "stdout",
     "output_type": "stream",
     "text": [
      "Este No l2_data/2021/09/10/Guaviare/GUA210910073124.RAWS2YM\n",
      "l2_data/2021/09/10/Guaviare/GUA210910073316.RAWS2YP\n",
      "Este No l2_data/2021/09/10/Guaviare/GUA210910073316.RAWS2YP\n",
      "l2_data/2021/09/10/Guaviare/GUA210910073504.RAWS2YT\n",
      "299.0 [0.49987793]\n",
      "l2_data/2021/09/10/Guaviare/GUA210910073624.RAWS2YV\n"
     ]
    },
    {
     "name": "stderr",
     "output_type": "stream",
     "text": [
      "/data/keeling/a/alfonso8/miniconda3/envs/rise/lib/python3.9/site-packages/pyart/io/sigmet.py:131: RuntimeWarning: invalid value encountered in sqrt\n",
      "  sigmet_data, sigmet_metadata = sigmetfile.read_data(full_xhdr=full_xhdr)\n"
     ]
    },
    {
     "name": "stdout",
     "output_type": "stream",
     "text": [
      "Este No l2_data/2021/09/10/Guaviare/GUA210910073624.RAWS2YV\n",
      "l2_data/2021/09/10/Guaviare/GUA210910073816.RAWS2YX\n",
      "Este No l2_data/2021/09/10/Guaviare/GUA210910073816.RAWS2YX\n",
      "l2_data/2021/09/10/Guaviare/GUA210910074004.RAWS2Z0\n",
      "299.0 [0.49987793]\n",
      "l2_data/2021/09/10/Guaviare/GUA210910074124.RAWS2Z2\n"
     ]
    },
    {
     "name": "stderr",
     "output_type": "stream",
     "text": [
      "/data/keeling/a/alfonso8/miniconda3/envs/rise/lib/python3.9/site-packages/pyart/io/sigmet.py:131: RuntimeWarning: invalid value encountered in sqrt\n",
      "  sigmet_data, sigmet_metadata = sigmetfile.read_data(full_xhdr=full_xhdr)\n"
     ]
    },
    {
     "name": "stdout",
     "output_type": "stream",
     "text": [
      "Este No l2_data/2021/09/10/Guaviare/GUA210910074124.RAWS2Z2\n",
      "l2_data/2021/09/10/Guaviare/GUA210910074316.RAWS2Z4\n",
      "Este No l2_data/2021/09/10/Guaviare/GUA210910074316.RAWS2Z4\n",
      "l2_data/2021/09/10/Guaviare/GUA210910074504.RAWS2Z7\n",
      "299.0 [0.49987793]\n",
      "l2_data/2021/09/10/Guaviare/GUA210910074623.RAWS2ZA\n"
     ]
    },
    {
     "name": "stderr",
     "output_type": "stream",
     "text": [
      "/data/keeling/a/alfonso8/miniconda3/envs/rise/lib/python3.9/site-packages/pyart/io/sigmet.py:131: RuntimeWarning: invalid value encountered in sqrt\n",
      "  sigmet_data, sigmet_metadata = sigmetfile.read_data(full_xhdr=full_xhdr)\n"
     ]
    },
    {
     "name": "stdout",
     "output_type": "stream",
     "text": [
      "Este No l2_data/2021/09/10/Guaviare/GUA210910074623.RAWS2ZA\n",
      "l2_data/2021/09/10/Guaviare/GUA210910074816.RAWS2ZB\n",
      "Este No l2_data/2021/09/10/Guaviare/GUA210910074816.RAWS2ZB\n",
      "l2_data/2021/09/10/Guaviare/GUA210910075004.RAWS2ZE\n",
      "299.0 [0.49987793]\n",
      "l2_data/2021/09/10/Guaviare/GUA210910075123.RAWS2ZG\n"
     ]
    },
    {
     "name": "stderr",
     "output_type": "stream",
     "text": [
      "/data/keeling/a/alfonso8/miniconda3/envs/rise/lib/python3.9/site-packages/pyart/io/sigmet.py:131: RuntimeWarning: invalid value encountered in sqrt\n",
      "  sigmet_data, sigmet_metadata = sigmetfile.read_data(full_xhdr=full_xhdr)\n"
     ]
    },
    {
     "name": "stdout",
     "output_type": "stream",
     "text": [
      "Este No l2_data/2021/09/10/Guaviare/GUA210910075123.RAWS2ZG\n",
      "l2_data/2021/09/10/Guaviare/GUA210910075315.RAWS2ZJ\n",
      "Este No l2_data/2021/09/10/Guaviare/GUA210910075315.RAWS2ZJ\n",
      "l2_data/2021/09/10/Guaviare/GUA210910075504.RAWS2ZM\n",
      "299.0 [0.49987793]\n",
      "l2_data/2021/09/10/Guaviare/GUA210910075623.RAWS2ZR\n"
     ]
    },
    {
     "name": "stderr",
     "output_type": "stream",
     "text": [
      "/data/keeling/a/alfonso8/miniconda3/envs/rise/lib/python3.9/site-packages/pyart/io/sigmet.py:131: RuntimeWarning: invalid value encountered in sqrt\n",
      "  sigmet_data, sigmet_metadata = sigmetfile.read_data(full_xhdr=full_xhdr)\n"
     ]
    },
    {
     "name": "stdout",
     "output_type": "stream",
     "text": [
      "Este No l2_data/2021/09/10/Guaviare/GUA210910075623.RAWS2ZR\n",
      "l2_data/2021/09/10/Guaviare/GUA210910075815.RAWS2ZS\n",
      "Este No l2_data/2021/09/10/Guaviare/GUA210910075815.RAWS2ZS\n",
      "l2_data/2021/09/10/Guaviare/GUA210910080004.RAWS2ZV\n",
      "299.0 [0.49987793]\n",
      "l2_data/2021/09/10/Guaviare/GUA210910080124.RAWS2ZX\n"
     ]
    },
    {
     "name": "stderr",
     "output_type": "stream",
     "text": [
      "/data/keeling/a/alfonso8/miniconda3/envs/rise/lib/python3.9/site-packages/pyart/io/sigmet.py:131: RuntimeWarning: invalid value encountered in sqrt\n",
      "  sigmet_data, sigmet_metadata = sigmetfile.read_data(full_xhdr=full_xhdr)\n"
     ]
    },
    {
     "name": "stdout",
     "output_type": "stream",
     "text": [
      "Este No l2_data/2021/09/10/Guaviare/GUA210910080124.RAWS2ZX\n",
      "l2_data/2021/09/10/Guaviare/GUA210910080315.RAWS301\n",
      "Este No l2_data/2021/09/10/Guaviare/GUA210910080315.RAWS301\n",
      "l2_data/2021/09/10/Guaviare/GUA210910080504.RAWS302\n",
      "299.0 [0.49987793]\n",
      "l2_data/2021/09/10/Guaviare/GUA210910080623.RAWS304\n"
     ]
    },
    {
     "name": "stderr",
     "output_type": "stream",
     "text": [
      "/data/keeling/a/alfonso8/miniconda3/envs/rise/lib/python3.9/site-packages/pyart/io/sigmet.py:131: RuntimeWarning: invalid value encountered in sqrt\n",
      "  sigmet_data, sigmet_metadata = sigmetfile.read_data(full_xhdr=full_xhdr)\n"
     ]
    },
    {
     "name": "stdout",
     "output_type": "stream",
     "text": [
      "Este No l2_data/2021/09/10/Guaviare/GUA210910080623.RAWS304\n",
      "l2_data/2021/09/10/Guaviare/GUA210910080814.RAWS306\n",
      "Este No l2_data/2021/09/10/Guaviare/GUA210910080814.RAWS306\n",
      "l2_data/2021/09/10/Guaviare/GUA210910081004.RAWS309\n",
      "299.0 [0.49987793]\n",
      "l2_data/2021/09/10/Guaviare/GUA210910081123.RAWS30B\n"
     ]
    },
    {
     "name": "stderr",
     "output_type": "stream",
     "text": [
      "/data/keeling/a/alfonso8/miniconda3/envs/rise/lib/python3.9/site-packages/pyart/io/sigmet.py:131: RuntimeWarning: invalid value encountered in sqrt\n",
      "  sigmet_data, sigmet_metadata = sigmetfile.read_data(full_xhdr=full_xhdr)\n"
     ]
    },
    {
     "name": "stdout",
     "output_type": "stream",
     "text": [
      "Este No l2_data/2021/09/10/Guaviare/GUA210910081123.RAWS30B\n",
      "l2_data/2021/09/10/Guaviare/GUA210910081316.RAWS30D\n",
      "Este No l2_data/2021/09/10/Guaviare/GUA210910081316.RAWS30D\n",
      "l2_data/2021/09/10/Guaviare/GUA210910081503.RAWS30G\n",
      "299.0 [0.49987793]\n",
      "l2_data/2021/09/10/Guaviare/GUA210910081623.RAWS30J\n"
     ]
    },
    {
     "name": "stderr",
     "output_type": "stream",
     "text": [
      "/data/keeling/a/alfonso8/miniconda3/envs/rise/lib/python3.9/site-packages/pyart/io/sigmet.py:131: RuntimeWarning: invalid value encountered in sqrt\n",
      "  sigmet_data, sigmet_metadata = sigmetfile.read_data(full_xhdr=full_xhdr)\n"
     ]
    },
    {
     "name": "stdout",
     "output_type": "stream",
     "text": [
      "Este No l2_data/2021/09/10/Guaviare/GUA210910081623.RAWS30J\n",
      "l2_data/2021/09/10/Guaviare/GUA210910081816.RAWS30N\n",
      "Este No l2_data/2021/09/10/Guaviare/GUA210910081816.RAWS30N\n",
      "l2_data/2021/09/10/Guaviare/GUA210910082004.RAWS30P\n",
      "299.0 [0.49987793]\n",
      "l2_data/2021/09/10/Guaviare/GUA210910082124.RAWS30T\n"
     ]
    },
    {
     "name": "stderr",
     "output_type": "stream",
     "text": [
      "/data/keeling/a/alfonso8/miniconda3/envs/rise/lib/python3.9/site-packages/pyart/io/sigmet.py:131: RuntimeWarning: invalid value encountered in sqrt\n",
      "  sigmet_data, sigmet_metadata = sigmetfile.read_data(full_xhdr=full_xhdr)\n"
     ]
    },
    {
     "name": "stdout",
     "output_type": "stream",
     "text": [
      "Este No l2_data/2021/09/10/Guaviare/GUA210910082124.RAWS30T\n",
      "l2_data/2021/09/10/Guaviare/GUA210910082316.RAWS30U\n",
      "Este No l2_data/2021/09/10/Guaviare/GUA210910082316.RAWS30U\n",
      "l2_data/2021/09/10/Guaviare/GUA210910082504.RAWS30X\n",
      "299.0 [0.49987793]\n",
      "l2_data/2021/09/10/Guaviare/GUA210910082624.RAWS30Z\n"
     ]
    },
    {
     "name": "stderr",
     "output_type": "stream",
     "text": [
      "/data/keeling/a/alfonso8/miniconda3/envs/rise/lib/python3.9/site-packages/pyart/io/sigmet.py:131: RuntimeWarning: invalid value encountered in sqrt\n",
      "  sigmet_data, sigmet_metadata = sigmetfile.read_data(full_xhdr=full_xhdr)\n"
     ]
    },
    {
     "name": "stdout",
     "output_type": "stream",
     "text": [
      "Este No l2_data/2021/09/10/Guaviare/GUA210910082624.RAWS30Z\n",
      "l2_data/2021/09/10/Guaviare/GUA210910082815.RAWS311\n",
      "Este No l2_data/2021/09/10/Guaviare/GUA210910082815.RAWS311\n",
      "l2_data/2021/09/10/Guaviare/GUA210910083004.RAWS314\n",
      "299.0 [0.49987793]\n",
      "l2_data/2021/09/10/Guaviare/GUA210910083124.RAWS316\n"
     ]
    },
    {
     "name": "stderr",
     "output_type": "stream",
     "text": [
      "/data/keeling/a/alfonso8/miniconda3/envs/rise/lib/python3.9/site-packages/pyart/io/sigmet.py:131: RuntimeWarning: invalid value encountered in sqrt\n",
      "  sigmet_data, sigmet_metadata = sigmetfile.read_data(full_xhdr=full_xhdr)\n"
     ]
    },
    {
     "name": "stdout",
     "output_type": "stream",
     "text": [
      "Este No l2_data/2021/09/10/Guaviare/GUA210910083124.RAWS316\n",
      "l2_data/2021/09/10/Guaviare/GUA210910083315.RAWS318\n",
      "Este No l2_data/2021/09/10/Guaviare/GUA210910083315.RAWS318\n",
      "l2_data/2021/09/10/Guaviare/GUA210910083504.RAWS31B\n",
      "299.0 [0.49987793]\n",
      "l2_data/2021/09/10/Guaviare/GUA210910083623.RAWS31E\n"
     ]
    },
    {
     "name": "stderr",
     "output_type": "stream",
     "text": [
      "/data/keeling/a/alfonso8/miniconda3/envs/rise/lib/python3.9/site-packages/pyart/io/sigmet.py:131: RuntimeWarning: invalid value encountered in sqrt\n",
      "  sigmet_data, sigmet_metadata = sigmetfile.read_data(full_xhdr=full_xhdr)\n"
     ]
    },
    {
     "name": "stdout",
     "output_type": "stream",
     "text": [
      "Este No l2_data/2021/09/10/Guaviare/GUA210910083623.RAWS31E\n",
      "l2_data/2021/09/10/Guaviare/GUA210910083816.RAWS31F\n",
      "Este No l2_data/2021/09/10/Guaviare/GUA210910083816.RAWS31F\n",
      "l2_data/2021/09/10/Guaviare/GUA210910084004.RAWS31J\n",
      "299.0 [0.49987793]\n",
      "l2_data/2021/09/10/Guaviare/GUA210910084124.RAWS31L\n"
     ]
    },
    {
     "name": "stderr",
     "output_type": "stream",
     "text": [
      "/data/keeling/a/alfonso8/miniconda3/envs/rise/lib/python3.9/site-packages/pyart/io/sigmet.py:131: RuntimeWarning: invalid value encountered in sqrt\n",
      "  sigmet_data, sigmet_metadata = sigmetfile.read_data(full_xhdr=full_xhdr)\n"
     ]
    },
    {
     "name": "stdout",
     "output_type": "stream",
     "text": [
      "Este No l2_data/2021/09/10/Guaviare/GUA210910084124.RAWS31L\n",
      "l2_data/2021/09/10/Guaviare/GUA210910084316.RAWS31P\n",
      "Este No l2_data/2021/09/10/Guaviare/GUA210910084316.RAWS31P\n",
      "l2_data/2021/09/10/Guaviare/GUA210910084504.RAWS31S\n",
      "299.0 [0.49987793]\n",
      "l2_data/2021/09/10/Guaviare/GUA210910084623.RAWS31U\n"
     ]
    },
    {
     "name": "stderr",
     "output_type": "stream",
     "text": [
      "/data/keeling/a/alfonso8/miniconda3/envs/rise/lib/python3.9/site-packages/pyart/io/sigmet.py:131: RuntimeWarning: invalid value encountered in sqrt\n",
      "  sigmet_data, sigmet_metadata = sigmetfile.read_data(full_xhdr=full_xhdr)\n"
     ]
    },
    {
     "name": "stdout",
     "output_type": "stream",
     "text": [
      "Este No l2_data/2021/09/10/Guaviare/GUA210910084623.RAWS31U\n",
      "l2_data/2021/09/10/Guaviare/GUA210910084816.RAWS31W\n",
      "Este No l2_data/2021/09/10/Guaviare/GUA210910084816.RAWS31W\n",
      "l2_data/2021/09/10/Guaviare/GUA210910085004.RAWS31Z\n",
      "299.0 [0.49987793]\n",
      "l2_data/2021/09/10/Guaviare/GUA210910085123.RAWS322\n"
     ]
    },
    {
     "name": "stderr",
     "output_type": "stream",
     "text": [
      "/data/keeling/a/alfonso8/miniconda3/envs/rise/lib/python3.9/site-packages/pyart/io/sigmet.py:131: RuntimeWarning: invalid value encountered in sqrt\n",
      "  sigmet_data, sigmet_metadata = sigmetfile.read_data(full_xhdr=full_xhdr)\n"
     ]
    },
    {
     "name": "stdout",
     "output_type": "stream",
     "text": [
      "Este No l2_data/2021/09/10/Guaviare/GUA210910085123.RAWS322\n",
      "l2_data/2021/09/10/Guaviare/GUA210910085315.RAWS323\n",
      "Este No l2_data/2021/09/10/Guaviare/GUA210910085315.RAWS323\n",
      "l2_data/2021/09/10/Guaviare/GUA210910085504.RAWS326\n",
      "299.0 [0.49987793]\n",
      "l2_data/2021/09/10/Guaviare/GUA210910085624.RAWS329\n"
     ]
    },
    {
     "name": "stderr",
     "output_type": "stream",
     "text": [
      "/data/keeling/a/alfonso8/miniconda3/envs/rise/lib/python3.9/site-packages/pyart/io/sigmet.py:131: RuntimeWarning: invalid value encountered in sqrt\n",
      "  sigmet_data, sigmet_metadata = sigmetfile.read_data(full_xhdr=full_xhdr)\n"
     ]
    },
    {
     "name": "stdout",
     "output_type": "stream",
     "text": [
      "Este No l2_data/2021/09/10/Guaviare/GUA210910085624.RAWS329\n",
      "l2_data/2021/09/10/Guaviare/GUA210910085816.RAWS32A\n",
      "Este No l2_data/2021/09/10/Guaviare/GUA210910085816.RAWS32A\n",
      "l2_data/2021/09/10/Guaviare/GUA210910090004.RAWS32D\n",
      "299.0 [0.49987793]\n",
      "l2_data/2021/09/10/Guaviare/GUA210910090123.RAWS32F\n"
     ]
    },
    {
     "name": "stderr",
     "output_type": "stream",
     "text": [
      "/data/keeling/a/alfonso8/miniconda3/envs/rise/lib/python3.9/site-packages/pyart/io/sigmet.py:131: RuntimeWarning: invalid value encountered in sqrt\n",
      "  sigmet_data, sigmet_metadata = sigmetfile.read_data(full_xhdr=full_xhdr)\n"
     ]
    },
    {
     "name": "stdout",
     "output_type": "stream",
     "text": [
      "Este No l2_data/2021/09/10/Guaviare/GUA210910090123.RAWS32F\n",
      "l2_data/2021/09/10/Guaviare/GUA210910090315.RAWS32H\n",
      "Este No l2_data/2021/09/10/Guaviare/GUA210910090315.RAWS32H\n",
      "l2_data/2021/09/10/Guaviare/GUA210910090504.RAWS32L\n",
      "299.0 [0.49987793]\n",
      "l2_data/2021/09/10/Guaviare/GUA210910090624.RAWS32N\n"
     ]
    },
    {
     "name": "stderr",
     "output_type": "stream",
     "text": [
      "/data/keeling/a/alfonso8/miniconda3/envs/rise/lib/python3.9/site-packages/pyart/io/sigmet.py:131: RuntimeWarning: invalid value encountered in sqrt\n",
      "  sigmet_data, sigmet_metadata = sigmetfile.read_data(full_xhdr=full_xhdr)\n"
     ]
    },
    {
     "name": "stdout",
     "output_type": "stream",
     "text": [
      "Este No l2_data/2021/09/10/Guaviare/GUA210910090624.RAWS32N\n",
      "l2_data/2021/09/10/Guaviare/GUA210910090816.RAWS32R\n",
      "Este No l2_data/2021/09/10/Guaviare/GUA210910090816.RAWS32R\n",
      "l2_data/2021/09/10/Guaviare/GUA210910091003.RAWS32U\n",
      "299.0 [0.49987793]\n",
      "l2_data/2021/09/10/Guaviare/GUA210910091123.RAWS32W\n"
     ]
    },
    {
     "name": "stderr",
     "output_type": "stream",
     "text": [
      "/data/keeling/a/alfonso8/miniconda3/envs/rise/lib/python3.9/site-packages/pyart/io/sigmet.py:131: RuntimeWarning: invalid value encountered in sqrt\n",
      "  sigmet_data, sigmet_metadata = sigmetfile.read_data(full_xhdr=full_xhdr)\n"
     ]
    },
    {
     "name": "stdout",
     "output_type": "stream",
     "text": [
      "Este No l2_data/2021/09/10/Guaviare/GUA210910091123.RAWS32W\n",
      "l2_data/2021/09/10/Guaviare/GUA210910091315.RAWS32Y\n",
      "Este No l2_data/2021/09/10/Guaviare/GUA210910091315.RAWS32Y\n",
      "l2_data/2021/09/10/Guaviare/GUA210910091504.RAWS331\n",
      "299.0 [0.49987793]\n",
      "l2_data/2021/09/10/Guaviare/GUA210910091624.RAWS333\n"
     ]
    },
    {
     "name": "stderr",
     "output_type": "stream",
     "text": [
      "/data/keeling/a/alfonso8/miniconda3/envs/rise/lib/python3.9/site-packages/pyart/io/sigmet.py:131: RuntimeWarning: invalid value encountered in sqrt\n",
      "  sigmet_data, sigmet_metadata = sigmetfile.read_data(full_xhdr=full_xhdr)\n"
     ]
    },
    {
     "name": "stdout",
     "output_type": "stream",
     "text": [
      "Este No l2_data/2021/09/10/Guaviare/GUA210910091624.RAWS333\n",
      "l2_data/2021/09/10/Guaviare/GUA210910091816.RAWS335\n",
      "Este No l2_data/2021/09/10/Guaviare/GUA210910091816.RAWS335\n",
      "l2_data/2021/09/10/Guaviare/GUA210910092004.RAWS338\n",
      "299.0 [0.49987793]\n",
      "l2_data/2021/09/10/Guaviare/GUA210910092123.RAWS33B\n"
     ]
    },
    {
     "name": "stderr",
     "output_type": "stream",
     "text": [
      "/data/keeling/a/alfonso8/miniconda3/envs/rise/lib/python3.9/site-packages/pyart/io/sigmet.py:131: RuntimeWarning: invalid value encountered in sqrt\n",
      "  sigmet_data, sigmet_metadata = sigmetfile.read_data(full_xhdr=full_xhdr)\n"
     ]
    },
    {
     "name": "stdout",
     "output_type": "stream",
     "text": [
      "Este No l2_data/2021/09/10/Guaviare/GUA210910092123.RAWS33B\n",
      "l2_data/2021/09/10/Guaviare/GUA210910092315.RAWS33C\n",
      "Este No l2_data/2021/09/10/Guaviare/GUA210910092315.RAWS33C\n",
      "l2_data/2021/09/10/Guaviare/GUA210910092504.RAWS33F\n",
      "299.0 [0.49987793]\n",
      "l2_data/2021/09/10/Guaviare/GUA210910092624.RAWS33H\n"
     ]
    },
    {
     "name": "stderr",
     "output_type": "stream",
     "text": [
      "/data/keeling/a/alfonso8/miniconda3/envs/rise/lib/python3.9/site-packages/pyart/io/sigmet.py:131: RuntimeWarning: invalid value encountered in sqrt\n",
      "  sigmet_data, sigmet_metadata = sigmetfile.read_data(full_xhdr=full_xhdr)\n"
     ]
    },
    {
     "name": "stdout",
     "output_type": "stream",
     "text": [
      "Este No l2_data/2021/09/10/Guaviare/GUA210910092624.RAWS33H\n",
      "l2_data/2021/09/10/Guaviare/GUA210910092816.RAWS33K\n",
      "Este No l2_data/2021/09/10/Guaviare/GUA210910092816.RAWS33K\n",
      "l2_data/2021/09/10/Guaviare/GUA210910093003.RAWS33N\n",
      "299.0 [0.49987793]\n",
      "l2_data/2021/09/10/Guaviare/GUA210910093122.RAWS33R\n"
     ]
    },
    {
     "name": "stderr",
     "output_type": "stream",
     "text": [
      "/data/keeling/a/alfonso8/miniconda3/envs/rise/lib/python3.9/site-packages/pyart/io/sigmet.py:131: RuntimeWarning: invalid value encountered in sqrt\n",
      "  sigmet_data, sigmet_metadata = sigmetfile.read_data(full_xhdr=full_xhdr)\n"
     ]
    },
    {
     "name": "stdout",
     "output_type": "stream",
     "text": [
      "Este No l2_data/2021/09/10/Guaviare/GUA210910093122.RAWS33R\n",
      "l2_data/2021/09/10/Guaviare/GUA210910093315.RAWS33T\n",
      "Este No l2_data/2021/09/10/Guaviare/GUA210910093315.RAWS33T\n",
      "l2_data/2021/09/10/Guaviare/GUA210910093504.RAWS33W\n",
      "299.0 [0.49987793]\n",
      "l2_data/2021/09/10/Guaviare/GUA210910093623.RAWS33Y\n"
     ]
    },
    {
     "name": "stderr",
     "output_type": "stream",
     "text": [
      "/data/keeling/a/alfonso8/miniconda3/envs/rise/lib/python3.9/site-packages/pyart/io/sigmet.py:131: RuntimeWarning: invalid value encountered in sqrt\n",
      "  sigmet_data, sigmet_metadata = sigmetfile.read_data(full_xhdr=full_xhdr)\n"
     ]
    },
    {
     "name": "stdout",
     "output_type": "stream",
     "text": [
      "Este No l2_data/2021/09/10/Guaviare/GUA210910093623.RAWS33Y\n",
      "l2_data/2021/09/10/Guaviare/GUA210910093815.RAWS340\n",
      "Este No l2_data/2021/09/10/Guaviare/GUA210910093815.RAWS340\n",
      "l2_data/2021/09/10/Guaviare/GUA210910094004.RAWS343\n",
      "299.0 [0.49987793]\n",
      "l2_data/2021/09/10/Guaviare/GUA210910094124.RAWS345\n"
     ]
    },
    {
     "name": "stderr",
     "output_type": "stream",
     "text": [
      "/data/keeling/a/alfonso8/miniconda3/envs/rise/lib/python3.9/site-packages/pyart/io/sigmet.py:131: RuntimeWarning: invalid value encountered in sqrt\n",
      "  sigmet_data, sigmet_metadata = sigmetfile.read_data(full_xhdr=full_xhdr)\n"
     ]
    },
    {
     "name": "stdout",
     "output_type": "stream",
     "text": [
      "Este No l2_data/2021/09/10/Guaviare/GUA210910094124.RAWS345\n",
      "l2_data/2021/09/10/Guaviare/GUA210910094316.RAWS347\n",
      "Este No l2_data/2021/09/10/Guaviare/GUA210910094316.RAWS347\n",
      "l2_data/2021/09/10/Guaviare/GUA210910094504.RAWS34A\n",
      "299.0 [0.49987793]\n",
      "l2_data/2021/09/10/Guaviare/GUA210910094623.RAWS34C\n"
     ]
    },
    {
     "name": "stderr",
     "output_type": "stream",
     "text": [
      "/data/keeling/a/alfonso8/miniconda3/envs/rise/lib/python3.9/site-packages/pyart/io/sigmet.py:131: RuntimeWarning: invalid value encountered in sqrt\n",
      "  sigmet_data, sigmet_metadata = sigmetfile.read_data(full_xhdr=full_xhdr)\n"
     ]
    },
    {
     "name": "stdout",
     "output_type": "stream",
     "text": [
      "Este No l2_data/2021/09/10/Guaviare/GUA210910094623.RAWS34C\n",
      "l2_data/2021/09/10/Guaviare/GUA210910094815.RAWS34E\n",
      "Este No l2_data/2021/09/10/Guaviare/GUA210910094815.RAWS34E\n",
      "l2_data/2021/09/10/Guaviare/GUA210910095004.RAWS34H\n",
      "299.0 [0.49987793]\n",
      "l2_data/2021/09/10/Guaviare/GUA210910095124.RAWS34K\n"
     ]
    },
    {
     "name": "stderr",
     "output_type": "stream",
     "text": [
      "/data/keeling/a/alfonso8/miniconda3/envs/rise/lib/python3.9/site-packages/pyart/io/sigmet.py:131: RuntimeWarning: invalid value encountered in sqrt\n",
      "  sigmet_data, sigmet_metadata = sigmetfile.read_data(full_xhdr=full_xhdr)\n"
     ]
    },
    {
     "name": "stdout",
     "output_type": "stream",
     "text": [
      "Este No l2_data/2021/09/10/Guaviare/GUA210910095124.RAWS34K\n",
      "l2_data/2021/09/10/Guaviare/GUA210910095316.RAWS34M\n",
      "Este No l2_data/2021/09/10/Guaviare/GUA210910095316.RAWS34M\n",
      "l2_data/2021/09/10/Guaviare/GUA210910095504.RAWS34R\n",
      "299.0 [0.49987793]\n",
      "l2_data/2021/09/10/Guaviare/GUA210910095624.RAWS34T\n"
     ]
    },
    {
     "name": "stderr",
     "output_type": "stream",
     "text": [
      "/data/keeling/a/alfonso8/miniconda3/envs/rise/lib/python3.9/site-packages/pyart/io/sigmet.py:131: RuntimeWarning: invalid value encountered in sqrt\n",
      "  sigmet_data, sigmet_metadata = sigmetfile.read_data(full_xhdr=full_xhdr)\n"
     ]
    },
    {
     "name": "stdout",
     "output_type": "stream",
     "text": [
      "Este No l2_data/2021/09/10/Guaviare/GUA210910095624.RAWS34T\n",
      "l2_data/2021/09/10/Guaviare/GUA210910095816.RAWS34V\n",
      "Este No l2_data/2021/09/10/Guaviare/GUA210910095816.RAWS34V\n",
      "l2_data/2021/09/10/Guaviare/GUA210910100004.RAWS34Y\n",
      "299.0 [0.49987793]\n",
      "l2_data/2021/09/10/Guaviare/GUA210910100123.RAWS350\n"
     ]
    },
    {
     "name": "stderr",
     "output_type": "stream",
     "text": [
      "/data/keeling/a/alfonso8/miniconda3/envs/rise/lib/python3.9/site-packages/pyart/io/sigmet.py:131: RuntimeWarning: invalid value encountered in sqrt\n",
      "  sigmet_data, sigmet_metadata = sigmetfile.read_data(full_xhdr=full_xhdr)\n"
     ]
    },
    {
     "name": "stdout",
     "output_type": "stream",
     "text": [
      "Este No l2_data/2021/09/10/Guaviare/GUA210910100123.RAWS350\n",
      "l2_data/2021/09/10/Guaviare/GUA210910100316.RAWS352\n",
      "Este No l2_data/2021/09/10/Guaviare/GUA210910100316.RAWS352\n",
      "l2_data/2021/09/10/Guaviare/GUA210910100505.RAWS355\n",
      "299.0 [0.49987793]\n",
      "l2_data/2021/09/10/Guaviare/GUA210910100624.RAWS357\n"
     ]
    },
    {
     "name": "stderr",
     "output_type": "stream",
     "text": [
      "/data/keeling/a/alfonso8/miniconda3/envs/rise/lib/python3.9/site-packages/pyart/io/sigmet.py:131: RuntimeWarning: invalid value encountered in sqrt\n",
      "  sigmet_data, sigmet_metadata = sigmetfile.read_data(full_xhdr=full_xhdr)\n"
     ]
    },
    {
     "name": "stdout",
     "output_type": "stream",
     "text": [
      "Este No l2_data/2021/09/10/Guaviare/GUA210910100624.RAWS357\n",
      "l2_data/2021/09/10/Guaviare/GUA210910100816.RAWS359\n",
      "Este No l2_data/2021/09/10/Guaviare/GUA210910100816.RAWS359\n",
      "l2_data/2021/09/10/Guaviare/GUA210910101004.RAWS35C\n",
      "299.0 [0.49987793]\n",
      "l2_data/2021/09/10/Guaviare/GUA210910101123.RAWS35E\n"
     ]
    },
    {
     "name": "stderr",
     "output_type": "stream",
     "text": [
      "/data/keeling/a/alfonso8/miniconda3/envs/rise/lib/python3.9/site-packages/pyart/io/sigmet.py:131: RuntimeWarning: invalid value encountered in sqrt\n",
      "  sigmet_data, sigmet_metadata = sigmetfile.read_data(full_xhdr=full_xhdr)\n"
     ]
    },
    {
     "name": "stdout",
     "output_type": "stream",
     "text": [
      "Este No l2_data/2021/09/10/Guaviare/GUA210910101123.RAWS35E\n",
      "l2_data/2021/09/10/Guaviare/GUA210910101316.RAWS35G\n",
      "Este No l2_data/2021/09/10/Guaviare/GUA210910101316.RAWS35G\n",
      "l2_data/2021/09/10/Guaviare/GUA210910101504.RAWS35K\n",
      "299.0 [0.49987793]\n",
      "l2_data/2021/09/10/Guaviare/GUA210910101624.RAWS35M\n"
     ]
    },
    {
     "name": "stderr",
     "output_type": "stream",
     "text": [
      "/data/keeling/a/alfonso8/miniconda3/envs/rise/lib/python3.9/site-packages/pyart/io/sigmet.py:131: RuntimeWarning: invalid value encountered in sqrt\n",
      "  sigmet_data, sigmet_metadata = sigmetfile.read_data(full_xhdr=full_xhdr)\n"
     ]
    },
    {
     "name": "stdout",
     "output_type": "stream",
     "text": [
      "Este No l2_data/2021/09/10/Guaviare/GUA210910101624.RAWS35M\n",
      "l2_data/2021/09/10/Guaviare/GUA210910101816.RAWS35P\n",
      "Este No l2_data/2021/09/10/Guaviare/GUA210910101816.RAWS35P\n",
      "l2_data/2021/09/10/Guaviare/GUA210910102004.RAWS35T\n",
      "299.0 [0.49987793]\n",
      "l2_data/2021/09/10/Guaviare/GUA210910102123.RAWS35V\n"
     ]
    },
    {
     "name": "stderr",
     "output_type": "stream",
     "text": [
      "/data/keeling/a/alfonso8/miniconda3/envs/rise/lib/python3.9/site-packages/pyart/io/sigmet.py:131: RuntimeWarning: invalid value encountered in sqrt\n",
      "  sigmet_data, sigmet_metadata = sigmetfile.read_data(full_xhdr=full_xhdr)\n"
     ]
    },
    {
     "name": "stdout",
     "output_type": "stream",
     "text": [
      "Este No l2_data/2021/09/10/Guaviare/GUA210910102123.RAWS35V\n",
      "l2_data/2021/09/10/Guaviare/GUA210910102316.RAWS35X\n",
      "Este No l2_data/2021/09/10/Guaviare/GUA210910102316.RAWS35X\n",
      "l2_data/2021/09/10/Guaviare/GUA210910102504.RAWS360\n",
      "299.0 [0.49987793]\n",
      "l2_data/2021/09/10/Guaviare/GUA210910102624.RAWS363\n"
     ]
    },
    {
     "name": "stderr",
     "output_type": "stream",
     "text": [
      "/data/keeling/a/alfonso8/miniconda3/envs/rise/lib/python3.9/site-packages/pyart/io/sigmet.py:131: RuntimeWarning: invalid value encountered in sqrt\n",
      "  sigmet_data, sigmet_metadata = sigmetfile.read_data(full_xhdr=full_xhdr)\n"
     ]
    },
    {
     "name": "stdout",
     "output_type": "stream",
     "text": [
      "Este No l2_data/2021/09/10/Guaviare/GUA210910102624.RAWS363\n",
      "l2_data/2021/09/10/Guaviare/GUA210910102816.RAWS364\n",
      "Este No l2_data/2021/09/10/Guaviare/GUA210910102816.RAWS364\n",
      "l2_data/2021/09/10/Guaviare/GUA210910103004.RAWS367\n",
      "299.0 [0.49987793]\n",
      "l2_data/2021/09/10/Guaviare/GUA210910103124.RAWS369\n"
     ]
    },
    {
     "name": "stderr",
     "output_type": "stream",
     "text": [
      "/data/keeling/a/alfonso8/miniconda3/envs/rise/lib/python3.9/site-packages/pyart/io/sigmet.py:131: RuntimeWarning: invalid value encountered in sqrt\n",
      "  sigmet_data, sigmet_metadata = sigmetfile.read_data(full_xhdr=full_xhdr)\n"
     ]
    },
    {
     "name": "stdout",
     "output_type": "stream",
     "text": [
      "Este No l2_data/2021/09/10/Guaviare/GUA210910103124.RAWS369\n",
      "l2_data/2021/09/10/Guaviare/GUA210910103315.RAWS36B\n",
      "Este No l2_data/2021/09/10/Guaviare/GUA210910103315.RAWS36B\n",
      "l2_data/2021/09/10/Guaviare/GUA210910103504.RAWS36E\n",
      "299.0 [0.49987793]\n",
      "l2_data/2021/09/10/Guaviare/GUA210910103623.RAWS36G\n"
     ]
    },
    {
     "name": "stderr",
     "output_type": "stream",
     "text": [
      "/data/keeling/a/alfonso8/miniconda3/envs/rise/lib/python3.9/site-packages/pyart/io/sigmet.py:131: RuntimeWarning: invalid value encountered in sqrt\n",
      "  sigmet_data, sigmet_metadata = sigmetfile.read_data(full_xhdr=full_xhdr)\n"
     ]
    },
    {
     "name": "stdout",
     "output_type": "stream",
     "text": [
      "Este No l2_data/2021/09/10/Guaviare/GUA210910103623.RAWS36G\n",
      "l2_data/2021/09/10/Guaviare/GUA210910103814.RAWS36J\n",
      "Este No l2_data/2021/09/10/Guaviare/GUA210910103814.RAWS36J\n",
      "l2_data/2021/09/10/Guaviare/GUA210910104004.RAWS36M\n",
      "299.0 [0.49987793]\n",
      "l2_data/2021/09/10/Guaviare/GUA210910104124.RAWS36P\n"
     ]
    },
    {
     "name": "stderr",
     "output_type": "stream",
     "text": [
      "/data/keeling/a/alfonso8/miniconda3/envs/rise/lib/python3.9/site-packages/pyart/io/sigmet.py:131: RuntimeWarning: invalid value encountered in sqrt\n",
      "  sigmet_data, sigmet_metadata = sigmetfile.read_data(full_xhdr=full_xhdr)\n"
     ]
    },
    {
     "name": "stdout",
     "output_type": "stream",
     "text": [
      "Este No l2_data/2021/09/10/Guaviare/GUA210910104124.RAWS36P\n",
      "l2_data/2021/09/10/Guaviare/GUA210910104316.RAWS36S\n",
      "Este No l2_data/2021/09/10/Guaviare/GUA210910104316.RAWS36S\n",
      "l2_data/2021/09/10/Guaviare/GUA210910104504.RAWS36V\n",
      "299.0 [0.49987793]\n",
      "l2_data/2021/09/10/Guaviare/GUA210910104624.RAWS36X\n"
     ]
    },
    {
     "name": "stderr",
     "output_type": "stream",
     "text": [
      "/data/keeling/a/alfonso8/miniconda3/envs/rise/lib/python3.9/site-packages/pyart/io/sigmet.py:131: RuntimeWarning: invalid value encountered in sqrt\n",
      "  sigmet_data, sigmet_metadata = sigmetfile.read_data(full_xhdr=full_xhdr)\n"
     ]
    },
    {
     "name": "stdout",
     "output_type": "stream",
     "text": [
      "Este No l2_data/2021/09/10/Guaviare/GUA210910104624.RAWS36X\n",
      "l2_data/2021/09/10/Guaviare/GUA210910104816.RAWS36Z\n",
      "Este No l2_data/2021/09/10/Guaviare/GUA210910104816.RAWS36Z\n",
      "l2_data/2021/09/10/Guaviare/GUA210910105004.RAWS372\n",
      "299.0 [0.49987793]\n",
      "l2_data/2021/09/10/Guaviare/GUA210910105124.RAWS374\n"
     ]
    },
    {
     "name": "stderr",
     "output_type": "stream",
     "text": [
      "/data/keeling/a/alfonso8/miniconda3/envs/rise/lib/python3.9/site-packages/pyart/io/sigmet.py:131: RuntimeWarning: invalid value encountered in sqrt\n",
      "  sigmet_data, sigmet_metadata = sigmetfile.read_data(full_xhdr=full_xhdr)\n"
     ]
    },
    {
     "name": "stdout",
     "output_type": "stream",
     "text": [
      "Este No l2_data/2021/09/10/Guaviare/GUA210910105124.RAWS374\n",
      "l2_data/2021/09/10/Guaviare/GUA210910105316.RAWS376\n",
      "Este No l2_data/2021/09/10/Guaviare/GUA210910105316.RAWS376\n",
      "l2_data/2021/09/10/Guaviare/GUA210910105503.RAWS379\n",
      "299.0 [0.49987793]\n",
      "l2_data/2021/09/10/Guaviare/GUA210910105623.RAWS37B\n"
     ]
    },
    {
     "name": "stderr",
     "output_type": "stream",
     "text": [
      "/data/keeling/a/alfonso8/miniconda3/envs/rise/lib/python3.9/site-packages/pyart/io/sigmet.py:131: RuntimeWarning: invalid value encountered in sqrt\n",
      "  sigmet_data, sigmet_metadata = sigmetfile.read_data(full_xhdr=full_xhdr)\n"
     ]
    },
    {
     "name": "stdout",
     "output_type": "stream",
     "text": [
      "Este No l2_data/2021/09/10/Guaviare/GUA210910105623.RAWS37B\n",
      "l2_data/2021/09/10/Guaviare/GUA210910105814.RAWS37D\n",
      "Este No l2_data/2021/09/10/Guaviare/GUA210910105814.RAWS37D\n",
      "l2_data/2021/09/10/Guaviare/GUA210910110005.RAWS37G\n",
      "299.0 [0.49987793]\n",
      "l2_data/2021/09/10/Guaviare/GUA210910110124.RAWS37J\n"
     ]
    },
    {
     "name": "stderr",
     "output_type": "stream",
     "text": [
      "/data/keeling/a/alfonso8/miniconda3/envs/rise/lib/python3.9/site-packages/pyart/io/sigmet.py:131: RuntimeWarning: invalid value encountered in sqrt\n",
      "  sigmet_data, sigmet_metadata = sigmetfile.read_data(full_xhdr=full_xhdr)\n"
     ]
    },
    {
     "name": "stdout",
     "output_type": "stream",
     "text": [
      "Este No l2_data/2021/09/10/Guaviare/GUA210910110124.RAWS37J\n",
      "l2_data/2021/09/10/Guaviare/GUA210910110317.RAWS37L\n",
      "Este No l2_data/2021/09/10/Guaviare/GUA210910110317.RAWS37L\n",
      "l2_data/2021/09/10/Guaviare/GUA210910110504.RAWS37P\n",
      "299.0 [0.49987793]\n",
      "l2_data/2021/09/10/Guaviare/GUA210910110623.RAWS37S\n"
     ]
    },
    {
     "name": "stderr",
     "output_type": "stream",
     "text": [
      "/data/keeling/a/alfonso8/miniconda3/envs/rise/lib/python3.9/site-packages/pyart/io/sigmet.py:131: RuntimeWarning: invalid value encountered in sqrt\n",
      "  sigmet_data, sigmet_metadata = sigmetfile.read_data(full_xhdr=full_xhdr)\n"
     ]
    },
    {
     "name": "stdout",
     "output_type": "stream",
     "text": [
      "Este No l2_data/2021/09/10/Guaviare/GUA210910110623.RAWS37S\n",
      "l2_data/2021/09/10/Guaviare/GUA210910110815.RAWS37U\n",
      "Este No l2_data/2021/09/10/Guaviare/GUA210910110815.RAWS37U\n",
      "l2_data/2021/09/10/Guaviare/GUA210910111004.RAWS37X\n",
      "299.0 [0.49987793]\n",
      "l2_data/2021/09/10/Guaviare/GUA210910111123.RAWS37Z\n"
     ]
    },
    {
     "name": "stderr",
     "output_type": "stream",
     "text": [
      "/data/keeling/a/alfonso8/miniconda3/envs/rise/lib/python3.9/site-packages/pyart/io/sigmet.py:131: RuntimeWarning: invalid value encountered in sqrt\n",
      "  sigmet_data, sigmet_metadata = sigmetfile.read_data(full_xhdr=full_xhdr)\n"
     ]
    },
    {
     "name": "stdout",
     "output_type": "stream",
     "text": [
      "Este No l2_data/2021/09/10/Guaviare/GUA210910111123.RAWS37Z\n",
      "l2_data/2021/09/10/Guaviare/GUA210910111315.RAWS381\n",
      "Este No l2_data/2021/09/10/Guaviare/GUA210910111315.RAWS381\n",
      "l2_data/2021/09/10/Guaviare/GUA210910111504.RAWS384\n",
      "299.0 [0.49987793]\n",
      "l2_data/2021/09/10/Guaviare/GUA210910111624.RAWS386\n"
     ]
    },
    {
     "name": "stderr",
     "output_type": "stream",
     "text": [
      "/data/keeling/a/alfonso8/miniconda3/envs/rise/lib/python3.9/site-packages/pyart/io/sigmet.py:131: RuntimeWarning: invalid value encountered in sqrt\n",
      "  sigmet_data, sigmet_metadata = sigmetfile.read_data(full_xhdr=full_xhdr)\n"
     ]
    },
    {
     "name": "stdout",
     "output_type": "stream",
     "text": [
      "Este No l2_data/2021/09/10/Guaviare/GUA210910111624.RAWS386\n",
      "l2_data/2021/09/10/Guaviare/GUA210910111816.RAWS388\n",
      "Este No l2_data/2021/09/10/Guaviare/GUA210910111816.RAWS388\n",
      "l2_data/2021/09/10/Guaviare/GUA210910112502.RAWS38F\n",
      "299.0 [0.49987793]\n",
      "l2_data/2021/09/10/Guaviare/GUA210910112622.RAWS38H\n"
     ]
    },
    {
     "name": "stderr",
     "output_type": "stream",
     "text": [
      "/data/keeling/a/alfonso8/miniconda3/envs/rise/lib/python3.9/site-packages/pyart/io/sigmet.py:131: RuntimeWarning: invalid value encountered in sqrt\n",
      "  sigmet_data, sigmet_metadata = sigmetfile.read_data(full_xhdr=full_xhdr)\n"
     ]
    },
    {
     "name": "stdout",
     "output_type": "stream",
     "text": [
      "Este No l2_data/2021/09/10/Guaviare/GUA210910112622.RAWS38H\n",
      "l2_data/2021/09/10/Guaviare/GUA210910112814.RAWS38M\n",
      "Este No l2_data/2021/09/10/Guaviare/GUA210910112814.RAWS38M\n",
      "l2_data/2021/09/10/Guaviare/GUA210910113004.RAWS38N\n",
      "299.0 [0.49987793]\n",
      "l2_data/2021/09/10/Guaviare/GUA210910113124.RAWS38R\n"
     ]
    },
    {
     "name": "stderr",
     "output_type": "stream",
     "text": [
      "/data/keeling/a/alfonso8/miniconda3/envs/rise/lib/python3.9/site-packages/pyart/io/sigmet.py:131: RuntimeWarning: invalid value encountered in sqrt\n",
      "  sigmet_data, sigmet_metadata = sigmetfile.read_data(full_xhdr=full_xhdr)\n"
     ]
    },
    {
     "name": "stdout",
     "output_type": "stream",
     "text": [
      "Este No l2_data/2021/09/10/Guaviare/GUA210910113124.RAWS38R\n",
      "l2_data/2021/09/10/Guaviare/GUA210910113316.RAWS38T\n",
      "Este No l2_data/2021/09/10/Guaviare/GUA210910113316.RAWS38T\n",
      "l2_data/2021/09/10/Guaviare/GUA210910113504.RAWS38W\n",
      "299.0 [0.49987793]\n",
      "l2_data/2021/09/10/Guaviare/GUA210910113623.RAWS38X\n"
     ]
    },
    {
     "name": "stderr",
     "output_type": "stream",
     "text": [
      "/data/keeling/a/alfonso8/miniconda3/envs/rise/lib/python3.9/site-packages/pyart/io/sigmet.py:131: RuntimeWarning: invalid value encountered in sqrt\n",
      "  sigmet_data, sigmet_metadata = sigmetfile.read_data(full_xhdr=full_xhdr)\n"
     ]
    },
    {
     "name": "stdout",
     "output_type": "stream",
     "text": [
      "Este No l2_data/2021/09/10/Guaviare/GUA210910113623.RAWS38X\n",
      "l2_data/2021/09/10/Guaviare/GUA210910113815.RAWS38Z\n",
      "Este No l2_data/2021/09/10/Guaviare/GUA210910113815.RAWS38Z\n",
      "l2_data/2021/09/10/Guaviare/GUA210910114004.RAWS392\n",
      "299.0 [0.49987793]\n",
      "l2_data/2021/09/10/Guaviare/GUA210910114124.RAWS394\n"
     ]
    },
    {
     "name": "stderr",
     "output_type": "stream",
     "text": [
      "/data/keeling/a/alfonso8/miniconda3/envs/rise/lib/python3.9/site-packages/pyart/io/sigmet.py:131: RuntimeWarning: invalid value encountered in sqrt\n",
      "  sigmet_data, sigmet_metadata = sigmetfile.read_data(full_xhdr=full_xhdr)\n"
     ]
    },
    {
     "name": "stdout",
     "output_type": "stream",
     "text": [
      "Este No l2_data/2021/09/10/Guaviare/GUA210910114124.RAWS394\n",
      "l2_data/2021/09/10/Guaviare/GUA210910114316.RAWS396\n",
      "Este No l2_data/2021/09/10/Guaviare/GUA210910114316.RAWS396\n",
      "l2_data/2021/09/10/Guaviare/GUA210910114504.RAWS399\n",
      "299.0 [0.49987793]\n",
      "l2_data/2021/09/10/Guaviare/GUA210910114624.RAWS39B\n"
     ]
    },
    {
     "name": "stderr",
     "output_type": "stream",
     "text": [
      "/data/keeling/a/alfonso8/miniconda3/envs/rise/lib/python3.9/site-packages/pyart/io/sigmet.py:131: RuntimeWarning: invalid value encountered in sqrt\n",
      "  sigmet_data, sigmet_metadata = sigmetfile.read_data(full_xhdr=full_xhdr)\n"
     ]
    },
    {
     "name": "stdout",
     "output_type": "stream",
     "text": [
      "Este No l2_data/2021/09/10/Guaviare/GUA210910114624.RAWS39B\n",
      "l2_data/2021/09/10/Guaviare/GUA210910114816.RAWS39D\n",
      "Este No l2_data/2021/09/10/Guaviare/GUA210910114816.RAWS39D\n",
      "l2_data/2021/09/10/Guaviare/GUA210910115005.RAWS39G\n",
      "299.0 [0.49987793]\n",
      "l2_data/2021/09/10/Guaviare/GUA210910115124.RAWS39J\n"
     ]
    },
    {
     "name": "stderr",
     "output_type": "stream",
     "text": [
      "/data/keeling/a/alfonso8/miniconda3/envs/rise/lib/python3.9/site-packages/pyart/io/sigmet.py:131: RuntimeWarning: invalid value encountered in sqrt\n",
      "  sigmet_data, sigmet_metadata = sigmetfile.read_data(full_xhdr=full_xhdr)\n"
     ]
    },
    {
     "name": "stdout",
     "output_type": "stream",
     "text": [
      "Este No l2_data/2021/09/10/Guaviare/GUA210910115124.RAWS39J\n",
      "l2_data/2021/09/10/Guaviare/GUA210910115316.RAWS39L\n",
      "Este No l2_data/2021/09/10/Guaviare/GUA210910115316.RAWS39L\n",
      "l2_data/2021/09/10/Guaviare/GUA210910115504.RAWS39P\n",
      "299.0 [0.49987793]\n",
      "l2_data/2021/09/10/Guaviare/GUA210910115623.RAWS39T\n"
     ]
    },
    {
     "name": "stderr",
     "output_type": "stream",
     "text": [
      "/data/keeling/a/alfonso8/miniconda3/envs/rise/lib/python3.9/site-packages/pyart/io/sigmet.py:131: RuntimeWarning: invalid value encountered in sqrt\n",
      "  sigmet_data, sigmet_metadata = sigmetfile.read_data(full_xhdr=full_xhdr)\n"
     ]
    },
    {
     "name": "stdout",
     "output_type": "stream",
     "text": [
      "Este No l2_data/2021/09/10/Guaviare/GUA210910115623.RAWS39T\n",
      "l2_data/2021/09/10/Guaviare/GUA210910115816.RAWS39U\n",
      "Este No l2_data/2021/09/10/Guaviare/GUA210910115816.RAWS39U\n",
      "l2_data/2021/09/10/Guaviare/GUA210910120004.RAWS39X\n",
      "299.0 [0.49987793]\n",
      "l2_data/2021/09/10/Guaviare/GUA210910120124.RAWS3A0\n"
     ]
    },
    {
     "name": "stderr",
     "output_type": "stream",
     "text": [
      "/data/keeling/a/alfonso8/miniconda3/envs/rise/lib/python3.9/site-packages/pyart/io/sigmet.py:131: RuntimeWarning: invalid value encountered in sqrt\n",
      "  sigmet_data, sigmet_metadata = sigmetfile.read_data(full_xhdr=full_xhdr)\n"
     ]
    },
    {
     "name": "stdout",
     "output_type": "stream",
     "text": [
      "Este No l2_data/2021/09/10/Guaviare/GUA210910120124.RAWS3A0\n",
      "l2_data/2021/09/10/Guaviare/GUA210910120315.RAWS3A3\n",
      "Este No l2_data/2021/09/10/Guaviare/GUA210910120315.RAWS3A3\n",
      "l2_data/2021/09/10/Guaviare/GUA210910120504.RAWS3A4\n",
      "299.0 [0.49987793]\n",
      "l2_data/2021/09/10/Guaviare/GUA210910120624.RAWS3A6\n"
     ]
    },
    {
     "name": "stderr",
     "output_type": "stream",
     "text": [
      "/data/keeling/a/alfonso8/miniconda3/envs/rise/lib/python3.9/site-packages/pyart/io/sigmet.py:131: RuntimeWarning: invalid value encountered in sqrt\n",
      "  sigmet_data, sigmet_metadata = sigmetfile.read_data(full_xhdr=full_xhdr)\n"
     ]
    },
    {
     "name": "stdout",
     "output_type": "stream",
     "text": [
      "Este No l2_data/2021/09/10/Guaviare/GUA210910120624.RAWS3A6\n",
      "l2_data/2021/09/10/Guaviare/GUA210910120816.RAWS3A8\n",
      "Este No l2_data/2021/09/10/Guaviare/GUA210910120816.RAWS3A8\n",
      "l2_data/2021/09/10/Guaviare/GUA210910121004.RAWS3AB\n",
      "299.0 [0.49987793]\n",
      "l2_data/2021/09/10/Guaviare/GUA210910121123.RAWS3AE\n"
     ]
    },
    {
     "name": "stderr",
     "output_type": "stream",
     "text": [
      "/data/keeling/a/alfonso8/miniconda3/envs/rise/lib/python3.9/site-packages/pyart/io/sigmet.py:131: RuntimeWarning: invalid value encountered in sqrt\n",
      "  sigmet_data, sigmet_metadata = sigmetfile.read_data(full_xhdr=full_xhdr)\n"
     ]
    },
    {
     "name": "stdout",
     "output_type": "stream",
     "text": [
      "Este No l2_data/2021/09/10/Guaviare/GUA210910121123.RAWS3AE\n",
      "l2_data/2021/09/10/Guaviare/GUA210910121315.RAWS3AF\n",
      "Este No l2_data/2021/09/10/Guaviare/GUA210910121315.RAWS3AF\n",
      "l2_data/2021/09/10/Guaviare/GUA210910121504.RAWS3AJ\n",
      "299.0 [0.49987793]\n",
      "l2_data/2021/09/10/Guaviare/GUA210910121624.RAWS3AL\n"
     ]
    },
    {
     "name": "stderr",
     "output_type": "stream",
     "text": [
      "/data/keeling/a/alfonso8/miniconda3/envs/rise/lib/python3.9/site-packages/pyart/io/sigmet.py:131: RuntimeWarning: invalid value encountered in sqrt\n",
      "  sigmet_data, sigmet_metadata = sigmetfile.read_data(full_xhdr=full_xhdr)\n"
     ]
    },
    {
     "name": "stdout",
     "output_type": "stream",
     "text": [
      "Este No l2_data/2021/09/10/Guaviare/GUA210910121624.RAWS3AL\n",
      "l2_data/2021/09/10/Guaviare/GUA210910121816.RAWS3AN\n",
      "Este No l2_data/2021/09/10/Guaviare/GUA210910121816.RAWS3AN\n",
      "l2_data/2021/09/10/Guaviare/GUA210910122004.RAWS3AS\n",
      "299.0 [0.49987793]\n",
      "l2_data/2021/09/10/Guaviare/GUA210910122123.RAWS3AU\n"
     ]
    },
    {
     "name": "stderr",
     "output_type": "stream",
     "text": [
      "/data/keeling/a/alfonso8/miniconda3/envs/rise/lib/python3.9/site-packages/pyart/io/sigmet.py:131: RuntimeWarning: invalid value encountered in sqrt\n",
      "  sigmet_data, sigmet_metadata = sigmetfile.read_data(full_xhdr=full_xhdr)\n"
     ]
    },
    {
     "name": "stdout",
     "output_type": "stream",
     "text": [
      "Este No l2_data/2021/09/10/Guaviare/GUA210910122123.RAWS3AU\n",
      "l2_data/2021/09/10/Guaviare/GUA210910122315.RAWS3AW\n",
      "Este No l2_data/2021/09/10/Guaviare/GUA210910122315.RAWS3AW\n",
      "l2_data/2021/09/10/Guaviare/GUA210910122504.RAWS3AZ\n",
      "299.0 [0.49987793]\n",
      "l2_data/2021/09/10/Guaviare/GUA210910122623.RAWS3B1\n"
     ]
    },
    {
     "name": "stderr",
     "output_type": "stream",
     "text": [
      "/data/keeling/a/alfonso8/miniconda3/envs/rise/lib/python3.9/site-packages/pyart/io/sigmet.py:131: RuntimeWarning: invalid value encountered in sqrt\n",
      "  sigmet_data, sigmet_metadata = sigmetfile.read_data(full_xhdr=full_xhdr)\n"
     ]
    },
    {
     "name": "stdout",
     "output_type": "stream",
     "text": [
      "Este No l2_data/2021/09/10/Guaviare/GUA210910122623.RAWS3B1\n",
      "l2_data/2021/09/10/Guaviare/GUA210910122815.RAWS3B3\n",
      "Este No l2_data/2021/09/10/Guaviare/GUA210910122815.RAWS3B3\n",
      "l2_data/2021/09/10/Guaviare/GUA210910123003.RAWS3B6\n",
      "299.0 [0.49987793]\n",
      "l2_data/2021/09/10/Guaviare/GUA210910123123.RAWS3B9\n"
     ]
    },
    {
     "name": "stderr",
     "output_type": "stream",
     "text": [
      "/data/keeling/a/alfonso8/miniconda3/envs/rise/lib/python3.9/site-packages/pyart/io/sigmet.py:131: RuntimeWarning: invalid value encountered in sqrt\n",
      "  sigmet_data, sigmet_metadata = sigmetfile.read_data(full_xhdr=full_xhdr)\n"
     ]
    },
    {
     "name": "stdout",
     "output_type": "stream",
     "text": [
      "Este No l2_data/2021/09/10/Guaviare/GUA210910123123.RAWS3B9\n",
      "l2_data/2021/09/10/Guaviare/GUA210910123315.RAWS3BA\n",
      "Este No l2_data/2021/09/10/Guaviare/GUA210910123315.RAWS3BA\n",
      "l2_data/2021/09/10/Guaviare/GUA210910123504.RAWS3BD\n",
      "299.0 [0.49987793]\n",
      "l2_data/2021/09/10/Guaviare/GUA210910123624.RAWS3BG\n"
     ]
    },
    {
     "name": "stderr",
     "output_type": "stream",
     "text": [
      "/data/keeling/a/alfonso8/miniconda3/envs/rise/lib/python3.9/site-packages/pyart/io/sigmet.py:131: RuntimeWarning: invalid value encountered in sqrt\n",
      "  sigmet_data, sigmet_metadata = sigmetfile.read_data(full_xhdr=full_xhdr)\n"
     ]
    },
    {
     "name": "stdout",
     "output_type": "stream",
     "text": [
      "Este No l2_data/2021/09/10/Guaviare/GUA210910123624.RAWS3BG\n",
      "l2_data/2021/09/10/Guaviare/GUA210910123816.RAWS3BH\n",
      "Este No l2_data/2021/09/10/Guaviare/GUA210910123816.RAWS3BH\n",
      "l2_data/2021/09/10/Guaviare/GUA210910124004.RAWS3BM\n",
      "299.0 [0.49987793]\n",
      "l2_data/2021/09/10/Guaviare/GUA210910124124.RAWS3BP\n"
     ]
    },
    {
     "name": "stderr",
     "output_type": "stream",
     "text": [
      "/data/keeling/a/alfonso8/miniconda3/envs/rise/lib/python3.9/site-packages/pyart/io/sigmet.py:131: RuntimeWarning: invalid value encountered in sqrt\n",
      "  sigmet_data, sigmet_metadata = sigmetfile.read_data(full_xhdr=full_xhdr)\n"
     ]
    },
    {
     "name": "stdout",
     "output_type": "stream",
     "text": [
      "Este No l2_data/2021/09/10/Guaviare/GUA210910124124.RAWS3BP\n",
      "l2_data/2021/09/10/Guaviare/GUA210910124316.RAWS3BR\n",
      "Este No l2_data/2021/09/10/Guaviare/GUA210910124316.RAWS3BR\n",
      "l2_data/2021/09/10/Guaviare/GUA210910124504.RAWS3BU\n",
      "299.0 [0.49987793]\n",
      "l2_data/2021/09/10/Guaviare/GUA210910124624.RAWS3BX\n"
     ]
    },
    {
     "name": "stderr",
     "output_type": "stream",
     "text": [
      "/data/keeling/a/alfonso8/miniconda3/envs/rise/lib/python3.9/site-packages/pyart/io/sigmet.py:131: RuntimeWarning: invalid value encountered in sqrt\n",
      "  sigmet_data, sigmet_metadata = sigmetfile.read_data(full_xhdr=full_xhdr)\n"
     ]
    },
    {
     "name": "stdout",
     "output_type": "stream",
     "text": [
      "Este No l2_data/2021/09/10/Guaviare/GUA210910124624.RAWS3BX\n",
      "l2_data/2021/09/10/Guaviare/GUA210910124816.RAWS3BY\n",
      "Este No l2_data/2021/09/10/Guaviare/GUA210910124816.RAWS3BY\n",
      "l2_data/2021/09/10/Guaviare/GUA210910125003.RAWS3C1\n",
      "299.0 [0.49987793]\n",
      "l2_data/2021/09/10/Guaviare/GUA210910125123.RAWS3C4\n"
     ]
    },
    {
     "name": "stderr",
     "output_type": "stream",
     "text": [
      "/data/keeling/a/alfonso8/miniconda3/envs/rise/lib/python3.9/site-packages/pyart/io/sigmet.py:131: RuntimeWarning: invalid value encountered in sqrt\n",
      "  sigmet_data, sigmet_metadata = sigmetfile.read_data(full_xhdr=full_xhdr)\n"
     ]
    },
    {
     "name": "stdout",
     "output_type": "stream",
     "text": [
      "Este No l2_data/2021/09/10/Guaviare/GUA210910125123.RAWS3C4\n",
      "l2_data/2021/09/10/Guaviare/GUA210910125315.RAWS3C5\n",
      "Este No l2_data/2021/09/10/Guaviare/GUA210910125315.RAWS3C5\n",
      "l2_data/2021/09/10/Guaviare/GUA210910125504.RAWS3C9\n",
      "299.0 [0.49987793]\n",
      "l2_data/2021/09/10/Guaviare/GUA210910125624.RAWS3CB\n"
     ]
    },
    {
     "name": "stderr",
     "output_type": "stream",
     "text": [
      "/data/keeling/a/alfonso8/miniconda3/envs/rise/lib/python3.9/site-packages/pyart/io/sigmet.py:131: RuntimeWarning: invalid value encountered in sqrt\n",
      "  sigmet_data, sigmet_metadata = sigmetfile.read_data(full_xhdr=full_xhdr)\n"
     ]
    },
    {
     "name": "stdout",
     "output_type": "stream",
     "text": [
      "Este No l2_data/2021/09/10/Guaviare/GUA210910125624.RAWS3CB\n",
      "l2_data/2021/09/10/Guaviare/GUA210910125816.RAWS3CC\n",
      "Este No l2_data/2021/09/10/Guaviare/GUA210910125816.RAWS3CC\n",
      "l2_data/2021/09/10/Guaviare/GUA210910130004.RAWS3CF\n",
      "299.0 [0.49987793]\n",
      "l2_data/2021/09/10/Guaviare/GUA210910130123.RAWS3CJ\n"
     ]
    },
    {
     "name": "stderr",
     "output_type": "stream",
     "text": [
      "/data/keeling/a/alfonso8/miniconda3/envs/rise/lib/python3.9/site-packages/pyart/io/sigmet.py:131: RuntimeWarning: invalid value encountered in sqrt\n",
      "  sigmet_data, sigmet_metadata = sigmetfile.read_data(full_xhdr=full_xhdr)\n"
     ]
    },
    {
     "name": "stdout",
     "output_type": "stream",
     "text": [
      "Este No l2_data/2021/09/10/Guaviare/GUA210910130123.RAWS3CJ\n",
      "l2_data/2021/09/10/Guaviare/GUA210910130315.RAWS3CK\n",
      "Este No l2_data/2021/09/10/Guaviare/GUA210910130315.RAWS3CK\n",
      "l2_data/2021/09/10/Guaviare/GUA210910130504.RAWS3CN\n",
      "299.0 [0.49987793]\n",
      "l2_data/2021/09/10/Guaviare/GUA210910130623.RAWS3CR\n"
     ]
    },
    {
     "name": "stderr",
     "output_type": "stream",
     "text": [
      "/data/keeling/a/alfonso8/miniconda3/envs/rise/lib/python3.9/site-packages/pyart/io/sigmet.py:131: RuntimeWarning: invalid value encountered in sqrt\n",
      "  sigmet_data, sigmet_metadata = sigmetfile.read_data(full_xhdr=full_xhdr)\n"
     ]
    },
    {
     "name": "stdout",
     "output_type": "stream",
     "text": [
      "Este No l2_data/2021/09/10/Guaviare/GUA210910130623.RAWS3CR\n",
      "l2_data/2021/09/10/Guaviare/GUA210910130815.RAWS3CT\n",
      "Este No l2_data/2021/09/10/Guaviare/GUA210910130815.RAWS3CT\n",
      "l2_data/2021/09/10/Guaviare/GUA210910131004.RAWS3CW\n",
      "299.0 [0.49987793]\n",
      "l2_data/2021/09/10/Guaviare/GUA210910131123.RAWS3CZ\n"
     ]
    },
    {
     "name": "stderr",
     "output_type": "stream",
     "text": [
      "/data/keeling/a/alfonso8/miniconda3/envs/rise/lib/python3.9/site-packages/pyart/io/sigmet.py:131: RuntimeWarning: invalid value encountered in sqrt\n",
      "  sigmet_data, sigmet_metadata = sigmetfile.read_data(full_xhdr=full_xhdr)\n"
     ]
    },
    {
     "name": "stdout",
     "output_type": "stream",
     "text": [
      "Este No l2_data/2021/09/10/Guaviare/GUA210910131123.RAWS3CZ\n",
      "l2_data/2021/09/10/Guaviare/GUA210910131315.RAWS3D0\n",
      "Este No l2_data/2021/09/10/Guaviare/GUA210910131315.RAWS3D0\n",
      "l2_data/2021/09/10/Guaviare/GUA210910131504.RAWS3D3\n",
      "299.0 [0.49987793]\n",
      "l2_data/2021/09/10/Guaviare/GUA210910131623.RAWS3D5\n"
     ]
    },
    {
     "name": "stderr",
     "output_type": "stream",
     "text": [
      "/data/keeling/a/alfonso8/miniconda3/envs/rise/lib/python3.9/site-packages/pyart/io/sigmet.py:131: RuntimeWarning: invalid value encountered in sqrt\n",
      "  sigmet_data, sigmet_metadata = sigmetfile.read_data(full_xhdr=full_xhdr)\n"
     ]
    },
    {
     "name": "stdout",
     "output_type": "stream",
     "text": [
      "Este No l2_data/2021/09/10/Guaviare/GUA210910131623.RAWS3D5\n",
      "l2_data/2021/09/10/Guaviare/GUA210910131816.RAWS3D7\n",
      "Este No l2_data/2021/09/10/Guaviare/GUA210910131816.RAWS3D7\n",
      "l2_data/2021/09/10/Guaviare/GUA210910132003.RAWS3DA\n",
      "299.0 [0.49987793]\n",
      "l2_data/2021/09/10/Guaviare/GUA210910132123.RAWS3DD\n"
     ]
    },
    {
     "name": "stderr",
     "output_type": "stream",
     "text": [
      "/data/keeling/a/alfonso8/miniconda3/envs/rise/lib/python3.9/site-packages/pyart/io/sigmet.py:131: RuntimeWarning: invalid value encountered in sqrt\n",
      "  sigmet_data, sigmet_metadata = sigmetfile.read_data(full_xhdr=full_xhdr)\n"
     ]
    },
    {
     "name": "stdout",
     "output_type": "stream",
     "text": [
      "Este No l2_data/2021/09/10/Guaviare/GUA210910132123.RAWS3DD\n",
      "l2_data/2021/09/10/Guaviare/GUA210910132315.RAWS3DE\n",
      "Este No l2_data/2021/09/10/Guaviare/GUA210910132315.RAWS3DE\n",
      "l2_data/2021/09/10/Guaviare/GUA210910132504.RAWS3DH\n",
      "299.0 [0.49987793]\n",
      "l2_data/2021/09/10/Guaviare/GUA210910132624.RAWS3DL\n"
     ]
    },
    {
     "name": "stderr",
     "output_type": "stream",
     "text": [
      "/data/keeling/a/alfonso8/miniconda3/envs/rise/lib/python3.9/site-packages/pyart/io/sigmet.py:131: RuntimeWarning: invalid value encountered in sqrt\n",
      "  sigmet_data, sigmet_metadata = sigmetfile.read_data(full_xhdr=full_xhdr)\n"
     ]
    },
    {
     "name": "stdout",
     "output_type": "stream",
     "text": [
      "Este No l2_data/2021/09/10/Guaviare/GUA210910132624.RAWS3DL\n",
      "l2_data/2021/09/10/Guaviare/GUA210910132816.RAWS3DM\n",
      "Este No l2_data/2021/09/10/Guaviare/GUA210910132816.RAWS3DM\n",
      "l2_data/2021/09/10/Guaviare/GUA210910133004.RAWS3DR\n",
      "299.0 [0.49987793]\n",
      "l2_data/2021/09/10/Guaviare/GUA210910133123.RAWS3DU\n"
     ]
    },
    {
     "name": "stderr",
     "output_type": "stream",
     "text": [
      "/data/keeling/a/alfonso8/miniconda3/envs/rise/lib/python3.9/site-packages/pyart/io/sigmet.py:131: RuntimeWarning: invalid value encountered in sqrt\n",
      "  sigmet_data, sigmet_metadata = sigmetfile.read_data(full_xhdr=full_xhdr)\n"
     ]
    },
    {
     "name": "stdout",
     "output_type": "stream",
     "text": [
      "Este No l2_data/2021/09/10/Guaviare/GUA210910133123.RAWS3DU\n",
      "l2_data/2021/09/10/Guaviare/GUA210910133315.RAWS3DV\n",
      "Este No l2_data/2021/09/10/Guaviare/GUA210910133315.RAWS3DV\n",
      "l2_data/2021/09/10/Guaviare/GUA210910133504.RAWS3DY\n",
      "299.0 [0.49987793]\n",
      "l2_data/2021/09/10/Guaviare/GUA210910133623.RAWS3E1\n"
     ]
    },
    {
     "name": "stderr",
     "output_type": "stream",
     "text": [
      "/data/keeling/a/alfonso8/miniconda3/envs/rise/lib/python3.9/site-packages/pyart/io/sigmet.py:131: RuntimeWarning: invalid value encountered in sqrt\n",
      "  sigmet_data, sigmet_metadata = sigmetfile.read_data(full_xhdr=full_xhdr)\n"
     ]
    },
    {
     "name": "stdout",
     "output_type": "stream",
     "text": [
      "Este No l2_data/2021/09/10/Guaviare/GUA210910133623.RAWS3E1\n",
      "l2_data/2021/09/10/Guaviare/GUA210910133815.RAWS3E2\n",
      "Este No l2_data/2021/09/10/Guaviare/GUA210910133815.RAWS3E2\n",
      "l2_data/2021/09/10/Guaviare/GUA210910134004.RAWS3E6\n",
      "299.0 [0.49987793]\n",
      "l2_data/2021/09/10/Guaviare/GUA210910134123.RAWS3E8\n"
     ]
    },
    {
     "name": "stderr",
     "output_type": "stream",
     "text": [
      "/data/keeling/a/alfonso8/miniconda3/envs/rise/lib/python3.9/site-packages/pyart/io/sigmet.py:131: RuntimeWarning: invalid value encountered in sqrt\n",
      "  sigmet_data, sigmet_metadata = sigmetfile.read_data(full_xhdr=full_xhdr)\n"
     ]
    },
    {
     "name": "stdout",
     "output_type": "stream",
     "text": [
      "Este No l2_data/2021/09/10/Guaviare/GUA210910134123.RAWS3E8\n",
      "l2_data/2021/09/10/Guaviare/GUA210910134316.RAWS3E9\n",
      "Este No l2_data/2021/09/10/Guaviare/GUA210910134316.RAWS3E9\n",
      "l2_data/2021/09/10/Guaviare/GUA210910134504.RAWS3EC\n",
      "299.0 [0.49987793]\n",
      "l2_data/2021/09/10/Guaviare/GUA210910134624.RAWS3EF\n"
     ]
    },
    {
     "name": "stderr",
     "output_type": "stream",
     "text": [
      "/data/keeling/a/alfonso8/miniconda3/envs/rise/lib/python3.9/site-packages/pyart/io/sigmet.py:131: RuntimeWarning: invalid value encountered in sqrt\n",
      "  sigmet_data, sigmet_metadata = sigmetfile.read_data(full_xhdr=full_xhdr)\n"
     ]
    },
    {
     "name": "stdout",
     "output_type": "stream",
     "text": [
      "Este No l2_data/2021/09/10/Guaviare/GUA210910134624.RAWS3EF\n",
      "l2_data/2021/09/10/Guaviare/GUA210910134816.RAWS3EG\n",
      "Este No l2_data/2021/09/10/Guaviare/GUA210910134816.RAWS3EG\n",
      "l2_data/2021/09/10/Guaviare/GUA210910135004.RAWS3EK\n",
      "299.0 [0.49987793]\n",
      "l2_data/2021/09/10/Guaviare/GUA210910135123.RAWS3EN\n"
     ]
    },
    {
     "name": "stderr",
     "output_type": "stream",
     "text": [
      "/data/keeling/a/alfonso8/miniconda3/envs/rise/lib/python3.9/site-packages/pyart/io/sigmet.py:131: RuntimeWarning: invalid value encountered in sqrt\n",
      "  sigmet_data, sigmet_metadata = sigmetfile.read_data(full_xhdr=full_xhdr)\n"
     ]
    },
    {
     "name": "stdout",
     "output_type": "stream",
     "text": [
      "Este No l2_data/2021/09/10/Guaviare/GUA210910135123.RAWS3EN\n",
      "l2_data/2021/09/10/Guaviare/GUA210910135315.RAWS3EP\n",
      "Este No l2_data/2021/09/10/Guaviare/GUA210910135315.RAWS3EP\n",
      "l2_data/2021/09/10/Guaviare/GUA210910135504.RAWS3EU\n",
      "299.0 [0.49987793]\n",
      "l2_data/2021/09/10/Guaviare/GUA210910135624.RAWS3EV\n"
     ]
    },
    {
     "name": "stderr",
     "output_type": "stream",
     "text": [
      "/data/keeling/a/alfonso8/miniconda3/envs/rise/lib/python3.9/site-packages/pyart/io/sigmet.py:131: RuntimeWarning: invalid value encountered in sqrt\n",
      "  sigmet_data, sigmet_metadata = sigmetfile.read_data(full_xhdr=full_xhdr)\n"
     ]
    },
    {
     "name": "stdout",
     "output_type": "stream",
     "text": [
      "Este No l2_data/2021/09/10/Guaviare/GUA210910135624.RAWS3EV\n",
      "l2_data/2021/09/10/Guaviare/GUA210910135816.RAWS3EX\n",
      "Este No l2_data/2021/09/10/Guaviare/GUA210910135816.RAWS3EX\n",
      "l2_data/2021/09/10/Guaviare/GUA210910140004.RAWS3F0\n",
      "299.0 [0.49987793]\n",
      "l2_data/2021/09/10/Guaviare/GUA210910140124.RAWS3F3\n"
     ]
    },
    {
     "name": "stderr",
     "output_type": "stream",
     "text": [
      "/data/keeling/a/alfonso8/miniconda3/envs/rise/lib/python3.9/site-packages/pyart/io/sigmet.py:131: RuntimeWarning: invalid value encountered in sqrt\n",
      "  sigmet_data, sigmet_metadata = sigmetfile.read_data(full_xhdr=full_xhdr)\n"
     ]
    },
    {
     "name": "stdout",
     "output_type": "stream",
     "text": [
      "Este No l2_data/2021/09/10/Guaviare/GUA210910140124.RAWS3F3\n",
      "l2_data/2021/09/10/Guaviare/GUA210910140316.RAWS3F4\n",
      "Este No l2_data/2021/09/10/Guaviare/GUA210910140316.RAWS3F4\n",
      "l2_data/2021/09/10/Guaviare/GUA210910140504.RAWS3F7\n",
      "299.0 [0.49987793]\n",
      "l2_data/2021/09/10/Guaviare/GUA210910140624.RAWS3FA\n"
     ]
    },
    {
     "name": "stderr",
     "output_type": "stream",
     "text": [
      "/data/keeling/a/alfonso8/miniconda3/envs/rise/lib/python3.9/site-packages/pyart/io/sigmet.py:131: RuntimeWarning: invalid value encountered in sqrt\n",
      "  sigmet_data, sigmet_metadata = sigmetfile.read_data(full_xhdr=full_xhdr)\n"
     ]
    },
    {
     "name": "stdout",
     "output_type": "stream",
     "text": [
      "Este No l2_data/2021/09/10/Guaviare/GUA210910140624.RAWS3FA\n",
      "l2_data/2021/09/10/Guaviare/GUA210910140816.RAWS3FB\n",
      "Este No l2_data/2021/09/10/Guaviare/GUA210910140816.RAWS3FB\n",
      "l2_data/2021/09/10/Guaviare/GUA210910141004.RAWS3FF\n",
      "299.0 [0.49987793]\n",
      "l2_data/2021/09/10/Guaviare/GUA210910141123.RAWS3FH\n"
     ]
    },
    {
     "name": "stderr",
     "output_type": "stream",
     "text": [
      "/data/keeling/a/alfonso8/miniconda3/envs/rise/lib/python3.9/site-packages/pyart/io/sigmet.py:131: RuntimeWarning: invalid value encountered in sqrt\n",
      "  sigmet_data, sigmet_metadata = sigmetfile.read_data(full_xhdr=full_xhdr)\n"
     ]
    },
    {
     "name": "stdout",
     "output_type": "stream",
     "text": [
      "Este No l2_data/2021/09/10/Guaviare/GUA210910141123.RAWS3FH\n",
      "l2_data/2021/09/10/Guaviare/GUA210910141315.RAWS3FJ\n",
      "Este No l2_data/2021/09/10/Guaviare/GUA210910141315.RAWS3FJ\n",
      "l2_data/2021/09/10/Guaviare/GUA210910141504.RAWS3FM\n",
      "299.0 [0.49987793]\n",
      "l2_data/2021/09/10/Guaviare/GUA210910141624.RAWS3FR\n"
     ]
    },
    {
     "name": "stderr",
     "output_type": "stream",
     "text": [
      "/data/keeling/a/alfonso8/miniconda3/envs/rise/lib/python3.9/site-packages/pyart/io/sigmet.py:131: RuntimeWarning: invalid value encountered in sqrt\n",
      "  sigmet_data, sigmet_metadata = sigmetfile.read_data(full_xhdr=full_xhdr)\n"
     ]
    },
    {
     "name": "stdout",
     "output_type": "stream",
     "text": [
      "Este No l2_data/2021/09/10/Guaviare/GUA210910141624.RAWS3FR\n",
      "l2_data/2021/09/10/Guaviare/GUA210910141816.RAWS3FS\n",
      "Este No l2_data/2021/09/10/Guaviare/GUA210910141816.RAWS3FS\n",
      "l2_data/2021/09/10/Guaviare/GUA210910142004.RAWS3FW\n",
      "299.0 [0.49987793]\n",
      "l2_data/2021/09/10/Guaviare/GUA210910142124.RAWS3FY\n"
     ]
    },
    {
     "name": "stderr",
     "output_type": "stream",
     "text": [
      "/data/keeling/a/alfonso8/miniconda3/envs/rise/lib/python3.9/site-packages/pyart/io/sigmet.py:131: RuntimeWarning: invalid value encountered in sqrt\n",
      "  sigmet_data, sigmet_metadata = sigmetfile.read_data(full_xhdr=full_xhdr)\n"
     ]
    },
    {
     "name": "stdout",
     "output_type": "stream",
     "text": [
      "Este No l2_data/2021/09/10/Guaviare/GUA210910142124.RAWS3FY\n",
      "l2_data/2021/09/10/Guaviare/GUA210910142316.RAWS3FZ\n",
      "Este No l2_data/2021/09/10/Guaviare/GUA210910142316.RAWS3FZ\n",
      "l2_data/2021/09/10/Guaviare/GUA210910142504.RAWS3G2\n",
      "299.0 [0.49987793]\n",
      "l2_data/2021/09/10/Guaviare/GUA210910142623.RAWS3G5\n"
     ]
    },
    {
     "name": "stderr",
     "output_type": "stream",
     "text": [
      "/data/keeling/a/alfonso8/miniconda3/envs/rise/lib/python3.9/site-packages/pyart/io/sigmet.py:131: RuntimeWarning: invalid value encountered in sqrt\n",
      "  sigmet_data, sigmet_metadata = sigmetfile.read_data(full_xhdr=full_xhdr)\n"
     ]
    },
    {
     "name": "stdout",
     "output_type": "stream",
     "text": [
      "Este No l2_data/2021/09/10/Guaviare/GUA210910142623.RAWS3G5\n",
      "l2_data/2021/09/10/Guaviare/GUA210910142815.RAWS3G6\n",
      "Este No l2_data/2021/09/10/Guaviare/GUA210910142815.RAWS3G6\n",
      "l2_data/2021/09/10/Guaviare/GUA210910143004.RAWS3G9\n",
      "299.0 [0.49987793]\n",
      "l2_data/2021/09/10/Guaviare/GUA210910143124.RAWS3GC\n"
     ]
    },
    {
     "name": "stderr",
     "output_type": "stream",
     "text": [
      "/data/keeling/a/alfonso8/miniconda3/envs/rise/lib/python3.9/site-packages/pyart/io/sigmet.py:131: RuntimeWarning: invalid value encountered in sqrt\n",
      "  sigmet_data, sigmet_metadata = sigmetfile.read_data(full_xhdr=full_xhdr)\n"
     ]
    },
    {
     "name": "stdout",
     "output_type": "stream",
     "text": [
      "Este No l2_data/2021/09/10/Guaviare/GUA210910143124.RAWS3GC\n",
      "l2_data/2021/09/10/Guaviare/GUA210910143315.RAWS3GD\n",
      "Este No l2_data/2021/09/10/Guaviare/GUA210910143315.RAWS3GD\n",
      "l2_data/2021/09/10/Guaviare/GUA210910143504.RAWS3GG\n",
      "299.0 [0.49987793]\n",
      "l2_data/2021/09/10/Guaviare/GUA210910143623.RAWS3GK\n"
     ]
    },
    {
     "name": "stderr",
     "output_type": "stream",
     "text": [
      "/data/keeling/a/alfonso8/miniconda3/envs/rise/lib/python3.9/site-packages/pyart/io/sigmet.py:131: RuntimeWarning: invalid value encountered in sqrt\n",
      "  sigmet_data, sigmet_metadata = sigmetfile.read_data(full_xhdr=full_xhdr)\n"
     ]
    },
    {
     "name": "stdout",
     "output_type": "stream",
     "text": [
      "Este No l2_data/2021/09/10/Guaviare/GUA210910143623.RAWS3GK\n",
      "l2_data/2021/09/10/Guaviare/GUA210910143815.RAWS3GL\n",
      "Este No l2_data/2021/09/10/Guaviare/GUA210910143815.RAWS3GL\n",
      "l2_data/2021/09/10/Guaviare/GUA210910144004.RAWS3GR\n",
      "299.0 [0.49987793]\n",
      "l2_data/2021/09/10/Guaviare/GUA210910144123.RAWS3GT\n"
     ]
    },
    {
     "name": "stderr",
     "output_type": "stream",
     "text": [
      "/data/keeling/a/alfonso8/miniconda3/envs/rise/lib/python3.9/site-packages/pyart/io/sigmet.py:131: RuntimeWarning: invalid value encountered in sqrt\n",
      "  sigmet_data, sigmet_metadata = sigmetfile.read_data(full_xhdr=full_xhdr)\n"
     ]
    },
    {
     "name": "stdout",
     "output_type": "stream",
     "text": [
      "Este No l2_data/2021/09/10/Guaviare/GUA210910144123.RAWS3GT\n",
      "l2_data/2021/09/10/Guaviare/GUA210910144315.RAWS3GU\n",
      "Este No l2_data/2021/09/10/Guaviare/GUA210910144315.RAWS3GU\n",
      "l2_data/2021/09/10/Guaviare/GUA210910144504.RAWS3GX\n",
      "299.0 [0.49987793]\n",
      "l2_data/2021/09/10/Guaviare/GUA210910144624.RAWS3H0\n"
     ]
    },
    {
     "name": "stderr",
     "output_type": "stream",
     "text": [
      "/data/keeling/a/alfonso8/miniconda3/envs/rise/lib/python3.9/site-packages/pyart/io/sigmet.py:131: RuntimeWarning: invalid value encountered in sqrt\n",
      "  sigmet_data, sigmet_metadata = sigmetfile.read_data(full_xhdr=full_xhdr)\n"
     ]
    },
    {
     "name": "stdout",
     "output_type": "stream",
     "text": [
      "Este No l2_data/2021/09/10/Guaviare/GUA210910144624.RAWS3H0\n",
      "l2_data/2021/09/10/Guaviare/GUA210910144816.RAWS3H1\n",
      "Este No l2_data/2021/09/10/Guaviare/GUA210910144816.RAWS3H1\n",
      "l2_data/2021/09/10/Guaviare/GUA210910145004.RAWS3H4\n",
      "299.0 [0.49987793]\n",
      "l2_data/2021/09/10/Guaviare/GUA210910145124.RAWS3H7\n"
     ]
    },
    {
     "name": "stderr",
     "output_type": "stream",
     "text": [
      "/data/keeling/a/alfonso8/miniconda3/envs/rise/lib/python3.9/site-packages/pyart/io/sigmet.py:131: RuntimeWarning: invalid value encountered in sqrt\n",
      "  sigmet_data, sigmet_metadata = sigmetfile.read_data(full_xhdr=full_xhdr)\n"
     ]
    },
    {
     "name": "stdout",
     "output_type": "stream",
     "text": [
      "Este No l2_data/2021/09/10/Guaviare/GUA210910145124.RAWS3H7\n",
      "l2_data/2021/09/10/Guaviare/GUA210910145316.RAWS3H8\n",
      "Este No l2_data/2021/09/10/Guaviare/GUA210910145316.RAWS3H8\n",
      "l2_data/2021/09/10/Guaviare/GUA210910145504.RAWS3HB\n",
      "299.0 [0.49987793]\n",
      "l2_data/2021/09/10/Guaviare/GUA210910145624.RAWS3HE\n"
     ]
    },
    {
     "name": "stderr",
     "output_type": "stream",
     "text": [
      "/data/keeling/a/alfonso8/miniconda3/envs/rise/lib/python3.9/site-packages/pyart/io/sigmet.py:131: RuntimeWarning: invalid value encountered in sqrt\n",
      "  sigmet_data, sigmet_metadata = sigmetfile.read_data(full_xhdr=full_xhdr)\n"
     ]
    },
    {
     "name": "stdout",
     "output_type": "stream",
     "text": [
      "Este No l2_data/2021/09/10/Guaviare/GUA210910145624.RAWS3HE\n",
      "l2_data/2021/09/10/Guaviare/GUA210910145816.RAWS3HF\n",
      "Este No l2_data/2021/09/10/Guaviare/GUA210910145816.RAWS3HF\n",
      "l2_data/2021/09/10/Guaviare/GUA210910150004.RAWS3HK\n",
      "299.0 [0.49987793]\n",
      "l2_data/2021/09/10/Guaviare/GUA210910150123.RAWS3HM\n"
     ]
    },
    {
     "name": "stderr",
     "output_type": "stream",
     "text": [
      "/data/keeling/a/alfonso8/miniconda3/envs/rise/lib/python3.9/site-packages/pyart/io/sigmet.py:131: RuntimeWarning: invalid value encountered in sqrt\n",
      "  sigmet_data, sigmet_metadata = sigmetfile.read_data(full_xhdr=full_xhdr)\n"
     ]
    },
    {
     "name": "stdout",
     "output_type": "stream",
     "text": [
      "Este No l2_data/2021/09/10/Guaviare/GUA210910150123.RAWS3HM\n",
      "l2_data/2021/09/10/Guaviare/GUA210910150315.RAWS3HN\n",
      "Este No l2_data/2021/09/10/Guaviare/GUA210910150315.RAWS3HN\n",
      "l2_data/2021/09/10/Guaviare/GUA210910150504.RAWS3HT\n",
      "299.0 [0.49987793]\n",
      "l2_data/2021/09/10/Guaviare/GUA210910150624.RAWS3HV\n"
     ]
    },
    {
     "name": "stderr",
     "output_type": "stream",
     "text": [
      "/data/keeling/a/alfonso8/miniconda3/envs/rise/lib/python3.9/site-packages/pyart/io/sigmet.py:131: RuntimeWarning: invalid value encountered in sqrt\n",
      "  sigmet_data, sigmet_metadata = sigmetfile.read_data(full_xhdr=full_xhdr)\n"
     ]
    },
    {
     "name": "stdout",
     "output_type": "stream",
     "text": [
      "Este No l2_data/2021/09/10/Guaviare/GUA210910150624.RAWS3HV\n",
      "l2_data/2021/09/10/Guaviare/GUA210910150816.RAWS3HW\n",
      "Este No l2_data/2021/09/10/Guaviare/GUA210910150816.RAWS3HW\n",
      "l2_data/2021/09/10/Guaviare/GUA210910151004.RAWS3HZ\n",
      "299.0 [0.49987793]\n",
      "l2_data/2021/09/10/Guaviare/GUA210910151124.RAWS3J1\n"
     ]
    },
    {
     "name": "stderr",
     "output_type": "stream",
     "text": [
      "/data/keeling/a/alfonso8/miniconda3/envs/rise/lib/python3.9/site-packages/pyart/io/sigmet.py:131: RuntimeWarning: invalid value encountered in sqrt\n",
      "  sigmet_data, sigmet_metadata = sigmetfile.read_data(full_xhdr=full_xhdr)\n"
     ]
    },
    {
     "name": "stdout",
     "output_type": "stream",
     "text": [
      "Este No l2_data/2021/09/10/Guaviare/GUA210910151124.RAWS3J1\n",
      "l2_data/2021/09/10/Guaviare/GUA210910151315.RAWS3J3\n",
      "Este No l2_data/2021/09/10/Guaviare/GUA210910151315.RAWS3J3\n",
      "l2_data/2021/09/10/Guaviare/GUA210910151504.RAWS3J7\n",
      "299.0 [0.49987793]\n",
      "l2_data/2021/09/10/Guaviare/GUA210910151624.RAWS3J9\n"
     ]
    },
    {
     "name": "stderr",
     "output_type": "stream",
     "text": [
      "/data/keeling/a/alfonso8/miniconda3/envs/rise/lib/python3.9/site-packages/pyart/io/sigmet.py:131: RuntimeWarning: invalid value encountered in sqrt\n",
      "  sigmet_data, sigmet_metadata = sigmetfile.read_data(full_xhdr=full_xhdr)\n"
     ]
    },
    {
     "name": "stdout",
     "output_type": "stream",
     "text": [
      "Este No l2_data/2021/09/10/Guaviare/GUA210910151624.RAWS3J9\n",
      "l2_data/2021/09/10/Guaviare/GUA210910151816.RAWS3JA\n",
      "Este No l2_data/2021/09/10/Guaviare/GUA210910151816.RAWS3JA\n",
      "l2_data/2021/09/10/Guaviare/GUA210910152004.RAWS3JD\n",
      "299.0 [0.49987793]\n",
      "l2_data/2021/09/10/Guaviare/GUA210910152124.RAWS3JG\n"
     ]
    },
    {
     "name": "stderr",
     "output_type": "stream",
     "text": [
      "/data/keeling/a/alfonso8/miniconda3/envs/rise/lib/python3.9/site-packages/pyart/io/sigmet.py:131: RuntimeWarning: invalid value encountered in sqrt\n",
      "  sigmet_data, sigmet_metadata = sigmetfile.read_data(full_xhdr=full_xhdr)\n"
     ]
    },
    {
     "name": "stdout",
     "output_type": "stream",
     "text": [
      "Este No l2_data/2021/09/10/Guaviare/GUA210910152124.RAWS3JG\n",
      "l2_data/2021/09/10/Guaviare/GUA210910152316.RAWS3JH\n",
      "Este No l2_data/2021/09/10/Guaviare/GUA210910152316.RAWS3JH\n",
      "l2_data/2021/09/10/Guaviare/GUA210910152504.RAWS3JL\n",
      "299.0 [0.49987793]\n",
      "l2_data/2021/09/10/Guaviare/GUA210910152623.RAWS3JP\n"
     ]
    },
    {
     "name": "stderr",
     "output_type": "stream",
     "text": [
      "/data/keeling/a/alfonso8/miniconda3/envs/rise/lib/python3.9/site-packages/pyart/io/sigmet.py:131: RuntimeWarning: invalid value encountered in sqrt\n",
      "  sigmet_data, sigmet_metadata = sigmetfile.read_data(full_xhdr=full_xhdr)\n"
     ]
    },
    {
     "name": "stdout",
     "output_type": "stream",
     "text": [
      "Este No l2_data/2021/09/10/Guaviare/GUA210910152623.RAWS3JP\n",
      "l2_data/2021/09/10/Guaviare/GUA210910152815.RAWS3JR\n",
      "Este No l2_data/2021/09/10/Guaviare/GUA210910152815.RAWS3JR\n",
      "l2_data/2021/09/10/Guaviare/GUA210910153004.RAWS3JV\n",
      "299.0 [0.49987793]\n",
      "l2_data/2021/09/10/Guaviare/GUA210910153123.RAWS3JX\n"
     ]
    },
    {
     "name": "stderr",
     "output_type": "stream",
     "text": [
      "/data/keeling/a/alfonso8/miniconda3/envs/rise/lib/python3.9/site-packages/pyart/io/sigmet.py:131: RuntimeWarning: invalid value encountered in sqrt\n",
      "  sigmet_data, sigmet_metadata = sigmetfile.read_data(full_xhdr=full_xhdr)\n"
     ]
    },
    {
     "name": "stdout",
     "output_type": "stream",
     "text": [
      "Este No l2_data/2021/09/10/Guaviare/GUA210910153123.RAWS3JX\n",
      "l2_data/2021/09/10/Guaviare/GUA210910153315.RAWS3JY\n",
      "Este No l2_data/2021/09/10/Guaviare/GUA210910153315.RAWS3JY\n",
      "l2_data/2021/09/10/Guaviare/GUA210910153504.RAWS3K1\n",
      "299.0 [0.49987793]\n",
      "l2_data/2021/09/10/Guaviare/GUA210910153624.RAWS3K4\n"
     ]
    },
    {
     "name": "stderr",
     "output_type": "stream",
     "text": [
      "/data/keeling/a/alfonso8/miniconda3/envs/rise/lib/python3.9/site-packages/pyart/io/sigmet.py:131: RuntimeWarning: invalid value encountered in sqrt\n",
      "  sigmet_data, sigmet_metadata = sigmetfile.read_data(full_xhdr=full_xhdr)\n"
     ]
    },
    {
     "name": "stdout",
     "output_type": "stream",
     "text": [
      "Este No l2_data/2021/09/10/Guaviare/GUA210910153624.RAWS3K4\n",
      "l2_data/2021/09/10/Guaviare/GUA210910153816.RAWS3K7\n",
      "Este No l2_data/2021/09/10/Guaviare/GUA210910153816.RAWS3K7\n",
      "l2_data/2021/09/10/Guaviare/GUA210910154004.RAWS3K8\n",
      "299.0 [0.49987793]\n",
      "l2_data/2021/09/10/Guaviare/GUA210910154122.RAWS3KB\n"
     ]
    },
    {
     "name": "stderr",
     "output_type": "stream",
     "text": [
      "/data/keeling/a/alfonso8/miniconda3/envs/rise/lib/python3.9/site-packages/pyart/io/sigmet.py:131: RuntimeWarning: invalid value encountered in sqrt\n",
      "  sigmet_data, sigmet_metadata = sigmetfile.read_data(full_xhdr=full_xhdr)\n"
     ]
    },
    {
     "name": "stdout",
     "output_type": "stream",
     "text": [
      "Este No l2_data/2021/09/10/Guaviare/GUA210910154122.RAWS3KB\n",
      "l2_data/2021/09/10/Guaviare/GUA210910154315.RAWS3KC\n",
      "Este No l2_data/2021/09/10/Guaviare/GUA210910154315.RAWS3KC\n",
      "l2_data/2021/09/10/Guaviare/GUA210910154504.RAWS3KG\n",
      "299.0 [0.49987793]\n",
      "l2_data/2021/09/10/Guaviare/GUA210910154623.RAWS3KJ\n"
     ]
    },
    {
     "name": "stderr",
     "output_type": "stream",
     "text": [
      "/data/keeling/a/alfonso8/miniconda3/envs/rise/lib/python3.9/site-packages/pyart/io/sigmet.py:131: RuntimeWarning: invalid value encountered in sqrt\n",
      "  sigmet_data, sigmet_metadata = sigmetfile.read_data(full_xhdr=full_xhdr)\n"
     ]
    },
    {
     "name": "stdout",
     "output_type": "stream",
     "text": [
      "Este No l2_data/2021/09/10/Guaviare/GUA210910154623.RAWS3KJ\n",
      "l2_data/2021/09/10/Guaviare/GUA210910154815.RAWS3KK\n",
      "Este No l2_data/2021/09/10/Guaviare/GUA210910154815.RAWS3KK\n",
      "l2_data/2021/09/10/Guaviare/GUA210910155004.RAWS3KP\n",
      "299.0 [0.49987793]\n",
      "l2_data/2021/09/10/Guaviare/GUA210910155124.RAWS3KS\n"
     ]
    },
    {
     "name": "stderr",
     "output_type": "stream",
     "text": [
      "/data/keeling/a/alfonso8/miniconda3/envs/rise/lib/python3.9/site-packages/pyart/io/sigmet.py:131: RuntimeWarning: invalid value encountered in sqrt\n",
      "  sigmet_data, sigmet_metadata = sigmetfile.read_data(full_xhdr=full_xhdr)\n"
     ]
    },
    {
     "name": "stdout",
     "output_type": "stream",
     "text": [
      "Este No l2_data/2021/09/10/Guaviare/GUA210910155124.RAWS3KS\n",
      "l2_data/2021/09/10/Guaviare/GUA210910155316.RAWS3KT\n",
      "Este No l2_data/2021/09/10/Guaviare/GUA210910155316.RAWS3KT\n",
      "l2_data/2021/09/10/Guaviare/GUA210910155504.RAWS3KX\n",
      "299.0 [0.49987793]\n",
      "l2_data/2021/09/10/Guaviare/GUA210910155624.RAWS3KZ\n"
     ]
    },
    {
     "name": "stderr",
     "output_type": "stream",
     "text": [
      "/data/keeling/a/alfonso8/miniconda3/envs/rise/lib/python3.9/site-packages/pyart/io/sigmet.py:131: RuntimeWarning: invalid value encountered in sqrt\n",
      "  sigmet_data, sigmet_metadata = sigmetfile.read_data(full_xhdr=full_xhdr)\n"
     ]
    },
    {
     "name": "stdout",
     "output_type": "stream",
     "text": [
      "Este No l2_data/2021/09/10/Guaviare/GUA210910155624.RAWS3KZ\n",
      "l2_data/2021/09/10/Guaviare/GUA210910155817.RAWS3L0\n",
      "Este No l2_data/2021/09/10/Guaviare/GUA210910155817.RAWS3L0\n",
      "l2_data/2021/09/10/Guaviare/GUA210910160004.RAWS3L4\n",
      "299.0 [0.49987793]\n",
      "l2_data/2021/09/10/Guaviare/GUA210910160124.RAWS3L6\n"
     ]
    },
    {
     "name": "stderr",
     "output_type": "stream",
     "text": [
      "/data/keeling/a/alfonso8/miniconda3/envs/rise/lib/python3.9/site-packages/pyart/io/sigmet.py:131: RuntimeWarning: invalid value encountered in sqrt\n",
      "  sigmet_data, sigmet_metadata = sigmetfile.read_data(full_xhdr=full_xhdr)\n"
     ]
    },
    {
     "name": "stdout",
     "output_type": "stream",
     "text": [
      "Este No l2_data/2021/09/10/Guaviare/GUA210910160124.RAWS3L6\n",
      "l2_data/2021/09/10/Guaviare/GUA210910160316.RAWS3L7\n",
      "Este No l2_data/2021/09/10/Guaviare/GUA210910160316.RAWS3L7\n",
      "l2_data/2021/09/10/Guaviare/GUA210910160504.RAWS3LB\n",
      "299.0 [0.49987793]\n",
      "l2_data/2021/09/10/Guaviare/GUA210910160624.RAWS3LD\n"
     ]
    },
    {
     "name": "stderr",
     "output_type": "stream",
     "text": [
      "/data/keeling/a/alfonso8/miniconda3/envs/rise/lib/python3.9/site-packages/pyart/io/sigmet.py:131: RuntimeWarning: invalid value encountered in sqrt\n",
      "  sigmet_data, sigmet_metadata = sigmetfile.read_data(full_xhdr=full_xhdr)\n"
     ]
    },
    {
     "name": "stdout",
     "output_type": "stream",
     "text": [
      "Este No l2_data/2021/09/10/Guaviare/GUA210910160624.RAWS3LD\n",
      "l2_data/2021/09/10/Guaviare/GUA210910160816.RAWS3LE\n",
      "Este No l2_data/2021/09/10/Guaviare/GUA210910160816.RAWS3LE\n",
      "l2_data/2021/09/10/Guaviare/GUA210910161004.RAWS3LJ\n",
      "299.0 [0.49987793]\n",
      "l2_data/2021/09/10/Guaviare/GUA210910161123.RAWS3LL\n"
     ]
    },
    {
     "name": "stderr",
     "output_type": "stream",
     "text": [
      "/data/keeling/a/alfonso8/miniconda3/envs/rise/lib/python3.9/site-packages/pyart/io/sigmet.py:131: RuntimeWarning: invalid value encountered in sqrt\n",
      "  sigmet_data, sigmet_metadata = sigmetfile.read_data(full_xhdr=full_xhdr)\n"
     ]
    },
    {
     "name": "stdout",
     "output_type": "stream",
     "text": [
      "Este No l2_data/2021/09/10/Guaviare/GUA210910161123.RAWS3LL\n",
      "l2_data/2021/09/10/Guaviare/GUA210910161315.RAWS3LM\n",
      "Este No l2_data/2021/09/10/Guaviare/GUA210910161315.RAWS3LM\n",
      "l2_data/2021/09/10/Guaviare/GUA210910161504.RAWS3LR\n",
      "299.0 [0.49987793]\n",
      "l2_data/2021/09/10/Guaviare/GUA210910161624.RAWS3LU\n"
     ]
    },
    {
     "name": "stderr",
     "output_type": "stream",
     "text": [
      "/data/keeling/a/alfonso8/miniconda3/envs/rise/lib/python3.9/site-packages/pyart/io/sigmet.py:131: RuntimeWarning: invalid value encountered in sqrt\n",
      "  sigmet_data, sigmet_metadata = sigmetfile.read_data(full_xhdr=full_xhdr)\n"
     ]
    },
    {
     "name": "stdout",
     "output_type": "stream",
     "text": [
      "Este No l2_data/2021/09/10/Guaviare/GUA210910161624.RAWS3LU\n",
      "l2_data/2021/09/10/Guaviare/GUA210910161816.RAWS3LV\n",
      "Este No l2_data/2021/09/10/Guaviare/GUA210910161816.RAWS3LV\n",
      "l2_data/2021/09/10/Guaviare/GUA210910162004.RAWS3LY\n",
      "299.0 [0.49987793]\n",
      "l2_data/2021/09/10/Guaviare/GUA210910162123.RAWS3M1\n"
     ]
    },
    {
     "name": "stderr",
     "output_type": "stream",
     "text": [
      "/data/keeling/a/alfonso8/miniconda3/envs/rise/lib/python3.9/site-packages/pyart/io/sigmet.py:131: RuntimeWarning: invalid value encountered in sqrt\n",
      "  sigmet_data, sigmet_metadata = sigmetfile.read_data(full_xhdr=full_xhdr)\n"
     ]
    },
    {
     "name": "stdout",
     "output_type": "stream",
     "text": [
      "Este No l2_data/2021/09/10/Guaviare/GUA210910162123.RAWS3M1\n",
      "l2_data/2021/09/10/Guaviare/GUA210910162315.RAWS3M2\n",
      "Este No l2_data/2021/09/10/Guaviare/GUA210910162315.RAWS3M2\n",
      "l2_data/2021/09/10/Guaviare/GUA210910162504.RAWS3M5\n",
      "299.0 [0.49987793]\n",
      "l2_data/2021/09/10/Guaviare/GUA210910162623.RAWS3M7\n"
     ]
    },
    {
     "name": "stderr",
     "output_type": "stream",
     "text": [
      "/data/keeling/a/alfonso8/miniconda3/envs/rise/lib/python3.9/site-packages/pyart/io/sigmet.py:131: RuntimeWarning: invalid value encountered in sqrt\n",
      "  sigmet_data, sigmet_metadata = sigmetfile.read_data(full_xhdr=full_xhdr)\n"
     ]
    },
    {
     "name": "stdout",
     "output_type": "stream",
     "text": [
      "Este No l2_data/2021/09/10/Guaviare/GUA210910162623.RAWS3M7\n",
      "l2_data/2021/09/10/Guaviare/GUA210910162815.RAWS3M9\n",
      "Este No l2_data/2021/09/10/Guaviare/GUA210910162815.RAWS3M9\n",
      "l2_data/2021/09/10/Guaviare/GUA210910163004.RAWS3MD\n",
      "299.0 [0.49987793]\n",
      "l2_data/2021/09/10/Guaviare/GUA210910163124.RAWS3MF\n"
     ]
    },
    {
     "name": "stderr",
     "output_type": "stream",
     "text": [
      "/data/keeling/a/alfonso8/miniconda3/envs/rise/lib/python3.9/site-packages/pyart/io/sigmet.py:131: RuntimeWarning: invalid value encountered in sqrt\n",
      "  sigmet_data, sigmet_metadata = sigmetfile.read_data(full_xhdr=full_xhdr)\n"
     ]
    },
    {
     "name": "stdout",
     "output_type": "stream",
     "text": [
      "Este No l2_data/2021/09/10/Guaviare/GUA210910163124.RAWS3MF\n",
      "l2_data/2021/09/10/Guaviare/GUA210910163316.RAWS3MG\n",
      "Este No l2_data/2021/09/10/Guaviare/GUA210910163316.RAWS3MG\n",
      "l2_data/2021/09/10/Guaviare/GUA210910163504.RAWS3ML\n",
      "299.0 [0.49987793]\n",
      "l2_data/2021/09/10/Guaviare/GUA210910163623.RAWS3MN\n"
     ]
    },
    {
     "name": "stderr",
     "output_type": "stream",
     "text": [
      "/data/keeling/a/alfonso8/miniconda3/envs/rise/lib/python3.9/site-packages/pyart/io/sigmet.py:131: RuntimeWarning: invalid value encountered in sqrt\n",
      "  sigmet_data, sigmet_metadata = sigmetfile.read_data(full_xhdr=full_xhdr)\n"
     ]
    },
    {
     "name": "stdout",
     "output_type": "stream",
     "text": [
      "Este No l2_data/2021/09/10/Guaviare/GUA210910163623.RAWS3MN\n",
      "l2_data/2021/09/10/Guaviare/GUA210910163816.RAWS3MP\n",
      "Este No l2_data/2021/09/10/Guaviare/GUA210910163816.RAWS3MP\n",
      "l2_data/2021/09/10/Guaviare/GUA210910164004.RAWS3MU\n",
      "299.0 [0.49987793]\n",
      "l2_data/2021/09/10/Guaviare/GUA210910164123.RAWS3MW\n"
     ]
    },
    {
     "name": "stderr",
     "output_type": "stream",
     "text": [
      "/data/keeling/a/alfonso8/miniconda3/envs/rise/lib/python3.9/site-packages/pyart/io/sigmet.py:131: RuntimeWarning: invalid value encountered in sqrt\n",
      "  sigmet_data, sigmet_metadata = sigmetfile.read_data(full_xhdr=full_xhdr)\n"
     ]
    },
    {
     "name": "stdout",
     "output_type": "stream",
     "text": [
      "Este No l2_data/2021/09/10/Guaviare/GUA210910164123.RAWS3MW\n",
      "l2_data/2021/09/10/Guaviare/GUA210910164316.RAWS3MX\n",
      "Este No l2_data/2021/09/10/Guaviare/GUA210910164316.RAWS3MX\n",
      "l2_data/2021/09/10/Guaviare/GUA210910164503.RAWS3N0\n",
      "299.0 [0.49987793]\n",
      "l2_data/2021/09/10/Guaviare/GUA210910164623.RAWS3N3\n"
     ]
    },
    {
     "name": "stderr",
     "output_type": "stream",
     "text": [
      "/data/keeling/a/alfonso8/miniconda3/envs/rise/lib/python3.9/site-packages/pyart/io/sigmet.py:131: RuntimeWarning: invalid value encountered in sqrt\n",
      "  sigmet_data, sigmet_metadata = sigmetfile.read_data(full_xhdr=full_xhdr)\n"
     ]
    },
    {
     "name": "stdout",
     "output_type": "stream",
     "text": [
      "Este No l2_data/2021/09/10/Guaviare/GUA210910164623.RAWS3N3\n",
      "l2_data/2021/09/10/Guaviare/GUA210910164815.RAWS3N4\n",
      "Este No l2_data/2021/09/10/Guaviare/GUA210910164815.RAWS3N4\n",
      "l2_data/2021/09/10/Guaviare/GUA210910165004.RAWS3N8\n",
      "299.0 [0.49987793]\n",
      "l2_data/2021/09/10/Guaviare/GUA210910165124.RAWS3NA\n"
     ]
    },
    {
     "name": "stderr",
     "output_type": "stream",
     "text": [
      "/data/keeling/a/alfonso8/miniconda3/envs/rise/lib/python3.9/site-packages/pyart/io/sigmet.py:131: RuntimeWarning: invalid value encountered in sqrt\n",
      "  sigmet_data, sigmet_metadata = sigmetfile.read_data(full_xhdr=full_xhdr)\n"
     ]
    },
    {
     "name": "stdout",
     "output_type": "stream",
     "text": [
      "Este No l2_data/2021/09/10/Guaviare/GUA210910165124.RAWS3NA\n",
      "l2_data/2021/09/10/Guaviare/GUA210910165316.RAWS3NB\n",
      "Este No l2_data/2021/09/10/Guaviare/GUA210910165316.RAWS3NB\n",
      "l2_data/2021/09/10/Guaviare/GUA210910165504.RAWS3NF\n",
      "299.0 [0.49987793]\n",
      "l2_data/2021/09/10/Guaviare/GUA210910165623.RAWS3NH\n"
     ]
    },
    {
     "name": "stderr",
     "output_type": "stream",
     "text": [
      "/data/keeling/a/alfonso8/miniconda3/envs/rise/lib/python3.9/site-packages/pyart/io/sigmet.py:131: RuntimeWarning: invalid value encountered in sqrt\n",
      "  sigmet_data, sigmet_metadata = sigmetfile.read_data(full_xhdr=full_xhdr)\n"
     ]
    },
    {
     "name": "stdout",
     "output_type": "stream",
     "text": [
      "Este No l2_data/2021/09/10/Guaviare/GUA210910165623.RAWS3NH\n",
      "l2_data/2021/09/10/Guaviare/GUA210910165816.RAWS3NJ\n",
      "Este No l2_data/2021/09/10/Guaviare/GUA210910165816.RAWS3NJ\n",
      "l2_data/2021/09/10/Guaviare/GUA210910170004.RAWS3NM\n",
      "299.0 [0.49987793]\n",
      "l2_data/2021/09/10/Guaviare/GUA210910170123.RAWS3NR\n"
     ]
    },
    {
     "name": "stderr",
     "output_type": "stream",
     "text": [
      "/data/keeling/a/alfonso8/miniconda3/envs/rise/lib/python3.9/site-packages/pyart/io/sigmet.py:131: RuntimeWarning: invalid value encountered in sqrt\n",
      "  sigmet_data, sigmet_metadata = sigmetfile.read_data(full_xhdr=full_xhdr)\n"
     ]
    },
    {
     "name": "stdout",
     "output_type": "stream",
     "text": [
      "Este No l2_data/2021/09/10/Guaviare/GUA210910170123.RAWS3NR\n",
      "l2_data/2021/09/10/Guaviare/GUA210910170315.RAWS3NS\n",
      "Este No l2_data/2021/09/10/Guaviare/GUA210910170315.RAWS3NS\n",
      "l2_data/2021/09/10/Guaviare/GUA210910170504.RAWS3NW\n",
      "299.0 [0.49987793]\n",
      "l2_data/2021/09/10/Guaviare/GUA210910170624.RAWS3NY\n"
     ]
    },
    {
     "name": "stderr",
     "output_type": "stream",
     "text": [
      "/data/keeling/a/alfonso8/miniconda3/envs/rise/lib/python3.9/site-packages/pyart/io/sigmet.py:131: RuntimeWarning: invalid value encountered in sqrt\n",
      "  sigmet_data, sigmet_metadata = sigmetfile.read_data(full_xhdr=full_xhdr)\n"
     ]
    },
    {
     "name": "stdout",
     "output_type": "stream",
     "text": [
      "Este No l2_data/2021/09/10/Guaviare/GUA210910170624.RAWS3NY\n",
      "l2_data/2021/09/10/Guaviare/GUA210910170816.RAWS3NZ\n",
      "Este No l2_data/2021/09/10/Guaviare/GUA210910170816.RAWS3NZ\n",
      "l2_data/2021/09/10/Guaviare/GUA210910171004.RAWS3P3\n",
      "299.0 [0.49987793]\n",
      "l2_data/2021/09/10/Guaviare/GUA210910171123.RAWS3P5\n"
     ]
    },
    {
     "name": "stderr",
     "output_type": "stream",
     "text": [
      "/data/keeling/a/alfonso8/miniconda3/envs/rise/lib/python3.9/site-packages/pyart/io/sigmet.py:131: RuntimeWarning: invalid value encountered in sqrt\n",
      "  sigmet_data, sigmet_metadata = sigmetfile.read_data(full_xhdr=full_xhdr)\n"
     ]
    },
    {
     "name": "stdout",
     "output_type": "stream",
     "text": [
      "Este No l2_data/2021/09/10/Guaviare/GUA210910171123.RAWS3P5\n",
      "l2_data/2021/09/10/Guaviare/GUA210910171315.RAWS3P6\n",
      "Este No l2_data/2021/09/10/Guaviare/GUA210910171315.RAWS3P6\n",
      "l2_data/2021/09/10/Guaviare/GUA210910171504.RAWS3P9\n",
      "299.0 [0.49987793]\n",
      "l2_data/2021/09/10/Guaviare/GUA210910171624.RAWS3PC\n"
     ]
    },
    {
     "name": "stderr",
     "output_type": "stream",
     "text": [
      "/data/keeling/a/alfonso8/miniconda3/envs/rise/lib/python3.9/site-packages/pyart/io/sigmet.py:131: RuntimeWarning: invalid value encountered in sqrt\n",
      "  sigmet_data, sigmet_metadata = sigmetfile.read_data(full_xhdr=full_xhdr)\n"
     ]
    },
    {
     "name": "stdout",
     "output_type": "stream",
     "text": [
      "Este No l2_data/2021/09/10/Guaviare/GUA210910171624.RAWS3PC\n",
      "l2_data/2021/09/10/Guaviare/GUA210910171816.RAWS3PD\n",
      "Este No l2_data/2021/09/10/Guaviare/GUA210910171816.RAWS3PD\n",
      "l2_data/2021/09/10/Guaviare/GUA210910172004.RAWS3PH\n",
      "299.0 [0.49987793]\n",
      "l2_data/2021/09/10/Guaviare/GUA210910172123.RAWS3PK\n"
     ]
    },
    {
     "name": "stderr",
     "output_type": "stream",
     "text": [
      "/data/keeling/a/alfonso8/miniconda3/envs/rise/lib/python3.9/site-packages/pyart/io/sigmet.py:131: RuntimeWarning: invalid value encountered in sqrt\n",
      "  sigmet_data, sigmet_metadata = sigmetfile.read_data(full_xhdr=full_xhdr)\n"
     ]
    },
    {
     "name": "stdout",
     "output_type": "stream",
     "text": [
      "Este No l2_data/2021/09/10/Guaviare/GUA210910172123.RAWS3PK\n",
      "l2_data/2021/09/10/Guaviare/GUA210910172314.RAWS3PL\n",
      "Este No l2_data/2021/09/10/Guaviare/GUA210910172314.RAWS3PL\n",
      "l2_data/2021/09/10/Guaviare/GUA210910172504.RAWS3PP\n",
      "299.0 [0.49987793]\n",
      "l2_data/2021/09/10/Guaviare/GUA210910172623.RAWS3PT\n"
     ]
    },
    {
     "name": "stderr",
     "output_type": "stream",
     "text": [
      "/data/keeling/a/alfonso8/miniconda3/envs/rise/lib/python3.9/site-packages/pyart/io/sigmet.py:131: RuntimeWarning: invalid value encountered in sqrt\n",
      "  sigmet_data, sigmet_metadata = sigmetfile.read_data(full_xhdr=full_xhdr)\n"
     ]
    },
    {
     "name": "stdout",
     "output_type": "stream",
     "text": [
      "Este No l2_data/2021/09/10/Guaviare/GUA210910172623.RAWS3PT\n",
      "l2_data/2021/09/10/Guaviare/GUA210910172815.RAWS3PU\n",
      "Este No l2_data/2021/09/10/Guaviare/GUA210910172815.RAWS3PU\n",
      "l2_data/2021/09/10/Guaviare/GUA210910173004.RAWS3PY\n",
      "299.0 [0.49987793]\n",
      "l2_data/2021/09/10/Guaviare/GUA210910173124.RAWS3R0\n"
     ]
    },
    {
     "name": "stderr",
     "output_type": "stream",
     "text": [
      "/data/keeling/a/alfonso8/miniconda3/envs/rise/lib/python3.9/site-packages/pyart/io/sigmet.py:131: RuntimeWarning: invalid value encountered in sqrt\n",
      "  sigmet_data, sigmet_metadata = sigmetfile.read_data(full_xhdr=full_xhdr)\n"
     ]
    },
    {
     "name": "stdout",
     "output_type": "stream",
     "text": [
      "Este No l2_data/2021/09/10/Guaviare/GUA210910173124.RAWS3R0\n",
      "l2_data/2021/09/10/Guaviare/GUA210910173316.RAWS3R1\n",
      "Este No l2_data/2021/09/10/Guaviare/GUA210910173316.RAWS3R1\n",
      "l2_data/2021/09/10/Guaviare/GUA210910173504.RAWS3R4\n",
      "299.0 [0.49987793]\n",
      "l2_data/2021/09/10/Guaviare/GUA210910173624.RAWS3R7\n"
     ]
    },
    {
     "name": "stderr",
     "output_type": "stream",
     "text": [
      "/data/keeling/a/alfonso8/miniconda3/envs/rise/lib/python3.9/site-packages/pyart/io/sigmet.py:131: RuntimeWarning: invalid value encountered in sqrt\n",
      "  sigmet_data, sigmet_metadata = sigmetfile.read_data(full_xhdr=full_xhdr)\n"
     ]
    },
    {
     "name": "stdout",
     "output_type": "stream",
     "text": [
      "Este No l2_data/2021/09/10/Guaviare/GUA210910173624.RAWS3R7\n",
      "l2_data/2021/09/10/Guaviare/GUA210910173816.RAWS3R8\n",
      "Este No l2_data/2021/09/10/Guaviare/GUA210910173816.RAWS3R8\n",
      "l2_data/2021/09/10/Guaviare/GUA210910174004.RAWS3RC\n",
      "299.0 [0.49987793]\n",
      "l2_data/2021/09/10/Guaviare/GUA210910174123.RAWS3RE\n"
     ]
    },
    {
     "name": "stderr",
     "output_type": "stream",
     "text": [
      "/data/keeling/a/alfonso8/miniconda3/envs/rise/lib/python3.9/site-packages/pyart/io/sigmet.py:131: RuntimeWarning: invalid value encountered in sqrt\n",
      "  sigmet_data, sigmet_metadata = sigmetfile.read_data(full_xhdr=full_xhdr)\n"
     ]
    },
    {
     "name": "stdout",
     "output_type": "stream",
     "text": [
      "Este No l2_data/2021/09/10/Guaviare/GUA210910174123.RAWS3RE\n",
      "l2_data/2021/09/10/Guaviare/GUA210910174315.RAWS3RF\n",
      "Este No l2_data/2021/09/10/Guaviare/GUA210910174315.RAWS3RF\n",
      "l2_data/2021/09/10/Guaviare/GUA210910174504.RAWS3RK\n",
      "299.0 [0.49987793]\n",
      "l2_data/2021/09/10/Guaviare/GUA210910174624.RAWS3RM\n"
     ]
    },
    {
     "name": "stderr",
     "output_type": "stream",
     "text": [
      "/data/keeling/a/alfonso8/miniconda3/envs/rise/lib/python3.9/site-packages/pyart/io/sigmet.py:131: RuntimeWarning: invalid value encountered in sqrt\n",
      "  sigmet_data, sigmet_metadata = sigmetfile.read_data(full_xhdr=full_xhdr)\n"
     ]
    },
    {
     "name": "stdout",
     "output_type": "stream",
     "text": [
      "Este No l2_data/2021/09/10/Guaviare/GUA210910174624.RAWS3RM\n",
      "l2_data/2021/09/10/Guaviare/GUA210910174816.RAWS3RN\n",
      "Este No l2_data/2021/09/10/Guaviare/GUA210910174816.RAWS3RN\n",
      "l2_data/2021/09/10/Guaviare/GUA210910175004.RAWS3RT\n",
      "299.0 [0.49987793]\n",
      "l2_data/2021/09/10/Guaviare/GUA210910175123.RAWS3RV\n"
     ]
    },
    {
     "name": "stderr",
     "output_type": "stream",
     "text": [
      "/data/keeling/a/alfonso8/miniconda3/envs/rise/lib/python3.9/site-packages/pyart/io/sigmet.py:131: RuntimeWarning: invalid value encountered in sqrt\n",
      "  sigmet_data, sigmet_metadata = sigmetfile.read_data(full_xhdr=full_xhdr)\n"
     ]
    },
    {
     "name": "stdout",
     "output_type": "stream",
     "text": [
      "Este No l2_data/2021/09/10/Guaviare/GUA210910175123.RAWS3RV\n",
      "l2_data/2021/09/10/Guaviare/GUA210910175315.RAWS3RW\n",
      "Este No l2_data/2021/09/10/Guaviare/GUA210910175315.RAWS3RW\n",
      "l2_data/2021/09/10/Guaviare/GUA210910175504.RAWS3RZ\n",
      "299.0 [0.49987793]\n",
      "l2_data/2021/09/10/Guaviare/GUA210910175624.RAWS3S2\n"
     ]
    },
    {
     "name": "stderr",
     "output_type": "stream",
     "text": [
      "/data/keeling/a/alfonso8/miniconda3/envs/rise/lib/python3.9/site-packages/pyart/io/sigmet.py:131: RuntimeWarning: invalid value encountered in sqrt\n",
      "  sigmet_data, sigmet_metadata = sigmetfile.read_data(full_xhdr=full_xhdr)\n"
     ]
    },
    {
     "name": "stdout",
     "output_type": "stream",
     "text": [
      "Este No l2_data/2021/09/10/Guaviare/GUA210910175624.RAWS3S2\n",
      "l2_data/2021/09/10/Guaviare/GUA210910175816.RAWS3S3\n",
      "Este No l2_data/2021/09/10/Guaviare/GUA210910175816.RAWS3S3\n",
      "l2_data/2021/09/10/Guaviare/GUA210910180004.RAWS3S6\n",
      "299.0 [0.49987793]\n",
      "l2_data/2021/09/10/Guaviare/GUA210910180124.RAWS3S9\n"
     ]
    },
    {
     "name": "stderr",
     "output_type": "stream",
     "text": [
      "/data/keeling/a/alfonso8/miniconda3/envs/rise/lib/python3.9/site-packages/pyart/io/sigmet.py:131: RuntimeWarning: invalid value encountered in sqrt\n",
      "  sigmet_data, sigmet_metadata = sigmetfile.read_data(full_xhdr=full_xhdr)\n"
     ]
    },
    {
     "name": "stdout",
     "output_type": "stream",
     "text": [
      "Este No l2_data/2021/09/10/Guaviare/GUA210910180124.RAWS3S9\n",
      "l2_data/2021/09/10/Guaviare/GUA210910180315.RAWS3SA\n",
      "Este No l2_data/2021/09/10/Guaviare/GUA210910180315.RAWS3SA\n",
      "l2_data/2021/09/10/Guaviare/GUA210910180504.RAWS3SE\n",
      "299.0 [0.49987793]\n",
      "l2_data/2021/09/10/Guaviare/GUA210910180624.RAWS3SG\n"
     ]
    },
    {
     "name": "stderr",
     "output_type": "stream",
     "text": [
      "/data/keeling/a/alfonso8/miniconda3/envs/rise/lib/python3.9/site-packages/pyart/io/sigmet.py:131: RuntimeWarning: invalid value encountered in sqrt\n",
      "  sigmet_data, sigmet_metadata = sigmetfile.read_data(full_xhdr=full_xhdr)\n"
     ]
    },
    {
     "name": "stdout",
     "output_type": "stream",
     "text": [
      "Este No l2_data/2021/09/10/Guaviare/GUA210910180624.RAWS3SG\n",
      "l2_data/2021/09/10/Guaviare/GUA210910180816.RAWS3SH\n",
      "Este No l2_data/2021/09/10/Guaviare/GUA210910180816.RAWS3SH\n",
      "l2_data/2021/09/10/Guaviare/GUA210910181004.RAWS3SL\n",
      "299.0 [0.49987793]\n",
      "l2_data/2021/09/10/Guaviare/GUA210910181124.RAWS3SP\n"
     ]
    },
    {
     "name": "stderr",
     "output_type": "stream",
     "text": [
      "/data/keeling/a/alfonso8/miniconda3/envs/rise/lib/python3.9/site-packages/pyart/io/sigmet.py:131: RuntimeWarning: invalid value encountered in sqrt\n",
      "  sigmet_data, sigmet_metadata = sigmetfile.read_data(full_xhdr=full_xhdr)\n"
     ]
    },
    {
     "name": "stdout",
     "output_type": "stream",
     "text": [
      "Este No l2_data/2021/09/10/Guaviare/GUA210910181124.RAWS3SP\n",
      "l2_data/2021/09/10/Guaviare/GUA210910181316.RAWS3SR\n",
      "Este No l2_data/2021/09/10/Guaviare/GUA210910181316.RAWS3SR\n",
      "l2_data/2021/09/10/Guaviare/GUA210910181504.RAWS3SV\n",
      "299.0 [0.49987793]\n",
      "l2_data/2021/09/10/Guaviare/GUA210910181623.RAWS3SX\n"
     ]
    },
    {
     "name": "stderr",
     "output_type": "stream",
     "text": [
      "/data/keeling/a/alfonso8/miniconda3/envs/rise/lib/python3.9/site-packages/pyart/io/sigmet.py:131: RuntimeWarning: invalid value encountered in sqrt\n",
      "  sigmet_data, sigmet_metadata = sigmetfile.read_data(full_xhdr=full_xhdr)\n"
     ]
    },
    {
     "name": "stdout",
     "output_type": "stream",
     "text": [
      "Este No l2_data/2021/09/10/Guaviare/GUA210910181623.RAWS3SX\n",
      "l2_data/2021/09/10/Guaviare/GUA210910181815.RAWS3SY\n",
      "Este No l2_data/2021/09/10/Guaviare/GUA210910181815.RAWS3SY\n",
      "l2_data/2021/09/10/Guaviare/GUA210910182004.RAWS3T1\n",
      "299.0 [0.49987793]\n",
      "l2_data/2021/09/10/Guaviare/GUA210910182123.RAWS3T4\n"
     ]
    },
    {
     "name": "stderr",
     "output_type": "stream",
     "text": [
      "/data/keeling/a/alfonso8/miniconda3/envs/rise/lib/python3.9/site-packages/pyart/io/sigmet.py:131: RuntimeWarning: invalid value encountered in sqrt\n",
      "  sigmet_data, sigmet_metadata = sigmetfile.read_data(full_xhdr=full_xhdr)\n"
     ]
    },
    {
     "name": "stdout",
     "output_type": "stream",
     "text": [
      "Este No l2_data/2021/09/10/Guaviare/GUA210910182123.RAWS3T4\n",
      "l2_data/2021/09/10/Guaviare/GUA210910182315.RAWS3T5\n",
      "Este No l2_data/2021/09/10/Guaviare/GUA210910182315.RAWS3T5\n",
      "l2_data/2021/09/10/Guaviare/GUA210910182504.RAWS3T8\n",
      "299.0 [0.49987793]\n",
      "l2_data/2021/09/10/Guaviare/GUA210910182623.RAWS3TB\n"
     ]
    },
    {
     "name": "stderr",
     "output_type": "stream",
     "text": [
      "/data/keeling/a/alfonso8/miniconda3/envs/rise/lib/python3.9/site-packages/pyart/io/sigmet.py:131: RuntimeWarning: invalid value encountered in sqrt\n",
      "  sigmet_data, sigmet_metadata = sigmetfile.read_data(full_xhdr=full_xhdr)\n"
     ]
    },
    {
     "name": "stdout",
     "output_type": "stream",
     "text": [
      "Este No l2_data/2021/09/10/Guaviare/GUA210910182623.RAWS3TB\n",
      "l2_data/2021/09/10/Guaviare/GUA210910182815.RAWS3TC\n",
      "Este No l2_data/2021/09/10/Guaviare/GUA210910182815.RAWS3TC\n",
      "l2_data/2021/09/10/Guaviare/GUA210910183004.RAWS3TF\n",
      "299.0 [0.49987793]\n",
      "l2_data/2021/09/10/Guaviare/GUA210910183123.RAWS3TJ\n"
     ]
    },
    {
     "name": "stderr",
     "output_type": "stream",
     "text": [
      "/data/keeling/a/alfonso8/miniconda3/envs/rise/lib/python3.9/site-packages/pyart/io/sigmet.py:131: RuntimeWarning: invalid value encountered in sqrt\n",
      "  sigmet_data, sigmet_metadata = sigmetfile.read_data(full_xhdr=full_xhdr)\n"
     ]
    },
    {
     "name": "stdout",
     "output_type": "stream",
     "text": [
      "Este No l2_data/2021/09/10/Guaviare/GUA210910183123.RAWS3TJ\n",
      "l2_data/2021/09/10/Guaviare/GUA210910183315.RAWS3TK\n",
      "Este No l2_data/2021/09/10/Guaviare/GUA210910183315.RAWS3TK\n",
      "l2_data/2021/09/10/Guaviare/GUA210910183504.RAWS3TN\n",
      "299.0 [0.49987793]\n",
      "l2_data/2021/09/10/Guaviare/GUA210910183623.RAWS3TS\n"
     ]
    },
    {
     "name": "stderr",
     "output_type": "stream",
     "text": [
      "/data/keeling/a/alfonso8/miniconda3/envs/rise/lib/python3.9/site-packages/pyart/io/sigmet.py:131: RuntimeWarning: invalid value encountered in sqrt\n",
      "  sigmet_data, sigmet_metadata = sigmetfile.read_data(full_xhdr=full_xhdr)\n"
     ]
    },
    {
     "name": "stdout",
     "output_type": "stream",
     "text": [
      "Este No l2_data/2021/09/10/Guaviare/GUA210910183623.RAWS3TS\n",
      "l2_data/2021/09/10/Guaviare/GUA210910183815.RAWS3TT\n",
      "Este No l2_data/2021/09/10/Guaviare/GUA210910183815.RAWS3TT\n",
      "l2_data/2021/09/10/Guaviare/GUA210910184004.RAWS3TX\n",
      "299.0 [0.49987793]\n",
      "l2_data/2021/09/10/Guaviare/GUA210910184124.RAWS3TZ\n"
     ]
    },
    {
     "name": "stderr",
     "output_type": "stream",
     "text": [
      "/data/keeling/a/alfonso8/miniconda3/envs/rise/lib/python3.9/site-packages/pyart/io/sigmet.py:131: RuntimeWarning: invalid value encountered in sqrt\n",
      "  sigmet_data, sigmet_metadata = sigmetfile.read_data(full_xhdr=full_xhdr)\n"
     ]
    },
    {
     "name": "stdout",
     "output_type": "stream",
     "text": [
      "Este No l2_data/2021/09/10/Guaviare/GUA210910184124.RAWS3TZ\n",
      "l2_data/2021/09/10/Guaviare/GUA210910184316.RAWS3U0\n",
      "Este No l2_data/2021/09/10/Guaviare/GUA210910184316.RAWS3U0\n",
      "l2_data/2021/09/10/Guaviare/GUA210910184504.RAWS3U3\n",
      "299.0 [0.49987793]\n",
      "l2_data/2021/09/10/Guaviare/GUA210910184624.RAWS3U6\n"
     ]
    },
    {
     "name": "stderr",
     "output_type": "stream",
     "text": [
      "/data/keeling/a/alfonso8/miniconda3/envs/rise/lib/python3.9/site-packages/pyart/io/sigmet.py:131: RuntimeWarning: invalid value encountered in sqrt\n",
      "  sigmet_data, sigmet_metadata = sigmetfile.read_data(full_xhdr=full_xhdr)\n"
     ]
    },
    {
     "name": "stdout",
     "output_type": "stream",
     "text": [
      "Este No l2_data/2021/09/10/Guaviare/GUA210910184624.RAWS3U6\n",
      "l2_data/2021/09/10/Guaviare/GUA210910184816.RAWS3U7\n",
      "Este No l2_data/2021/09/10/Guaviare/GUA210910184816.RAWS3U7\n",
      "l2_data/2021/09/10/Guaviare/GUA210910185004.RAWS3UA\n",
      "299.0 [0.49987793]\n",
      "l2_data/2021/09/10/Guaviare/GUA210910185124.RAWS3UD\n"
     ]
    },
    {
     "name": "stderr",
     "output_type": "stream",
     "text": [
      "/data/keeling/a/alfonso8/miniconda3/envs/rise/lib/python3.9/site-packages/pyart/io/sigmet.py:131: RuntimeWarning: invalid value encountered in sqrt\n",
      "  sigmet_data, sigmet_metadata = sigmetfile.read_data(full_xhdr=full_xhdr)\n"
     ]
    },
    {
     "name": "stdout",
     "output_type": "stream",
     "text": [
      "Este No l2_data/2021/09/10/Guaviare/GUA210910185124.RAWS3UD\n",
      "l2_data/2021/09/10/Guaviare/GUA210910185316.RAWS3UE\n",
      "Este No l2_data/2021/09/10/Guaviare/GUA210910185316.RAWS3UE\n",
      "l2_data/2021/09/10/Guaviare/GUA210910185504.RAWS3UJ\n",
      "299.0 [0.49987793]\n",
      "l2_data/2021/09/10/Guaviare/GUA210910185624.RAWS3UL\n"
     ]
    },
    {
     "name": "stderr",
     "output_type": "stream",
     "text": [
      "/data/keeling/a/alfonso8/miniconda3/envs/rise/lib/python3.9/site-packages/pyart/io/sigmet.py:131: RuntimeWarning: invalid value encountered in sqrt\n",
      "  sigmet_data, sigmet_metadata = sigmetfile.read_data(full_xhdr=full_xhdr)\n"
     ]
    },
    {
     "name": "stdout",
     "output_type": "stream",
     "text": [
      "Este No l2_data/2021/09/10/Guaviare/GUA210910185624.RAWS3UL\n",
      "l2_data/2021/09/10/Guaviare/GUA210910185816.RAWS3UM\n",
      "Este No l2_data/2021/09/10/Guaviare/GUA210910185816.RAWS3UM\n",
      "l2_data/2021/09/10/Guaviare/GUA210910190004.RAWS3US\n",
      "299.0 [0.49987793]\n",
      "l2_data/2021/09/10/Guaviare/GUA210910190124.RAWS3UU\n"
     ]
    },
    {
     "name": "stderr",
     "output_type": "stream",
     "text": [
      "/data/keeling/a/alfonso8/miniconda3/envs/rise/lib/python3.9/site-packages/pyart/io/sigmet.py:131: RuntimeWarning: invalid value encountered in sqrt\n",
      "  sigmet_data, sigmet_metadata = sigmetfile.read_data(full_xhdr=full_xhdr)\n"
     ]
    },
    {
     "name": "stdout",
     "output_type": "stream",
     "text": [
      "Este No l2_data/2021/09/10/Guaviare/GUA210910190124.RAWS3UU\n",
      "l2_data/2021/09/10/Guaviare/GUA210910190315.RAWS3UV\n",
      "Este No l2_data/2021/09/10/Guaviare/GUA210910190315.RAWS3UV\n",
      "l2_data/2021/09/10/Guaviare/GUA210910190504.RAWS3UZ\n",
      "299.0 [0.49987793]\n",
      "l2_data/2021/09/10/Guaviare/GUA210910190624.RAWS3V1\n"
     ]
    },
    {
     "name": "stderr",
     "output_type": "stream",
     "text": [
      "/data/keeling/a/alfonso8/miniconda3/envs/rise/lib/python3.9/site-packages/pyart/io/sigmet.py:131: RuntimeWarning: invalid value encountered in sqrt\n",
      "  sigmet_data, sigmet_metadata = sigmetfile.read_data(full_xhdr=full_xhdr)\n"
     ]
    },
    {
     "name": "stdout",
     "output_type": "stream",
     "text": [
      "Este No l2_data/2021/09/10/Guaviare/GUA210910190624.RAWS3V1\n",
      "l2_data/2021/09/10/Guaviare/GUA210910190816.RAWS3V2\n",
      "Este No l2_data/2021/09/10/Guaviare/GUA210910190816.RAWS3V2\n",
      "l2_data/2021/09/10/Guaviare/GUA210910191004.RAWS3V5\n",
      "299.0 [0.49987793]\n",
      "l2_data/2021/09/10/Guaviare/GUA210910191123.RAWS3V8\n"
     ]
    },
    {
     "name": "stderr",
     "output_type": "stream",
     "text": [
      "/data/keeling/a/alfonso8/miniconda3/envs/rise/lib/python3.9/site-packages/pyart/io/sigmet.py:131: RuntimeWarning: invalid value encountered in sqrt\n",
      "  sigmet_data, sigmet_metadata = sigmetfile.read_data(full_xhdr=full_xhdr)\n"
     ]
    },
    {
     "name": "stdout",
     "output_type": "stream",
     "text": [
      "Este No l2_data/2021/09/10/Guaviare/GUA210910191123.RAWS3V8\n",
      "l2_data/2021/09/10/Guaviare/GUA210910191316.RAWS3V9\n",
      "Este No l2_data/2021/09/10/Guaviare/GUA210910191316.RAWS3V9\n",
      "l2_data/2021/09/10/Guaviare/GUA210910191504.RAWS3VC\n",
      "299.0 [0.49987793]\n",
      "l2_data/2021/09/10/Guaviare/GUA210910191623.RAWS3VF\n"
     ]
    },
    {
     "name": "stderr",
     "output_type": "stream",
     "text": [
      "/data/keeling/a/alfonso8/miniconda3/envs/rise/lib/python3.9/site-packages/pyart/io/sigmet.py:131: RuntimeWarning: invalid value encountered in sqrt\n",
      "  sigmet_data, sigmet_metadata = sigmetfile.read_data(full_xhdr=full_xhdr)\n"
     ]
    },
    {
     "name": "stdout",
     "output_type": "stream",
     "text": [
      "Este No l2_data/2021/09/10/Guaviare/GUA210910191623.RAWS3VF\n",
      "l2_data/2021/09/10/Guaviare/GUA210910191815.RAWS3VG\n",
      "Este No l2_data/2021/09/10/Guaviare/GUA210910191815.RAWS3VG\n",
      "l2_data/2021/09/10/Guaviare/GUA210910192004.RAWS3VL\n",
      "299.0 [0.49987793]\n",
      "l2_data/2021/09/10/Guaviare/GUA210910192124.RAWS3VN\n"
     ]
    },
    {
     "name": "stderr",
     "output_type": "stream",
     "text": [
      "/data/keeling/a/alfonso8/miniconda3/envs/rise/lib/python3.9/site-packages/pyart/io/sigmet.py:131: RuntimeWarning: invalid value encountered in sqrt\n",
      "  sigmet_data, sigmet_metadata = sigmetfile.read_data(full_xhdr=full_xhdr)\n"
     ]
    },
    {
     "name": "stdout",
     "output_type": "stream",
     "text": [
      "Este No l2_data/2021/09/10/Guaviare/GUA210910192124.RAWS3VN\n",
      "l2_data/2021/09/10/Guaviare/GUA210910192316.RAWS3VP\n",
      "Este No l2_data/2021/09/10/Guaviare/GUA210910192316.RAWS3VP\n",
      "l2_data/2021/09/10/Guaviare/GUA210910192504.RAWS3VT\n",
      "299.0 [0.49987793]\n",
      "l2_data/2021/09/10/Guaviare/GUA210910192623.RAWS3VW\n"
     ]
    },
    {
     "name": "stderr",
     "output_type": "stream",
     "text": [
      "/data/keeling/a/alfonso8/miniconda3/envs/rise/lib/python3.9/site-packages/pyart/io/sigmet.py:131: RuntimeWarning: invalid value encountered in sqrt\n",
      "  sigmet_data, sigmet_metadata = sigmetfile.read_data(full_xhdr=full_xhdr)\n"
     ]
    },
    {
     "name": "stdout",
     "output_type": "stream",
     "text": [
      "Este No l2_data/2021/09/10/Guaviare/GUA210910192623.RAWS3VW\n",
      "l2_data/2021/09/10/Guaviare/GUA210910192816.RAWS3VX\n",
      "Este No l2_data/2021/09/10/Guaviare/GUA210910192816.RAWS3VX\n",
      "l2_data/2021/09/10/Guaviare/GUA210910193004.RAWS3W0\n",
      "299.0 [0.49987793]\n",
      "l2_data/2021/09/10/Guaviare/GUA210910193123.RAWS3W3\n"
     ]
    },
    {
     "name": "stderr",
     "output_type": "stream",
     "text": [
      "/data/keeling/a/alfonso8/miniconda3/envs/rise/lib/python3.9/site-packages/pyart/io/sigmet.py:131: RuntimeWarning: invalid value encountered in sqrt\n",
      "  sigmet_data, sigmet_metadata = sigmetfile.read_data(full_xhdr=full_xhdr)\n"
     ]
    },
    {
     "name": "stdout",
     "output_type": "stream",
     "text": [
      "Este No l2_data/2021/09/10/Guaviare/GUA210910193123.RAWS3W3\n",
      "l2_data/2021/09/10/Guaviare/GUA210910193315.RAWS3W4\n",
      "Este No l2_data/2021/09/10/Guaviare/GUA210910193315.RAWS3W4\n",
      "l2_data/2021/09/10/Guaviare/GUA210910193504.RAWS3W8\n",
      "299.0 [0.49987793]\n",
      "l2_data/2021/09/10/Guaviare/GUA210910193623.RAWS3WA\n"
     ]
    },
    {
     "name": "stderr",
     "output_type": "stream",
     "text": [
      "/data/keeling/a/alfonso8/miniconda3/envs/rise/lib/python3.9/site-packages/pyart/io/sigmet.py:131: RuntimeWarning: invalid value encountered in sqrt\n",
      "  sigmet_data, sigmet_metadata = sigmetfile.read_data(full_xhdr=full_xhdr)\n"
     ]
    },
    {
     "name": "stdout",
     "output_type": "stream",
     "text": [
      "Este No l2_data/2021/09/10/Guaviare/GUA210910193623.RAWS3WA\n",
      "l2_data/2021/09/10/Guaviare/GUA210910193816.RAWS3WB\n",
      "Este No l2_data/2021/09/10/Guaviare/GUA210910193816.RAWS3WB\n",
      "l2_data/2021/09/10/Guaviare/GUA210910194003.RAWS3WF\n",
      "299.0 [0.49987793]\n",
      "l2_data/2021/09/10/Guaviare/GUA210910194123.RAWS3WH\n"
     ]
    },
    {
     "name": "stderr",
     "output_type": "stream",
     "text": [
      "/data/keeling/a/alfonso8/miniconda3/envs/rise/lib/python3.9/site-packages/pyart/io/sigmet.py:131: RuntimeWarning: invalid value encountered in sqrt\n",
      "  sigmet_data, sigmet_metadata = sigmetfile.read_data(full_xhdr=full_xhdr)\n"
     ]
    },
    {
     "name": "stdout",
     "output_type": "stream",
     "text": [
      "Este No l2_data/2021/09/10/Guaviare/GUA210910194123.RAWS3WH\n",
      "l2_data/2021/09/10/Guaviare/GUA210910194315.RAWS3WJ\n",
      "Este No l2_data/2021/09/10/Guaviare/GUA210910194315.RAWS3WJ\n",
      "l2_data/2021/09/10/Guaviare/GUA210910194504.RAWS3WN\n",
      "299.0 [0.49987793]\n",
      "l2_data/2021/09/10/Guaviare/GUA210910194624.RAWS3WR\n"
     ]
    },
    {
     "name": "stderr",
     "output_type": "stream",
     "text": [
      "/data/keeling/a/alfonso8/miniconda3/envs/rise/lib/python3.9/site-packages/pyart/io/sigmet.py:131: RuntimeWarning: invalid value encountered in sqrt\n",
      "  sigmet_data, sigmet_metadata = sigmetfile.read_data(full_xhdr=full_xhdr)\n"
     ]
    },
    {
     "name": "stdout",
     "output_type": "stream",
     "text": [
      "Este No l2_data/2021/09/10/Guaviare/GUA210910194624.RAWS3WR\n",
      "l2_data/2021/09/10/Guaviare/GUA210910194816.RAWS3WS\n",
      "Este No l2_data/2021/09/10/Guaviare/GUA210910194816.RAWS3WS\n",
      "l2_data/2021/09/10/Guaviare/GUA210910195004.RAWS3WW\n",
      "299.0 [0.49987793]\n",
      "l2_data/2021/09/10/Guaviare/GUA210910195124.RAWS3WY\n"
     ]
    },
    {
     "name": "stderr",
     "output_type": "stream",
     "text": [
      "/data/keeling/a/alfonso8/miniconda3/envs/rise/lib/python3.9/site-packages/pyart/io/sigmet.py:131: RuntimeWarning: invalid value encountered in sqrt\n",
      "  sigmet_data, sigmet_metadata = sigmetfile.read_data(full_xhdr=full_xhdr)\n"
     ]
    },
    {
     "name": "stdout",
     "output_type": "stream",
     "text": [
      "Este No l2_data/2021/09/10/Guaviare/GUA210910195124.RAWS3WY\n",
      "l2_data/2021/09/10/Guaviare/GUA210910195316.RAWS3WZ\n",
      "Este No l2_data/2021/09/10/Guaviare/GUA210910195316.RAWS3WZ\n",
      "l2_data/2021/09/10/Guaviare/GUA210910195504.RAWS3X2\n",
      "299.0 [0.49987793]\n",
      "l2_data/2021/09/10/Guaviare/GUA210910195624.RAWS3X5\n"
     ]
    },
    {
     "name": "stderr",
     "output_type": "stream",
     "text": [
      "/data/keeling/a/alfonso8/miniconda3/envs/rise/lib/python3.9/site-packages/pyart/io/sigmet.py:131: RuntimeWarning: invalid value encountered in sqrt\n",
      "  sigmet_data, sigmet_metadata = sigmetfile.read_data(full_xhdr=full_xhdr)\n"
     ]
    },
    {
     "name": "stdout",
     "output_type": "stream",
     "text": [
      "Este No l2_data/2021/09/10/Guaviare/GUA210910195624.RAWS3X5\n",
      "l2_data/2021/09/10/Guaviare/GUA210910195816.RAWS3X6\n",
      "Este No l2_data/2021/09/10/Guaviare/GUA210910195816.RAWS3X6\n",
      "l2_data/2021/09/10/Guaviare/GUA210910200005.RAWS3XA\n",
      "299.0 [0.49987793]\n",
      "l2_data/2021/09/10/Guaviare/GUA210910200124.RAWS3XC\n"
     ]
    },
    {
     "name": "stderr",
     "output_type": "stream",
     "text": [
      "/data/keeling/a/alfonso8/miniconda3/envs/rise/lib/python3.9/site-packages/pyart/io/sigmet.py:131: RuntimeWarning: invalid value encountered in sqrt\n",
      "  sigmet_data, sigmet_metadata = sigmetfile.read_data(full_xhdr=full_xhdr)\n"
     ]
    },
    {
     "name": "stdout",
     "output_type": "stream",
     "text": [
      "Este No l2_data/2021/09/10/Guaviare/GUA210910200124.RAWS3XC\n",
      "l2_data/2021/09/10/Guaviare/GUA210910200316.RAWS3XD\n",
      "Este No l2_data/2021/09/10/Guaviare/GUA210910200316.RAWS3XD\n",
      "l2_data/2021/09/10/Guaviare/GUA210910200503.RAWS3XH\n",
      "299.0 [0.49987793]\n",
      "l2_data/2021/09/10/Guaviare/GUA210910200623.RAWS3XK\n"
     ]
    },
    {
     "name": "stderr",
     "output_type": "stream",
     "text": [
      "/data/keeling/a/alfonso8/miniconda3/envs/rise/lib/python3.9/site-packages/pyart/io/sigmet.py:131: RuntimeWarning: invalid value encountered in sqrt\n",
      "  sigmet_data, sigmet_metadata = sigmetfile.read_data(full_xhdr=full_xhdr)\n"
     ]
    },
    {
     "name": "stdout",
     "output_type": "stream",
     "text": [
      "Este No l2_data/2021/09/10/Guaviare/GUA210910200623.RAWS3XK\n",
      "l2_data/2021/09/10/Guaviare/GUA210910200815.RAWS3XN\n",
      "Este No l2_data/2021/09/10/Guaviare/GUA210910200815.RAWS3XN\n",
      "l2_data/2021/09/10/Guaviare/GUA210910201004.RAWS3XR\n",
      "299.0 [0.49987793]\n",
      "l2_data/2021/09/10/Guaviare/GUA210910201123.RAWS3XT\n"
     ]
    },
    {
     "name": "stderr",
     "output_type": "stream",
     "text": [
      "/data/keeling/a/alfonso8/miniconda3/envs/rise/lib/python3.9/site-packages/pyart/io/sigmet.py:131: RuntimeWarning: invalid value encountered in sqrt\n",
      "  sigmet_data, sigmet_metadata = sigmetfile.read_data(full_xhdr=full_xhdr)\n"
     ]
    },
    {
     "name": "stdout",
     "output_type": "stream",
     "text": [
      "Este No l2_data/2021/09/10/Guaviare/GUA210910201123.RAWS3XT\n",
      "l2_data/2021/09/10/Guaviare/GUA210910201316.RAWS3XU\n",
      "Este No l2_data/2021/09/10/Guaviare/GUA210910201316.RAWS3XU\n",
      "l2_data/2021/09/10/Guaviare/GUA210910201504.RAWS3XY\n",
      "299.0 [0.49987793]\n",
      "l2_data/2021/09/10/Guaviare/GUA210910201624.RAWS3Y0\n"
     ]
    },
    {
     "name": "stderr",
     "output_type": "stream",
     "text": [
      "/data/keeling/a/alfonso8/miniconda3/envs/rise/lib/python3.9/site-packages/pyart/io/sigmet.py:131: RuntimeWarning: invalid value encountered in sqrt\n",
      "  sigmet_data, sigmet_metadata = sigmetfile.read_data(full_xhdr=full_xhdr)\n"
     ]
    },
    {
     "name": "stdout",
     "output_type": "stream",
     "text": [
      "Este No l2_data/2021/09/10/Guaviare/GUA210910201624.RAWS3Y0\n",
      "l2_data/2021/09/10/Guaviare/GUA210910201816.RAWS3Y1\n",
      "Este No l2_data/2021/09/10/Guaviare/GUA210910201816.RAWS3Y1\n",
      "l2_data/2021/09/10/Guaviare/GUA210910202004.RAWS3Y5\n",
      "299.0 [0.49987793]\n",
      "l2_data/2021/09/10/Guaviare/GUA210910202123.RAWS3Y7\n"
     ]
    },
    {
     "name": "stderr",
     "output_type": "stream",
     "text": [
      "/data/keeling/a/alfonso8/miniconda3/envs/rise/lib/python3.9/site-packages/pyart/io/sigmet.py:131: RuntimeWarning: invalid value encountered in sqrt\n",
      "  sigmet_data, sigmet_metadata = sigmetfile.read_data(full_xhdr=full_xhdr)\n"
     ]
    },
    {
     "name": "stdout",
     "output_type": "stream",
     "text": [
      "Este No l2_data/2021/09/10/Guaviare/GUA210910202123.RAWS3Y7\n",
      "l2_data/2021/09/10/Guaviare/GUA210910202315.RAWS3Y8\n",
      "Este No l2_data/2021/09/10/Guaviare/GUA210910202315.RAWS3Y8\n",
      "l2_data/2021/09/10/Guaviare/GUA210910202504.RAWS3YB\n",
      "299.0 [0.49987793]\n",
      "l2_data/2021/09/10/Guaviare/GUA210910202624.RAWS3YE\n"
     ]
    },
    {
     "name": "stderr",
     "output_type": "stream",
     "text": [
      "/data/keeling/a/alfonso8/miniconda3/envs/rise/lib/python3.9/site-packages/pyart/io/sigmet.py:131: RuntimeWarning: invalid value encountered in sqrt\n",
      "  sigmet_data, sigmet_metadata = sigmetfile.read_data(full_xhdr=full_xhdr)\n"
     ]
    },
    {
     "name": "stdout",
     "output_type": "stream",
     "text": [
      "Este No l2_data/2021/09/10/Guaviare/GUA210910202624.RAWS3YE\n",
      "l2_data/2021/09/10/Guaviare/GUA210910202816.RAWS3YF\n",
      "Este No l2_data/2021/09/10/Guaviare/GUA210910202816.RAWS3YF\n",
      "l2_data/2021/09/10/Guaviare/GUA210910203004.RAWS3YJ\n",
      "299.0 [0.49987793]\n",
      "l2_data/2021/09/10/Guaviare/GUA210910203124.RAWS3YL\n"
     ]
    },
    {
     "name": "stderr",
     "output_type": "stream",
     "text": [
      "/data/keeling/a/alfonso8/miniconda3/envs/rise/lib/python3.9/site-packages/pyart/io/sigmet.py:131: RuntimeWarning: invalid value encountered in sqrt\n",
      "  sigmet_data, sigmet_metadata = sigmetfile.read_data(full_xhdr=full_xhdr)\n"
     ]
    },
    {
     "name": "stdout",
     "output_type": "stream",
     "text": [
      "Este No l2_data/2021/09/10/Guaviare/GUA210910203124.RAWS3YL\n",
      "l2_data/2021/09/10/Guaviare/GUA210910203316.RAWS3YN\n",
      "Este No l2_data/2021/09/10/Guaviare/GUA210910203316.RAWS3YN\n",
      "l2_data/2021/09/10/Guaviare/GUA210910203504.RAWS3YT\n",
      "299.0 [0.49987793]\n",
      "l2_data/2021/09/10/Guaviare/GUA210910203624.RAWS3YV\n"
     ]
    },
    {
     "name": "stderr",
     "output_type": "stream",
     "text": [
      "/data/keeling/a/alfonso8/miniconda3/envs/rise/lib/python3.9/site-packages/pyart/io/sigmet.py:131: RuntimeWarning: invalid value encountered in sqrt\n",
      "  sigmet_data, sigmet_metadata = sigmetfile.read_data(full_xhdr=full_xhdr)\n"
     ]
    },
    {
     "name": "stdout",
     "output_type": "stream",
     "text": [
      "Este No l2_data/2021/09/10/Guaviare/GUA210910203624.RAWS3YV\n",
      "l2_data/2021/09/10/Guaviare/GUA210910203815.RAWS3YW\n",
      "Este No l2_data/2021/09/10/Guaviare/GUA210910203815.RAWS3YW\n",
      "l2_data/2021/09/10/Guaviare/GUA210910204004.RAWS3YZ\n",
      "299.0 [0.49987793]\n",
      "l2_data/2021/09/10/Guaviare/GUA210910204124.RAWS3Z2\n"
     ]
    },
    {
     "name": "stderr",
     "output_type": "stream",
     "text": [
      "/data/keeling/a/alfonso8/miniconda3/envs/rise/lib/python3.9/site-packages/pyart/io/sigmet.py:131: RuntimeWarning: invalid value encountered in sqrt\n",
      "  sigmet_data, sigmet_metadata = sigmetfile.read_data(full_xhdr=full_xhdr)\n"
     ]
    },
    {
     "name": "stdout",
     "output_type": "stream",
     "text": [
      "Este No l2_data/2021/09/10/Guaviare/GUA210910204124.RAWS3Z2\n",
      "l2_data/2021/09/10/Guaviare/GUA210910204316.RAWS3Z3\n",
      "Este No l2_data/2021/09/10/Guaviare/GUA210910204316.RAWS3Z3\n",
      "l2_data/2021/09/10/Guaviare/GUA210910204503.RAWS3Z6\n",
      "299.0 [0.49987793]\n",
      "l2_data/2021/09/10/Guaviare/GUA210910204623.RAWS3Z8\n"
     ]
    },
    {
     "name": "stderr",
     "output_type": "stream",
     "text": [
      "/data/keeling/a/alfonso8/miniconda3/envs/rise/lib/python3.9/site-packages/pyart/io/sigmet.py:131: RuntimeWarning: invalid value encountered in sqrt\n",
      "  sigmet_data, sigmet_metadata = sigmetfile.read_data(full_xhdr=full_xhdr)\n"
     ]
    },
    {
     "name": "stdout",
     "output_type": "stream",
     "text": [
      "Este No l2_data/2021/09/10/Guaviare/GUA210910204623.RAWS3Z8\n",
      "l2_data/2021/09/10/Guaviare/GUA210910204815.RAWS3ZA\n",
      "Este No l2_data/2021/09/10/Guaviare/GUA210910204815.RAWS3ZA\n",
      "l2_data/2021/09/10/Guaviare/GUA210910205004.RAWS3ZE\n",
      "299.0 [0.49987793]\n",
      "l2_data/2021/09/10/Guaviare/GUA210910205124.RAWS3ZG\n"
     ]
    },
    {
     "name": "stderr",
     "output_type": "stream",
     "text": [
      "/data/keeling/a/alfonso8/miniconda3/envs/rise/lib/python3.9/site-packages/pyart/io/sigmet.py:131: RuntimeWarning: invalid value encountered in sqrt\n",
      "  sigmet_data, sigmet_metadata = sigmetfile.read_data(full_xhdr=full_xhdr)\n"
     ]
    },
    {
     "name": "stdout",
     "output_type": "stream",
     "text": [
      "Este No l2_data/2021/09/10/Guaviare/GUA210910205124.RAWS3ZG\n",
      "l2_data/2021/09/10/Guaviare/GUA210910205316.RAWS3ZH\n",
      "Este No l2_data/2021/09/10/Guaviare/GUA210910205316.RAWS3ZH\n",
      "l2_data/2021/09/10/Guaviare/GUA210910205504.RAWS3ZM\n",
      "299.0 [0.49987793]\n",
      "l2_data/2021/09/10/Guaviare/GUA210910205623.RAWS3ZP\n"
     ]
    },
    {
     "name": "stderr",
     "output_type": "stream",
     "text": [
      "/data/keeling/a/alfonso8/miniconda3/envs/rise/lib/python3.9/site-packages/pyart/io/sigmet.py:131: RuntimeWarning: invalid value encountered in sqrt\n",
      "  sigmet_data, sigmet_metadata = sigmetfile.read_data(full_xhdr=full_xhdr)\n"
     ]
    },
    {
     "name": "stdout",
     "output_type": "stream",
     "text": [
      "Este No l2_data/2021/09/10/Guaviare/GUA210910205623.RAWS3ZP\n",
      "l2_data/2021/09/10/Guaviare/GUA210910205815.RAWS3ZS\n",
      "Este No l2_data/2021/09/10/Guaviare/GUA210910205815.RAWS3ZS\n",
      "l2_data/2021/09/10/Guaviare/GUA210910210004.RAWS3ZV\n",
      "299.0 [0.49987793]\n",
      "l2_data/2021/09/10/Guaviare/GUA210910210123.RAWS3ZX\n"
     ]
    },
    {
     "name": "stderr",
     "output_type": "stream",
     "text": [
      "/data/keeling/a/alfonso8/miniconda3/envs/rise/lib/python3.9/site-packages/pyart/io/sigmet.py:131: RuntimeWarning: invalid value encountered in sqrt\n",
      "  sigmet_data, sigmet_metadata = sigmetfile.read_data(full_xhdr=full_xhdr)\n"
     ]
    },
    {
     "name": "stdout",
     "output_type": "stream",
     "text": [
      "Este No l2_data/2021/09/10/Guaviare/GUA210910210123.RAWS3ZX\n",
      "l2_data/2021/09/10/Guaviare/GUA210910210316.RAWS3ZY\n",
      "Este No l2_data/2021/09/10/Guaviare/GUA210910210316.RAWS3ZY\n",
      "l2_data/2021/09/10/Guaviare/GUA210910210504.RAWS402\n",
      "299.0 [0.49987793]\n",
      "l2_data/2021/09/10/Guaviare/GUA210910210623.RAWS404\n"
     ]
    },
    {
     "name": "stderr",
     "output_type": "stream",
     "text": [
      "/data/keeling/a/alfonso8/miniconda3/envs/rise/lib/python3.9/site-packages/pyart/io/sigmet.py:131: RuntimeWarning: invalid value encountered in sqrt\n",
      "  sigmet_data, sigmet_metadata = sigmetfile.read_data(full_xhdr=full_xhdr)\n"
     ]
    },
    {
     "name": "stdout",
     "output_type": "stream",
     "text": [
      "Este No l2_data/2021/09/10/Guaviare/GUA210910210623.RAWS404\n",
      "l2_data/2021/09/10/Guaviare/GUA210910210816.RAWS405\n",
      "Este No l2_data/2021/09/10/Guaviare/GUA210910210816.RAWS405\n",
      "l2_data/2021/09/10/Guaviare/GUA210910211004.RAWS409\n",
      "299.0 [0.49987793]\n",
      "l2_data/2021/09/10/Guaviare/GUA210910211124.RAWS40B\n"
     ]
    },
    {
     "name": "stderr",
     "output_type": "stream",
     "text": [
      "/data/keeling/a/alfonso8/miniconda3/envs/rise/lib/python3.9/site-packages/pyart/io/sigmet.py:131: RuntimeWarning: invalid value encountered in sqrt\n",
      "  sigmet_data, sigmet_metadata = sigmetfile.read_data(full_xhdr=full_xhdr)\n"
     ]
    },
    {
     "name": "stdout",
     "output_type": "stream",
     "text": [
      "Este No l2_data/2021/09/10/Guaviare/GUA210910211124.RAWS40B\n",
      "l2_data/2021/09/10/Guaviare/GUA210910211316.RAWS40C\n",
      "Este No l2_data/2021/09/10/Guaviare/GUA210910211316.RAWS40C\n",
      "l2_data/2021/09/10/Guaviare/GUA210910211504.RAWS40G\n",
      "299.0 [0.49987793]\n",
      "l2_data/2021/09/10/Guaviare/GUA210910211623.RAWS40J\n"
     ]
    },
    {
     "name": "stderr",
     "output_type": "stream",
     "text": [
      "/data/keeling/a/alfonso8/miniconda3/envs/rise/lib/python3.9/site-packages/pyart/io/sigmet.py:131: RuntimeWarning: invalid value encountered in sqrt\n",
      "  sigmet_data, sigmet_metadata = sigmetfile.read_data(full_xhdr=full_xhdr)\n"
     ]
    },
    {
     "name": "stdout",
     "output_type": "stream",
     "text": [
      "Este No l2_data/2021/09/10/Guaviare/GUA210910211623.RAWS40J\n",
      "l2_data/2021/09/10/Guaviare/GUA210910211816.RAWS40K\n",
      "Este No l2_data/2021/09/10/Guaviare/GUA210910211816.RAWS40K\n",
      "l2_data/2021/09/10/Guaviare/GUA210910212004.RAWS40P\n",
      "299.0 [0.49987793]\n",
      "l2_data/2021/09/10/Guaviare/GUA210910212123.RAWS40S\n"
     ]
    },
    {
     "name": "stderr",
     "output_type": "stream",
     "text": [
      "/data/keeling/a/alfonso8/miniconda3/envs/rise/lib/python3.9/site-packages/pyart/io/sigmet.py:131: RuntimeWarning: invalid value encountered in sqrt\n",
      "  sigmet_data, sigmet_metadata = sigmetfile.read_data(full_xhdr=full_xhdr)\n"
     ]
    },
    {
     "name": "stdout",
     "output_type": "stream",
     "text": [
      "Este No l2_data/2021/09/10/Guaviare/GUA210910212123.RAWS40S\n",
      "l2_data/2021/09/10/Guaviare/GUA210910212315.RAWS40T\n",
      "Este No l2_data/2021/09/10/Guaviare/GUA210910212315.RAWS40T\n",
      "l2_data/2021/09/10/Guaviare/GUA210910212504.RAWS40X\n",
      "299.0 [0.49987793]\n",
      "l2_data/2021/09/10/Guaviare/GUA210910212624.RAWS40Z\n"
     ]
    },
    {
     "name": "stderr",
     "output_type": "stream",
     "text": [
      "/data/keeling/a/alfonso8/miniconda3/envs/rise/lib/python3.9/site-packages/pyart/io/sigmet.py:131: RuntimeWarning: invalid value encountered in sqrt\n",
      "  sigmet_data, sigmet_metadata = sigmetfile.read_data(full_xhdr=full_xhdr)\n"
     ]
    },
    {
     "name": "stdout",
     "output_type": "stream",
     "text": [
      "Este No l2_data/2021/09/10/Guaviare/GUA210910212624.RAWS40Z\n",
      "l2_data/2021/09/10/Guaviare/GUA210910212816.RAWS410\n",
      "Este No l2_data/2021/09/10/Guaviare/GUA210910212816.RAWS410\n",
      "l2_data/2021/09/10/Guaviare/GUA210910213004.RAWS414\n",
      "299.0 [0.49987793]\n",
      "l2_data/2021/09/10/Guaviare/GUA210910213124.RAWS416\n"
     ]
    },
    {
     "name": "stderr",
     "output_type": "stream",
     "text": [
      "/data/keeling/a/alfonso8/miniconda3/envs/rise/lib/python3.9/site-packages/pyart/io/sigmet.py:131: RuntimeWarning: invalid value encountered in sqrt\n",
      "  sigmet_data, sigmet_metadata = sigmetfile.read_data(full_xhdr=full_xhdr)\n"
     ]
    },
    {
     "name": "stdout",
     "output_type": "stream",
     "text": [
      "Este No l2_data/2021/09/10/Guaviare/GUA210910213124.RAWS416\n",
      "l2_data/2021/09/10/Guaviare/GUA210910213316.RAWS419\n",
      "Este No l2_data/2021/09/10/Guaviare/GUA210910213316.RAWS419\n",
      "l2_data/2021/09/10/Guaviare/GUA210910213504.RAWS41A\n",
      "299.0 [0.49987793]\n",
      "l2_data/2021/09/10/Guaviare/GUA210910213624.RAWS41D\n"
     ]
    },
    {
     "name": "stderr",
     "output_type": "stream",
     "text": [
      "/data/keeling/a/alfonso8/miniconda3/envs/rise/lib/python3.9/site-packages/pyart/io/sigmet.py:131: RuntimeWarning: invalid value encountered in sqrt\n",
      "  sigmet_data, sigmet_metadata = sigmetfile.read_data(full_xhdr=full_xhdr)\n"
     ]
    },
    {
     "name": "stdout",
     "output_type": "stream",
     "text": [
      "Este No l2_data/2021/09/10/Guaviare/GUA210910213624.RAWS41D\n",
      "l2_data/2021/09/10/Guaviare/GUA210910213815.RAWS41E\n",
      "Este No l2_data/2021/09/10/Guaviare/GUA210910213815.RAWS41E\n",
      "l2_data/2021/09/10/Guaviare/GUA210910214004.RAWS41H\n",
      "299.0 [0.49987793]\n",
      "l2_data/2021/09/10/Guaviare/GUA210910214123.RAWS41L\n"
     ]
    },
    {
     "name": "stderr",
     "output_type": "stream",
     "text": [
      "/data/keeling/a/alfonso8/miniconda3/envs/rise/lib/python3.9/site-packages/pyart/io/sigmet.py:131: RuntimeWarning: invalid value encountered in sqrt\n",
      "  sigmet_data, sigmet_metadata = sigmetfile.read_data(full_xhdr=full_xhdr)\n"
     ]
    },
    {
     "name": "stdout",
     "output_type": "stream",
     "text": [
      "Este No l2_data/2021/09/10/Guaviare/GUA210910214123.RAWS41L\n",
      "l2_data/2021/09/10/Guaviare/GUA210910214316.RAWS41M\n",
      "Este No l2_data/2021/09/10/Guaviare/GUA210910214316.RAWS41M\n",
      "l2_data/2021/09/10/Guaviare/GUA210910214504.RAWS41S\n",
      "299.0 [0.49987793]\n",
      "l2_data/2021/09/10/Guaviare/GUA210910214624.RAWS41U\n"
     ]
    },
    {
     "name": "stderr",
     "output_type": "stream",
     "text": [
      "/data/keeling/a/alfonso8/miniconda3/envs/rise/lib/python3.9/site-packages/pyart/io/sigmet.py:131: RuntimeWarning: invalid value encountered in sqrt\n",
      "  sigmet_data, sigmet_metadata = sigmetfile.read_data(full_xhdr=full_xhdr)\n"
     ]
    },
    {
     "name": "stdout",
     "output_type": "stream",
     "text": [
      "Este No l2_data/2021/09/10/Guaviare/GUA210910214624.RAWS41U\n",
      "l2_data/2021/09/10/Guaviare/GUA210910214816.RAWS41V\n",
      "Este No l2_data/2021/09/10/Guaviare/GUA210910214816.RAWS41V\n",
      "l2_data/2021/09/10/Guaviare/GUA210910215004.RAWS41Z\n",
      "299.0 [0.49987793]\n",
      "l2_data/2021/09/10/Guaviare/GUA210910215123.RAWS421\n"
     ]
    },
    {
     "name": "stderr",
     "output_type": "stream",
     "text": [
      "/data/keeling/a/alfonso8/miniconda3/envs/rise/lib/python3.9/site-packages/pyart/io/sigmet.py:131: RuntimeWarning: invalid value encountered in sqrt\n",
      "  sigmet_data, sigmet_metadata = sigmetfile.read_data(full_xhdr=full_xhdr)\n"
     ]
    },
    {
     "name": "stdout",
     "output_type": "stream",
     "text": [
      "Este No l2_data/2021/09/10/Guaviare/GUA210910215123.RAWS421\n",
      "l2_data/2021/09/10/Guaviare/GUA210910215316.RAWS422\n",
      "Este No l2_data/2021/09/10/Guaviare/GUA210910215316.RAWS422\n",
      "l2_data/2021/09/10/Guaviare/GUA210910215504.RAWS425\n",
      "299.0 [0.49987793]\n",
      "l2_data/2021/09/10/Guaviare/GUA210910215623.RAWS428\n"
     ]
    },
    {
     "name": "stderr",
     "output_type": "stream",
     "text": [
      "/data/keeling/a/alfonso8/miniconda3/envs/rise/lib/python3.9/site-packages/pyart/io/sigmet.py:131: RuntimeWarning: invalid value encountered in sqrt\n",
      "  sigmet_data, sigmet_metadata = sigmetfile.read_data(full_xhdr=full_xhdr)\n"
     ]
    },
    {
     "name": "stdout",
     "output_type": "stream",
     "text": [
      "Este No l2_data/2021/09/10/Guaviare/GUA210910215623.RAWS428\n",
      "l2_data/2021/09/10/Guaviare/GUA210910215814.RAWS429\n",
      "Este No l2_data/2021/09/10/Guaviare/GUA210910215814.RAWS429\n",
      "l2_data/2021/09/10/Guaviare/GUA210910220004.RAWS42D\n",
      "299.0 [0.49987793]\n",
      "l2_data/2021/09/10/Guaviare/GUA210910220124.RAWS42F\n"
     ]
    },
    {
     "name": "stderr",
     "output_type": "stream",
     "text": [
      "/data/keeling/a/alfonso8/miniconda3/envs/rise/lib/python3.9/site-packages/pyart/io/sigmet.py:131: RuntimeWarning: invalid value encountered in sqrt\n",
      "  sigmet_data, sigmet_metadata = sigmetfile.read_data(full_xhdr=full_xhdr)\n"
     ]
    },
    {
     "name": "stdout",
     "output_type": "stream",
     "text": [
      "Este No l2_data/2021/09/10/Guaviare/GUA210910220124.RAWS42F\n",
      "l2_data/2021/09/10/Guaviare/GUA210910220316.RAWS42G\n",
      "Este No l2_data/2021/09/10/Guaviare/GUA210910220316.RAWS42G\n",
      "l2_data/2021/09/10/Guaviare/GUA210910220504.RAWS42L\n",
      "299.0 [0.49987793]\n",
      "l2_data/2021/09/10/Guaviare/GUA210910220623.RAWS42N\n"
     ]
    },
    {
     "name": "stderr",
     "output_type": "stream",
     "text": [
      "/data/keeling/a/alfonso8/miniconda3/envs/rise/lib/python3.9/site-packages/pyart/io/sigmet.py:131: RuntimeWarning: invalid value encountered in sqrt\n",
      "  sigmet_data, sigmet_metadata = sigmetfile.read_data(full_xhdr=full_xhdr)\n"
     ]
    },
    {
     "name": "stdout",
     "output_type": "stream",
     "text": [
      "Este No l2_data/2021/09/10/Guaviare/GUA210910220623.RAWS42N\n",
      "l2_data/2021/09/10/Guaviare/GUA210910220816.RAWS42P\n",
      "Este No l2_data/2021/09/10/Guaviare/GUA210910220816.RAWS42P\n",
      "l2_data/2021/09/10/Guaviare/GUA210910221004.RAWS42U\n",
      "299.0 [0.49987793]\n",
      "l2_data/2021/09/10/Guaviare/GUA210910221122.RAWS42W\n"
     ]
    },
    {
     "name": "stderr",
     "output_type": "stream",
     "text": [
      "/data/keeling/a/alfonso8/miniconda3/envs/rise/lib/python3.9/site-packages/pyart/io/sigmet.py:131: RuntimeWarning: invalid value encountered in sqrt\n",
      "  sigmet_data, sigmet_metadata = sigmetfile.read_data(full_xhdr=full_xhdr)\n"
     ]
    },
    {
     "name": "stdout",
     "output_type": "stream",
     "text": [
      "Este No l2_data/2021/09/10/Guaviare/GUA210910221122.RAWS42W\n",
      "l2_data/2021/09/10/Guaviare/GUA210910221315.RAWS42X\n",
      "Este No l2_data/2021/09/10/Guaviare/GUA210910221315.RAWS42X\n",
      "l2_data/2021/09/10/Guaviare/GUA210910221503.RAWS431\n",
      "299.0 [0.49987793]\n",
      "l2_data/2021/09/10/Guaviare/GUA210910221623.RAWS433\n"
     ]
    },
    {
     "name": "stderr",
     "output_type": "stream",
     "text": [
      "/data/keeling/a/alfonso8/miniconda3/envs/rise/lib/python3.9/site-packages/pyart/io/sigmet.py:131: RuntimeWarning: invalid value encountered in sqrt\n",
      "  sigmet_data, sigmet_metadata = sigmetfile.read_data(full_xhdr=full_xhdr)\n"
     ]
    },
    {
     "name": "stdout",
     "output_type": "stream",
     "text": [
      "Este No l2_data/2021/09/10/Guaviare/GUA210910221623.RAWS433\n",
      "l2_data/2021/09/10/Guaviare/GUA210910221815.RAWS434\n",
      "Este No l2_data/2021/09/10/Guaviare/GUA210910221815.RAWS434\n",
      "l2_data/2021/09/10/Guaviare/GUA210910222004.RAWS438\n",
      "299.0 [0.49987793]\n",
      "l2_data/2021/09/10/Guaviare/GUA210910222123.RAWS43A\n"
     ]
    },
    {
     "name": "stderr",
     "output_type": "stream",
     "text": [
      "/data/keeling/a/alfonso8/miniconda3/envs/rise/lib/python3.9/site-packages/pyart/io/sigmet.py:131: RuntimeWarning: invalid value encountered in sqrt\n",
      "  sigmet_data, sigmet_metadata = sigmetfile.read_data(full_xhdr=full_xhdr)\n"
     ]
    },
    {
     "name": "stdout",
     "output_type": "stream",
     "text": [
      "Este No l2_data/2021/09/10/Guaviare/GUA210910222123.RAWS43A\n",
      "l2_data/2021/09/10/Guaviare/GUA210910222316.RAWS43D\n",
      "Este No l2_data/2021/09/10/Guaviare/GUA210910222316.RAWS43D\n",
      "l2_data/2021/09/10/Guaviare/GUA210910222504.RAWS43E\n",
      "299.0 [0.49987793]\n",
      "l2_data/2021/09/10/Guaviare/GUA210910222624.RAWS43H\n"
     ]
    },
    {
     "name": "stderr",
     "output_type": "stream",
     "text": [
      "/data/keeling/a/alfonso8/miniconda3/envs/rise/lib/python3.9/site-packages/pyart/io/sigmet.py:131: RuntimeWarning: invalid value encountered in sqrt\n",
      "  sigmet_data, sigmet_metadata = sigmetfile.read_data(full_xhdr=full_xhdr)\n"
     ]
    },
    {
     "name": "stdout",
     "output_type": "stream",
     "text": [
      "Este No l2_data/2021/09/10/Guaviare/GUA210910222624.RAWS43H\n",
      "l2_data/2021/09/10/Guaviare/GUA210910222816.RAWS43J\n",
      "Este No l2_data/2021/09/10/Guaviare/GUA210910222816.RAWS43J\n",
      "l2_data/2021/09/10/Guaviare/GUA210910223004.RAWS43N\n",
      "299.0 [0.49987793]\n",
      "l2_data/2021/09/10/Guaviare/GUA210910223123.RAWS43R\n"
     ]
    },
    {
     "name": "stderr",
     "output_type": "stream",
     "text": [
      "/data/keeling/a/alfonso8/miniconda3/envs/rise/lib/python3.9/site-packages/pyart/io/sigmet.py:131: RuntimeWarning: invalid value encountered in sqrt\n",
      "  sigmet_data, sigmet_metadata = sigmetfile.read_data(full_xhdr=full_xhdr)\n"
     ]
    },
    {
     "name": "stdout",
     "output_type": "stream",
     "text": [
      "Este No l2_data/2021/09/10/Guaviare/GUA210910223123.RAWS43R\n",
      "l2_data/2021/09/10/Guaviare/GUA210910223315.RAWS43S\n",
      "Este No l2_data/2021/09/10/Guaviare/GUA210910223315.RAWS43S\n",
      "l2_data/2021/09/10/Guaviare/GUA210910223504.RAWS43W\n",
      "299.0 [0.49987793]\n",
      "l2_data/2021/09/10/Guaviare/GUA210910223624.RAWS43Y\n"
     ]
    },
    {
     "name": "stderr",
     "output_type": "stream",
     "text": [
      "/data/keeling/a/alfonso8/miniconda3/envs/rise/lib/python3.9/site-packages/pyart/io/sigmet.py:131: RuntimeWarning: invalid value encountered in sqrt\n",
      "  sigmet_data, sigmet_metadata = sigmetfile.read_data(full_xhdr=full_xhdr)\n"
     ]
    },
    {
     "name": "stdout",
     "output_type": "stream",
     "text": [
      "Este No l2_data/2021/09/10/Guaviare/GUA210910223624.RAWS43Y\n",
      "l2_data/2021/09/10/Guaviare/GUA210910223816.RAWS43Z\n",
      "Este No l2_data/2021/09/10/Guaviare/GUA210910223816.RAWS43Z\n",
      "l2_data/2021/09/10/Guaviare/GUA210910224004.RAWS443\n",
      "299.0 [0.49987793]\n",
      "l2_data/2021/09/10/Guaviare/GUA210910224123.RAWS445\n"
     ]
    },
    {
     "name": "stderr",
     "output_type": "stream",
     "text": [
      "/data/keeling/a/alfonso8/miniconda3/envs/rise/lib/python3.9/site-packages/pyart/io/sigmet.py:131: RuntimeWarning: invalid value encountered in sqrt\n",
      "  sigmet_data, sigmet_metadata = sigmetfile.read_data(full_xhdr=full_xhdr)\n"
     ]
    },
    {
     "name": "stdout",
     "output_type": "stream",
     "text": [
      "Este No l2_data/2021/09/10/Guaviare/GUA210910224123.RAWS445\n",
      "l2_data/2021/09/10/Guaviare/GUA210910224314.RAWS446\n",
      "Este No l2_data/2021/09/10/Guaviare/GUA210910224314.RAWS446\n",
      "l2_data/2021/09/10/Guaviare/GUA210910224504.RAWS44A\n",
      "299.0 [0.49987793]\n",
      "l2_data/2021/09/10/Guaviare/GUA210910224623.RAWS44C\n"
     ]
    },
    {
     "name": "stderr",
     "output_type": "stream",
     "text": [
      "/data/keeling/a/alfonso8/miniconda3/envs/rise/lib/python3.9/site-packages/pyart/io/sigmet.py:131: RuntimeWarning: invalid value encountered in sqrt\n",
      "  sigmet_data, sigmet_metadata = sigmetfile.read_data(full_xhdr=full_xhdr)\n"
     ]
    },
    {
     "name": "stdout",
     "output_type": "stream",
     "text": [
      "Este No l2_data/2021/09/10/Guaviare/GUA210910224623.RAWS44C\n",
      "l2_data/2021/09/10/Guaviare/GUA210910224815.RAWS44D\n",
      "Este No l2_data/2021/09/10/Guaviare/GUA210910224815.RAWS44D\n",
      "l2_data/2021/09/10/Guaviare/GUA210910225004.RAWS44H\n",
      "299.0 [0.49987793]\n",
      "l2_data/2021/09/10/Guaviare/GUA210910225124.RAWS44K\n"
     ]
    },
    {
     "name": "stderr",
     "output_type": "stream",
     "text": [
      "/data/keeling/a/alfonso8/miniconda3/envs/rise/lib/python3.9/site-packages/pyart/io/sigmet.py:131: RuntimeWarning: invalid value encountered in sqrt\n",
      "  sigmet_data, sigmet_metadata = sigmetfile.read_data(full_xhdr=full_xhdr)\n"
     ]
    },
    {
     "name": "stdout",
     "output_type": "stream",
     "text": [
      "Este No l2_data/2021/09/10/Guaviare/GUA210910225124.RAWS44K\n",
      "l2_data/2021/09/10/Guaviare/GUA210910225316.RAWS44L\n",
      "Este No l2_data/2021/09/10/Guaviare/GUA210910225316.RAWS44L\n",
      "l2_data/2021/09/10/Guaviare/GUA210910225504.RAWS44R\n",
      "299.0 [0.49987793]\n",
      "l2_data/2021/09/10/Guaviare/GUA210910225623.RAWS44T\n"
     ]
    },
    {
     "name": "stderr",
     "output_type": "stream",
     "text": [
      "/data/keeling/a/alfonso8/miniconda3/envs/rise/lib/python3.9/site-packages/pyart/io/sigmet.py:131: RuntimeWarning: invalid value encountered in sqrt\n",
      "  sigmet_data, sigmet_metadata = sigmetfile.read_data(full_xhdr=full_xhdr)\n"
     ]
    },
    {
     "name": "stdout",
     "output_type": "stream",
     "text": [
      "Este No l2_data/2021/09/10/Guaviare/GUA210910225623.RAWS44T\n",
      "l2_data/2021/09/10/Guaviare/GUA210910225816.RAWS44U\n",
      "Este No l2_data/2021/09/10/Guaviare/GUA210910225816.RAWS44U\n",
      "l2_data/2021/09/10/Guaviare/GUA210910230123.RAWS44Z\n",
      "Este No l2_data/2021/09/10/Guaviare/GUA210910230123.RAWS44Z\n",
      "l2_data/2021/09/10/Guaviare/GUA210910230315.RAWS450\n",
      "Este No l2_data/2021/09/10/Guaviare/GUA210910230315.RAWS450\n",
      "l2_data/2021/09/10/Guaviare/GUA210910230622.RAWS455\n",
      "Este No l2_data/2021/09/10/Guaviare/GUA210910230622.RAWS455\n",
      "l2_data/2021/09/10/Guaviare/GUA210910230814.RAWS456\n",
      "Este No l2_data/2021/09/10/Guaviare/GUA210910230814.RAWS456\n",
      "l2_data/2021/09/10/Guaviare/GUA210910231124.RAWS45B\n",
      "Este No l2_data/2021/09/10/Guaviare/GUA210910231124.RAWS45B\n",
      "l2_data/2021/09/10/Guaviare/GUA210910231316.RAWS45C\n",
      "Este No l2_data/2021/09/10/Guaviare/GUA210910231316.RAWS45C\n",
      "l2_data/2021/09/10/Guaviare/GUA210910231504.RAWS45G\n",
      "299.0 [0.49987793]\n",
      "l2_data/2021/09/10/Guaviare/GUA210910231622.RAWS45J\n"
     ]
    },
    {
     "name": "stderr",
     "output_type": "stream",
     "text": [
      "/data/keeling/a/alfonso8/miniconda3/envs/rise/lib/python3.9/site-packages/pyart/io/sigmet.py:131: RuntimeWarning: invalid value encountered in sqrt\n",
      "  sigmet_data, sigmet_metadata = sigmetfile.read_data(full_xhdr=full_xhdr)\n"
     ]
    },
    {
     "name": "stdout",
     "output_type": "stream",
     "text": [
      "Este No l2_data/2021/09/10/Guaviare/GUA210910231622.RAWS45J\n",
      "l2_data/2021/09/10/Guaviare/GUA210910231815.RAWS45K\n",
      "Este No l2_data/2021/09/10/Guaviare/GUA210910231815.RAWS45K\n",
      "l2_data/2021/09/10/Guaviare/GUA210910232004.RAWS45P\n",
      "299.0 [0.49987793]\n",
      "l2_data/2021/09/10/Guaviare/GUA210910232123.RAWS45S\n"
     ]
    },
    {
     "name": "stderr",
     "output_type": "stream",
     "text": [
      "/data/keeling/a/alfonso8/miniconda3/envs/rise/lib/python3.9/site-packages/pyart/io/sigmet.py:131: RuntimeWarning: invalid value encountered in sqrt\n",
      "  sigmet_data, sigmet_metadata = sigmetfile.read_data(full_xhdr=full_xhdr)\n"
     ]
    },
    {
     "name": "stdout",
     "output_type": "stream",
     "text": [
      "Este No l2_data/2021/09/10/Guaviare/GUA210910232123.RAWS45S\n",
      "l2_data/2021/09/10/Guaviare/GUA210910232315.RAWS45T\n",
      "Este No l2_data/2021/09/10/Guaviare/GUA210910232315.RAWS45T\n",
      "l2_data/2021/09/10/Guaviare/GUA210910232504.RAWS45X\n",
      "299.0 [0.49987793]\n",
      "l2_data/2021/09/10/Guaviare/GUA210910232623.RAWS45Z\n"
     ]
    },
    {
     "name": "stderr",
     "output_type": "stream",
     "text": [
      "/data/keeling/a/alfonso8/miniconda3/envs/rise/lib/python3.9/site-packages/pyart/io/sigmet.py:131: RuntimeWarning: invalid value encountered in sqrt\n",
      "  sigmet_data, sigmet_metadata = sigmetfile.read_data(full_xhdr=full_xhdr)\n"
     ]
    },
    {
     "name": "stdout",
     "output_type": "stream",
     "text": [
      "Este No l2_data/2021/09/10/Guaviare/GUA210910232623.RAWS45Z\n",
      "l2_data/2021/09/10/Guaviare/GUA210910232815.RAWS460\n",
      "Este No l2_data/2021/09/10/Guaviare/GUA210910232815.RAWS460\n",
      "l2_data/2021/09/10/Guaviare/GUA210910233004.RAWS464\n",
      "299.0 [0.49987793]\n",
      "l2_data/2021/09/10/Guaviare/GUA210910233124.RAWS466\n"
     ]
    },
    {
     "name": "stderr",
     "output_type": "stream",
     "text": [
      "/data/keeling/a/alfonso8/miniconda3/envs/rise/lib/python3.9/site-packages/pyart/io/sigmet.py:131: RuntimeWarning: invalid value encountered in sqrt\n",
      "  sigmet_data, sigmet_metadata = sigmetfile.read_data(full_xhdr=full_xhdr)\n"
     ]
    },
    {
     "name": "stdout",
     "output_type": "stream",
     "text": [
      "Este No l2_data/2021/09/10/Guaviare/GUA210910233124.RAWS466\n",
      "l2_data/2021/09/10/Guaviare/GUA210910233316.RAWS467\n",
      "Este No l2_data/2021/09/10/Guaviare/GUA210910233316.RAWS467\n",
      "l2_data/2021/09/10/Guaviare/GUA210910233503.RAWS46B\n",
      "299.0 [0.49987793]\n",
      "l2_data/2021/09/10/Guaviare/GUA210910233623.RAWS46D\n"
     ]
    },
    {
     "name": "stderr",
     "output_type": "stream",
     "text": [
      "/data/keeling/a/alfonso8/miniconda3/envs/rise/lib/python3.9/site-packages/pyart/io/sigmet.py:131: RuntimeWarning: invalid value encountered in sqrt\n",
      "  sigmet_data, sigmet_metadata = sigmetfile.read_data(full_xhdr=full_xhdr)\n"
     ]
    },
    {
     "name": "stdout",
     "output_type": "stream",
     "text": [
      "Este No l2_data/2021/09/10/Guaviare/GUA210910233623.RAWS46D\n",
      "l2_data/2021/09/10/Guaviare/GUA210910233815.RAWS46F\n",
      "Este No l2_data/2021/09/10/Guaviare/GUA210910233815.RAWS46F\n",
      "l2_data/2021/09/10/Guaviare/GUA210910234004.RAWS46J\n",
      "299.0 [0.49987793]\n",
      "l2_data/2021/09/10/Guaviare/GUA210910234123.RAWS46L\n"
     ]
    },
    {
     "name": "stderr",
     "output_type": "stream",
     "text": [
      "/data/keeling/a/alfonso8/miniconda3/envs/rise/lib/python3.9/site-packages/pyart/io/sigmet.py:131: RuntimeWarning: invalid value encountered in sqrt\n",
      "  sigmet_data, sigmet_metadata = sigmetfile.read_data(full_xhdr=full_xhdr)\n"
     ]
    },
    {
     "name": "stdout",
     "output_type": "stream",
     "text": [
      "Este No l2_data/2021/09/10/Guaviare/GUA210910234123.RAWS46L\n",
      "l2_data/2021/09/10/Guaviare/GUA210910234316.RAWS46M\n",
      "Este No l2_data/2021/09/10/Guaviare/GUA210910234316.RAWS46M\n",
      "l2_data/2021/09/10/Guaviare/GUA210910234504.RAWS46S\n",
      "299.0 [0.49987793]\n",
      "l2_data/2021/09/10/Guaviare/GUA210910234623.RAWS46U\n"
     ]
    },
    {
     "name": "stderr",
     "output_type": "stream",
     "text": [
      "/data/keeling/a/alfonso8/miniconda3/envs/rise/lib/python3.9/site-packages/pyart/io/sigmet.py:131: RuntimeWarning: invalid value encountered in sqrt\n",
      "  sigmet_data, sigmet_metadata = sigmetfile.read_data(full_xhdr=full_xhdr)\n"
     ]
    },
    {
     "name": "stdout",
     "output_type": "stream",
     "text": [
      "Este No l2_data/2021/09/10/Guaviare/GUA210910234623.RAWS46U\n",
      "l2_data/2021/09/10/Guaviare/GUA210910234816.RAWS46V\n",
      "Este No l2_data/2021/09/10/Guaviare/GUA210910234816.RAWS46V\n",
      "l2_data/2021/09/10/Guaviare/GUA210910235004.RAWS46Y\n",
      "299.0 [0.49987793]\n",
      "l2_data/2021/09/10/Guaviare/GUA210910235123.RAWS471\n"
     ]
    },
    {
     "name": "stderr",
     "output_type": "stream",
     "text": [
      "/data/keeling/a/alfonso8/miniconda3/envs/rise/lib/python3.9/site-packages/pyart/io/sigmet.py:131: RuntimeWarning: invalid value encountered in sqrt\n",
      "  sigmet_data, sigmet_metadata = sigmetfile.read_data(full_xhdr=full_xhdr)\n"
     ]
    },
    {
     "name": "stdout",
     "output_type": "stream",
     "text": [
      "Este No l2_data/2021/09/10/Guaviare/GUA210910235123.RAWS471\n",
      "l2_data/2021/09/10/Guaviare/GUA210910235315.RAWS472\n",
      "Este No l2_data/2021/09/10/Guaviare/GUA210910235315.RAWS472\n",
      "l2_data/2021/09/10/Guaviare/GUA210910235504.RAWS476\n",
      "299.0 [0.49987793]\n",
      "l2_data/2021/09/10/Guaviare/GUA210910235623.RAWS478\n"
     ]
    },
    {
     "name": "stderr",
     "output_type": "stream",
     "text": [
      "/data/keeling/a/alfonso8/miniconda3/envs/rise/lib/python3.9/site-packages/pyart/io/sigmet.py:131: RuntimeWarning: invalid value encountered in sqrt\n",
      "  sigmet_data, sigmet_metadata = sigmetfile.read_data(full_xhdr=full_xhdr)\n"
     ]
    },
    {
     "name": "stdout",
     "output_type": "stream",
     "text": [
      "Este No l2_data/2021/09/10/Guaviare/GUA210910235623.RAWS478\n",
      "l2_data/2021/09/10/Guaviare/GUA210910235815.RAWS479\n",
      "Este No l2_data/2021/09/10/Guaviare/GUA210910235815.RAWS479\n"
     ]
    }
   ],
   "source": [
    "objects = []\n",
    "\n",
    "for obj in bucket.objects.filter(Prefix=prefix):\n",
    "    print(obj.key)\n",
    "    _, filename = os.path.split(obj.key)\n",
    "    path_save = f'data/{filename}'\n",
    "    bucket.download_file(obj.key, path_save)\n",
    "    radar = pyart.io.read_sigmet(f'{path_save}')\n",
    "    valid = valid_elev(radar)\n",
    "    if valid:\n",
    "        plt.close('all')\n",
    "        print(round(radar.range['data'][-1] / 1000, 0), radar.fixed_angle['data'])\n",
    "        display = pyart.graph.RadarDisplay(radar)\n",
    "        fig = plt.figure(figsize=(11,9))\n",
    "        ax = fig.add_subplot(111)\n",
    "        display.plot('velocity', vmin=-10, vmax=10)\n",
    "        display.plot_cross_hair(5.)\n",
    "        display.plot_range_ring(radar.range['data'][-1]/1000)\n",
    "        fig_save = f\"results/{d:%Y}{d:%m}{d:%d}/{radar_station}\"\n",
    "        make_dir(fig_save)\n",
    "        plt.savefig(f\"{fig_save}/{obj.key.split('/')[-1].split('.')[0]}_vel.png\")\n",
    "        plt.close('all')\n",
    "        del radar\n",
    "    else:\n",
    "        print('Este No', obj.key)\n",
    "        del radar\n",
    "        \n",
    "    os.remove(f'{path_save}')\n",
    "    "
   ]
  },
  {
   "cell_type": "code",
   "execution_count": null,
   "id": "724b630f",
   "metadata": {},
   "outputs": [],
   "source": []
  }
 ],
 "metadata": {
  "kernelspec": {
   "display_name": "Python [conda env:rise] *",
   "language": "python",
   "name": "conda-env-rise-py"
  },
  "language_info": {
   "codemirror_mode": {
    "name": "ipython",
    "version": 3
   },
   "file_extension": ".py",
   "mimetype": "text/x-python",
   "name": "python",
   "nbconvert_exporter": "python",
   "pygments_lexer": "ipython3",
   "version": "3.9.4"
  }
 },
 "nbformat": 4,
 "nbformat_minor": 5
}
