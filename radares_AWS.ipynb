{
 "cells": [
  {
   "cell_type": "code",
   "execution_count": 23,
   "metadata": {},
   "outputs": [],
   "source": [
    "from datetime import datetime\n",
    "import boto3\n",
    "import botocore\n",
    "from botocore.client import Config\n",
    "import warnings\n",
    "import pyart\n",
    "import os\n",
    "warnings.filterwarnings(\"ignore\", category=DeprecationWarning)"
   ]
  },
  {
   "cell_type": "code",
   "execution_count": 2,
   "metadata": {},
   "outputs": [],
   "source": [
    "s3 = boto3.resource('s3', config=Config(signature_version=botocore.UNSIGNED, \\\n",
    "                                    user_agent_extra='Resource'))\n",
    "bucket = s3.Bucket('s3-radaresideam')"
   ]
  },
  {
   "cell_type": "code",
   "execution_count": 3,
   "metadata": {},
   "outputs": [
    {
     "name": "stdout",
     "output_type": "stream",
     "text": [
      "                           PRE Barrancabermeja/\n",
      "                           PRE Guaviare/\n",
      "                           PRE Munchique/\n"
     ]
    }
   ],
   "source": [
    "!aws s3 ls s3://s3-radaresideam/l2_data/2021/10/03/ --no-sign-request"
   ]
  },
  {
   "cell_type": "code",
   "execution_count": 4,
   "metadata": {},
   "outputs": [],
   "source": [
    "d = datetime(2021, 10, 3, 12)\n",
    "radar_station = 'Guaviare'"
   ]
  },
  {
   "cell_type": "code",
   "execution_count": 6,
   "metadata": {},
   "outputs": [
    {
     "data": {
      "text/plain": [
       "'l2_data/2021/10/03/Guaviare/GUA21100312'"
      ]
     },
     "execution_count": 6,
     "metadata": {},
     "output_type": "execute_result"
    }
   ],
   "source": [
    "prefix = f'l2_data/{d:%Y}/{d:%m}/{d:%d}/{radar_station}/{radar_station[:3].upper()}{d:%y%m%d%H}'\n",
    "prefix"
   ]
  },
  {
   "cell_type": "code",
   "execution_count": 26,
   "metadata": {
    "scrolled": false
   },
   "outputs": [
    {
     "name": "stdout",
     "output_type": "stream",
     "text": [
      "l2_data/2021/10/03/Guaviare/GUA211003120004.RAWTNBC\n",
      "l2_data/2021/10/03/Guaviare/GUA211003120124.RAWTNBF\n",
      "l2_data/2021/10/03/Guaviare/GUA211003120316.RAWTNBH\n",
      "l2_data/2021/10/03/Guaviare/GUA211003120504.RAWTNBR\n",
      "l2_data/2021/10/03/Guaviare/GUA211003120624.RAWTNBV\n",
      "l2_data/2021/10/03/Guaviare/GUA211003120816.RAWTNBX\n",
      "l2_data/2021/10/03/Guaviare/GUA211003121004.RAWTNC4\n",
      "l2_data/2021/10/03/Guaviare/GUA211003121124.RAWTNC7\n",
      "l2_data/2021/10/03/Guaviare/GUA211003121315.RAWTNC9\n",
      "l2_data/2021/10/03/Guaviare/GUA211003121504.RAWTNCF\n",
      "l2_data/2021/10/03/Guaviare/GUA211003121623.RAWTNCJ\n",
      "l2_data/2021/10/03/Guaviare/GUA211003121816.RAWTNCL\n",
      "l2_data/2021/10/03/Guaviare/GUA211003122004.RAWTNCU\n",
      "l2_data/2021/10/03/Guaviare/GUA211003122123.RAWTNCY\n",
      "l2_data/2021/10/03/Guaviare/GUA211003122315.RAWTND0\n",
      "l2_data/2021/10/03/Guaviare/GUA211003122504.RAWTND7\n",
      "l2_data/2021/10/03/Guaviare/GUA211003122622.RAWTNDA\n",
      "l2_data/2021/10/03/Guaviare/GUA211003122814.RAWTNDC\n",
      "l2_data/2021/10/03/Guaviare/GUA211003123004.RAWTNDG\n",
      "l2_data/2021/10/03/Guaviare/GUA211003123123.RAWTNDM\n",
      "l2_data/2021/10/03/Guaviare/GUA211003123315.RAWTNDN\n",
      "l2_data/2021/10/03/Guaviare/GUA211003123504.RAWTNDW\n",
      "l2_data/2021/10/03/Guaviare/GUA211003123624.RAWTNE0\n",
      "l2_data/2021/10/03/Guaviare/GUA211003123817.RAWTNE2\n",
      "l2_data/2021/10/03/Guaviare/GUA211003124004.RAWTNE9\n",
      "l2_data/2021/10/03/Guaviare/GUA211003124124.RAWTNEC\n",
      "l2_data/2021/10/03/Guaviare/GUA211003124316.RAWTNEE\n",
      "l2_data/2021/10/03/Guaviare/GUA211003124504.RAWTNEK\n",
      "l2_data/2021/10/03/Guaviare/GUA211003124624.RAWTNEN\n",
      "l2_data/2021/10/03/Guaviare/GUA211003124816.RAWTNEP\n",
      "l2_data/2021/10/03/Guaviare/GUA211003125004.RAWTNEY\n",
      "l2_data/2021/10/03/Guaviare/GUA211003125124.RAWTNF2\n",
      "l2_data/2021/10/03/Guaviare/GUA211003125316.RAWTNF4\n",
      "l2_data/2021/10/03/Guaviare/GUA211003125504.RAWTNFB\n",
      "l2_data/2021/10/03/Guaviare/GUA211003125624.RAWTNFE\n",
      "l2_data/2021/10/03/Guaviare/GUA211003125815.RAWTNFG\n"
     ]
    }
   ],
   "source": [
    "objects = []\n",
    "\n",
    "for obj in bucket.objects.filter(Prefix=prefix):\n",
    "    print(obj.key)\n",
    "    objects.append(obj)\n",
    "    "
   ]
  },
  {
   "cell_type": "code",
   "execution_count": 21,
   "metadata": {},
   "outputs": [
    {
     "data": {
      "text/plain": [
       "s3.ObjectSummary(bucket_name='s3-radaresideam', key='l2_data/2021/10/03/Guaviare/GUA211003120004.RAWTNBC')"
      ]
     },
     "execution_count": 21,
     "metadata": {},
     "output_type": "execute_result"
    }
   ],
   "source": [
    "objects[0]"
   ]
  },
  {
   "cell_type": "code",
   "execution_count": 25,
   "metadata": {},
   "outputs": [],
   "source": [
    "for obj in objects:\n",
    "    paht, filename = os.path.split(obj.key)\n",
    "    bucket.download_file(obj.key, filename)\n"
   ]
  },
  {
   "cell_type": "code",
   "execution_count": 29,
   "metadata": {},
   "outputs": [
    {
     "data": {
      "text/plain": [
       "['C:\\\\Users\\\\ladin\\\\Downloads\\\\GUA211003120004.RAWTNBC',\n",
       " 'C:\\\\Users\\\\ladin\\\\Downloads\\\\GUA211003120124.RAWTNBF',\n",
       " 'C:\\\\Users\\\\ladin\\\\Downloads\\\\GUA211003120316.RAWTNBH',\n",
       " 'C:\\\\Users\\\\ladin\\\\Downloads\\\\GUA211003120504.RAWTNBR',\n",
       " 'C:\\\\Users\\\\ladin\\\\Downloads\\\\GUA211003120624.RAWTNBV',\n",
       " 'C:\\\\Users\\\\ladin\\\\Downloads\\\\GUA211003120816.RAWTNBX',\n",
       " 'C:\\\\Users\\\\ladin\\\\Downloads\\\\GUA211003121004.RAWTNC4',\n",
       " 'C:\\\\Users\\\\ladin\\\\Downloads\\\\GUA211003121124.RAWTNC7',\n",
       " 'C:\\\\Users\\\\ladin\\\\Downloads\\\\GUA211003121315.RAWTNC9',\n",
       " 'C:\\\\Users\\\\ladin\\\\Downloads\\\\GUA211003121504.RAWTNCF',\n",
       " 'C:\\\\Users\\\\ladin\\\\Downloads\\\\GUA211003121623.RAWTNCJ',\n",
       " 'C:\\\\Users\\\\ladin\\\\Downloads\\\\GUA211003121816.RAWTNCL',\n",
       " 'C:\\\\Users\\\\ladin\\\\Downloads\\\\GUA211003122004.RAWTNCU',\n",
       " 'C:\\\\Users\\\\ladin\\\\Downloads\\\\GUA211003122123.RAWTNCY',\n",
       " 'C:\\\\Users\\\\ladin\\\\Downloads\\\\GUA211003122315.RAWTND0',\n",
       " 'C:\\\\Users\\\\ladin\\\\Downloads\\\\GUA211003122504.RAWTND7',\n",
       " 'C:\\\\Users\\\\ladin\\\\Downloads\\\\GUA211003122622.RAWTNDA',\n",
       " 'C:\\\\Users\\\\ladin\\\\Downloads\\\\GUA211003122814.RAWTNDC',\n",
       " 'C:\\\\Users\\\\ladin\\\\Downloads\\\\GUA211003123004.RAWTNDG',\n",
       " 'C:\\\\Users\\\\ladin\\\\Downloads\\\\GUA211003123123.RAWTNDM',\n",
       " 'C:\\\\Users\\\\ladin\\\\Downloads\\\\GUA211003123315.RAWTNDN',\n",
       " 'C:\\\\Users\\\\ladin\\\\Downloads\\\\GUA211003123504.RAWTNDW',\n",
       " 'C:\\\\Users\\\\ladin\\\\Downloads\\\\GUA211003123624.RAWTNE0',\n",
       " 'C:\\\\Users\\\\ladin\\\\Downloads\\\\GUA211003123817.RAWTNE2',\n",
       " 'C:\\\\Users\\\\ladin\\\\Downloads\\\\GUA211003124004.RAWTNE9',\n",
       " 'C:\\\\Users\\\\ladin\\\\Downloads\\\\GUA211003124124.RAWTNEC',\n",
       " 'C:\\\\Users\\\\ladin\\\\Downloads\\\\GUA211003124316.RAWTNEE',\n",
       " 'C:\\\\Users\\\\ladin\\\\Downloads\\\\GUA211003124504.RAWTNEK',\n",
       " 'C:\\\\Users\\\\ladin\\\\Downloads\\\\GUA211003124624.RAWTNEN',\n",
       " 'C:\\\\Users\\\\ladin\\\\Downloads\\\\GUA211003124816.RAWTNEP',\n",
       " 'C:\\\\Users\\\\ladin\\\\Downloads\\\\GUA211003125004.RAWTNEY',\n",
       " 'C:\\\\Users\\\\ladin\\\\Downloads\\\\GUA211003125124.RAWTNF2',\n",
       " 'C:\\\\Users\\\\ladin\\\\Downloads\\\\GUA211003125316.RAWTNF4',\n",
       " 'C:\\\\Users\\\\ladin\\\\Downloads\\\\GUA211003125504.RAWTNFB',\n",
       " 'C:\\\\Users\\\\ladin\\\\Downloads\\\\GUA211003125624.RAWTNFE',\n",
       " 'C:\\\\Users\\\\ladin\\\\Downloads\\\\GUA211003125815.RAWTNFG']"
      ]
     },
     "execution_count": 29,
     "metadata": {},
     "output_type": "execute_result"
    }
   ],
   "source": [
    "import glob\n",
    "glob.glob(f'{os.getcwd()}/GUA*')\n"
   ]
  },
  {
   "cell_type": "code",
   "execution_count": null,
   "metadata": {},
   "outputs": [],
   "source": []
  }
 ],
 "metadata": {
  "kernelspec": {
   "display_name": "Python [conda env:radar]",
   "language": "python",
   "name": "conda-env-radar-py"
  },
  "language_info": {
   "codemirror_mode": {
    "name": "ipython",
    "version": 3
   },
   "file_extension": ".py",
   "mimetype": "text/x-python",
   "name": "python",
   "nbconvert_exporter": "python",
   "pygments_lexer": "ipython3",
   "version": "3.7.10"
  }
 },
 "nbformat": 4,
 "nbformat_minor": 4
}
